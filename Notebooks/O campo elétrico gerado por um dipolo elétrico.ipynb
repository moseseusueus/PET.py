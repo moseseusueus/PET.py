{
 "cells": [
  {
   "cell_type": "markdown",
   "metadata": {},
   "source": [
    "# O campo elétrico gerado por um dipolo elétrico"
   ]
  },
  {
   "cell_type": "markdown",
   "metadata": {},
   "source": [
    "* PET - Física UFRN\n",
    "* Petiano: Moisés da Rocha Alves\n",
    "* Data: 01 de Setembro de 2021\n",
    "\n",
    "O objetivo deste `Notebook` é conseguir gerar graficamente os resultados que envolvem o dipolo elétrico. Para isso, partiremos apenas do conceito do potencial elétrico de uma carga pontual. \n",
    "\n",
    "Resolveremos o problema de duas formas distintas: analiticamente e computacionalmente. O `Notebook`, neste caso, estará dividido em três seções principais:\n",
    "1. A solução analítica;\n",
    "2. O método computacional;\n",
    "3. Os resultados gráficos.\n",
    "\n",
    "Na primeira seção, apresenta-se a forma analítica de se resolver este tipo de problema. Na segunda seção, será mostrado como a solução pode ser simplificada, utilizando de algumas ferramentas computacionais. Finalmente, na terceira seção, serão expostos os resultados gráficos provenientes das soluções."
   ]
  },
  {
   "cell_type": "markdown",
   "metadata": {},
   "source": [
    "## 1. A solução analítica"
   ]
  },
  {
   "cell_type": "markdown",
   "metadata": {},
   "source": [
    "Suponha que dada uma distribuição de cargas discretizada, quisessemos calcular o campo elétrico resultante. Dado que sabemos que o potencial elétrico $\\phi$ para uma distância $r$ de uma carga pontual situada na origem vale $\\phi = q/4\\pi\\epsilon_0r$, poderíamos calcular o campo elétrico $E$ gerado por esta carga através da seguinte relação:"
   ]
  },
  {
   "cell_type": "markdown",
   "metadata": {},
   "source": [
    "$$\n",
    "\\vec{E} = -\\nabla\\phi.\n",
    "$$"
   ]
  },
  {
   "cell_type": "markdown",
   "metadata": {},
   "source": [
    "Isto é, basta que calculemos o gradiente do potencial elétrico. Neste caso, considerando que $r = \\sqrt{x^2 + y^2}$ para duas dimensões, obteríamos o seguinte desenvolvimento"
   ]
  },
  {
   "cell_type": "markdown",
   "metadata": {},
   "source": [
    "$$\n",
    "\\vec{E} = -\\bigl(\\frac{\\partial\\phi}{\\partial x}\\hat{\\imath} + \\frac{\\partial\\phi}{\\partial y}\\hat{\\jmath}\\bigr) = \n",
    "-\\bigl[\\frac{q}{4\\pi\\epsilon_0}(-\\frac{1}{r^2})\\frac{\\partial r}{\\partial x}\\hat{\\imath} + \n",
    "\\frac{q}{4\\pi\\epsilon_0}(-\\frac{1}{r^2})\\frac{\\partial r}{\\partial y}\\hat{\\jmath}\\bigr]\n",
    "= \\frac{q}{4\\pi\\epsilon_0}\\frac{1}{r^2}\\bigl(\\frac{\\partial r}{\\partial x}\\hat{\\imath} + \\frac{\\partial r}{\\partial y}\\hat{\\jmath}\\bigr).\n",
    "$$"
   ]
  },
  {
   "cell_type": "markdown",
   "metadata": {},
   "source": [
    "Segue, então, que $\\frac{\\partial r}{\\partial x} = \\frac{x}{r}$ e $\\frac{\\partial r}{\\partial y} = \\frac{y}{r}$. Usando do fato de que o vetor $\\vec{r}$ que vai da carga pontual até o ponto de interesse pode ser dado por $\\vec{r} = x\\hat{\\imath} + y\\hat{\\jmath}$, e que podemos considerar um vetor unitário que aponta no sentido de $\\vec{r}$ dado por $\\hat{r} = \\frac{\\vec{r}}{r}$, chegamos na usual expressão que temos para o campo elétrico gerado por uma carga pontual:"
   ]
  },
  {
   "cell_type": "markdown",
   "metadata": {},
   "source": [
    "$$\n",
    "\\vec{r}_{+qP} = \\vec{P} - \\vec{P}_{+q} = x\\hat{\\imath} + (y-d/2)\\hat{\\jmath},\n",
    "$$"
   ]
  },
  {
   "cell_type": "markdown",
   "metadata": {},
   "source": [
    "$$\n",
    "\\vec{E} = \\frac{q}{4\\pi\\epsilon_0}\\frac{1}{r^2} \\hat{r}.\n",
    "$$"
   ]
  },
  {
   "cell_type": "markdown",
   "metadata": {},
   "source": [
    "Agora, vamos ao dipolo elétrico. Consideremos existam duas cargas pontuais, $+q$ e $-q$, e que entre elas haja uma distância $d$. Por conveniência, as cargas estarão postas sobre o eixo $y$, de forma que a carga $+q$ esteja situada em $+d/2$ e a carga $-q$ esteja situada em $-d/2$ em $y$. \n",
    "\n",
    "Digamos que desejemos calcular o campo elétrico gerado por estas duas cargas em um ponto $P$ dado pelo vetor $\\vec{P} = x\\hat{\\imath} + y\\hat{\\jmath}$. Sabemos que a carga $+q$ tem sua posição dada pelo vetor $\\vec{P}_{+q} = d/2\\hat{\\jmath}$, enquanto a carga $-q$ tem sua posição dada pelo vetor $\\vec{P}_{-q} = -d/2\\hat{\\jmath}$. Assim, podemos calcular o vetor $\\vec{r}_{+qP}$, que vai da carga $+q$ até o ponto $P$, e o vetor $\\vec{r}_{-qP}$, que vai da carga $-q$ até o ponto $P$, tal que"
   ]
  },
  {
   "cell_type": "markdown",
   "metadata": {},
   "source": [
    "$$\n",
    "\\vec{r}_{-qP} = \\vec{P} - \\vec{P}_{-q} = x\\hat{\\imath} + (y+d/2)\\hat{\\jmath}.\n",
    "$$"
   ]
  },
  {
   "cell_type": "markdown",
   "metadata": {},
   "source": [
    "Assim, teremos que o módulo destes vetores poderá ser dado por"
   ]
  },
  {
   "cell_type": "markdown",
   "metadata": {},
   "source": [
    "$$\n",
    "{r}_{+qP} = \\sqrt{x^2 + (y-d/2)^2},\n",
    "$$"
   ]
  },
  {
   "cell_type": "markdown",
   "metadata": {},
   "source": [
    "$$\n",
    "{r}_{-qP} = \\sqrt{x^2 + (y+d/2)^2}.\n",
    "$$"
   ]
  },
  {
   "cell_type": "markdown",
   "metadata": {},
   "source": [
    "Estes resultados nos levam a escrever $\\hat{r}_{+qP}$ e $\\hat{r}_{-qP}$ como sendo os vetores unitários de $\\vec{r}_{+qP}$ e $\\vec{r}_{-qP}$, respectivamente, tal que"
   ]
  },
  {
   "cell_type": "markdown",
   "metadata": {},
   "source": [
    "$$\n",
    "\\hat{r}_{+qP} = \\frac{\\vec{r}_{+qP}}{{r}_{+qP}} = \\frac{x\\hat{\\imath} + (y-d/2)\\hat{\\jmath}}{\\sqrt{x^2 + (y-d/2)^2}}\n",
    "$$"
   ]
  },
  {
   "cell_type": "markdown",
   "metadata": {},
   "source": [
    "$$\n",
    "\\hat{r}_{-qP} = \\frac{\\vec{r}_{-qP}}{{r}_{-qP}} = \\frac{x\\hat{\\imath} + (y+d/2)\\hat{\\jmath}}{\\sqrt{x^2 + (y+d/2)^2}}\n",
    "$$"
   ]
  },
  {
   "cell_type": "markdown",
   "metadata": {},
   "source": [
    "Com estes resultados, podemos calcular o campo elétrico gerado no ponto $P$ através do princípio da superposição. Assim, o campo elétrico resultante gerado pelas duas cargas, $\\vec{E}_{res}$, poderá ser dado como a soma vetorial dos campos gerados por cada carga pontual, $\\vec{E}_{+q}$ e $\\vec{E}_{-q}$, sendo gerados pelas cargas $+q$ e $-q$, respectivamente, e portanto"
   ]
  },
  {
   "cell_type": "markdown",
   "metadata": {},
   "source": [
    "$$\n",
    "\\vec{E}_{res} = \\vec{E}_{+q} + \\vec{E}_{-q} = \\frac{q}{4\\pi\\epsilon_0}\\frac{1}{r^2_{+qP}}\\frac{x\\hat{\\imath} + (y-d/2)\\hat{\\jmath}}{\\sqrt{x^2 + (y-d/2)^2}} + \\frac{q}{4\\pi\\epsilon_0}\\frac{1}{r^2_{-qP}} \\frac{x\\hat{\\imath} + (y+d/2)\\hat{\\jmath}}{\\sqrt{x^2 + (y+d/2)^2}},\n",
    "$$"
   ]
  },
  {
   "cell_type": "markdown",
   "metadata": {},
   "source": [
    "que resulta na expressão final que gostaríamos de obter:"
   ]
  },
  {
   "cell_type": "markdown",
   "metadata": {},
   "source": [
    "$$\n",
    "\\vec{E}_{res} = \\frac{q}{4\\pi\\epsilon_0} \\bigl( \\frac{x\\hat{\\imath} + (y-d/2)\\hat{\\jmath}}{[x^2 + (y-d/2)^2]^{3/2}} + \\frac{x\\hat{\\imath} + (y+d/2)\\hat{\\jmath}}{[{x^2 + (y+d/2)^2}]^{3/2}} \\bigr).\n",
    "$$"
   ]
  }
 ],
 "metadata": {
  "language_info": {
   "name": "python"
  },
  "orig_nbformat": 4
 },
 "nbformat": 4,
 "nbformat_minor": 2
}
