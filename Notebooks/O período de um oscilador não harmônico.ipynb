{
 "cells": [
  {
   "cell_type": "markdown",
   "metadata": {},
   "source": [
    "# O período de um oscilador não harmônico"
   ]
  },
  {
   "cell_type": "markdown",
   "metadata": {},
   "source": [
    "* PET - Física UFRN\n",
    "* Petiano: Moisés da Rocha Alves\n",
    "* Data: 16 de Fevereiro de 2021\n",
    "\n",
    "O objetivo deste `Notebook` é descrever o período de um oscilador não harmônico utilizando recursos computacionais.\n",
    "\n",
    "Este `Notebook` ficará separado em duas seções principais. A primeira seção introduzirá o conceito de um oscilador não harmônico e forma de calcularmos seu período, enquanto na segunda seção será mostrado um exemplo de oscilador não harmônico.\n",
    "\n",
    "A inspiração para a criação deste `Notebook` veio de um problema tratado na referência [[1]]()."
   ]
  },
  {
   "cell_type": "markdown",
   "metadata": {},
   "source": [
    "### Importando as bibliotecas necessárias"
   ]
  },
  {
   "cell_type": "markdown",
   "metadata": {},
   "source": [
    "Neste `Notebook`, utilizaremos as bibliotecas `matplotlib`, `scipy` e `numpy`."
   ]
  },
  {
   "cell_type": "code",
   "execution_count": 1,
   "metadata": {},
   "outputs": [],
   "source": [
    "import matplotlib.pyplot as plt\n",
    "import scipy.integrate as sp\n",
    "import numpy as np"
   ]
  },
  {
   "cell_type": "markdown",
   "metadata": {},
   "source": [
    "## 1.1 O que é um oscilador não harmônico?"
   ]
  },
  {
   "cell_type": "markdown",
   "metadata": {},
   "source": [
    "Nas oscilações harmônicas, tínhamos que a força restauradora era proporcional em magnitude (e oposta em direção) ao deslocamento de $x$ em relação a sua posição natural $x_0$. A equação diferencial resultante desta afirmação nos dirá que $x$ oscilará de forma senoidal ao longo do tempo e com um período inerente ao sistema. Isso significa, também, que $x$ poderá oscilar com qualquer amplitude, mas o período sempre será o mesmo.\n",
    "\n",
    "As oscilações não harmônicas, entretanto, tem como característica fundamental a não lineariedade da força restauradora em relação ao deslocamento de $x$. Como resultado dessa não lineariedade, a frequência deste sistema pode mudar dependendo do deslocamento neste sistema. Desta forma, o período de um oscilador não harmônico pode vir a depender da amplitude do movimento.\n",
    "\n",
    "Fato é que o comportamento deste tipo de oscilação não pode, geralmente, ser descrito de forma analítica (eis a razão deste Notebook ter sido produzido). Para resolvermos isso, construíremos uma abordagem computacional de resolver o problema."
   ]
  },
  {
   "cell_type": "markdown",
   "metadata": {},
   "source": [
    "## 1.2 Encontrando uma expressão para o período"
   ]
  },
  {
   "cell_type": "markdown",
   "metadata": {},
   "source": [
    "Um oscilador genérico clássico pode ser descrito como uma partícula presa em um poço de potencial côncavo. Quando este sistema é perturbado, a partícula irá oscilar de um lado a outro neste poço.\n",
    "\n",
    "<img src=\"../Imagens/potentialwell.png\" style=\"margin:auto\"/>\n",
    "\n",
    "Note que um oscilador harmônico terá um potencial correspondente proporcional ao quadrado de $x$. Isto é, $V(x) \\propto x^2$ (por exemplo, para um MHS no caso de uma mola sujeita a uma força restauradora $F=-kx$, teremos um potencial $V(x)$ associado que vale $V(x) = \\frac{1}{2}kx^2$). Desta forma, qualquer outra forma de potencial nos dará um oscilador não harmônico.\n",
    "\n",
    "Podemos calcular o movimento de um oscilador através da conservação da energia do sistema. Isto é, se a partícula tem massa $m$ e posição $x$, teremos uma energia total igual a soma das energias cinética e potencial. Assim:"
   ]
  },
  {
   "cell_type": "markdown",
   "metadata": {},
   "source": [
    "$$\n",
    "E = \\frac{1}{2} m \\bigg(\\frac{dx}{dt}\\bigg)^2 + V(x).\n",
    "$$"
   ]
  },
  {
   "cell_type": "markdown",
   "metadata": {},
   "source": [
    "Como a energia deve ser constante no tempo, temos então uma equação diferencial de $x$ e $t$."
   ]
  },
  {
   "cell_type": "markdown",
   "metadata": {},
   "source": [
    "Devemos, agora, assumir que o potencial $V(x)$ é simétrico em relação a $x=0$ e que o oscilador não harmônico terá uma amplitude $a$. Iremos assumir, também, que em um tempo $t = 0$ soltaremos o oscilador de sua posição de repouso em $x = a$. Desta forma, em $t = 0$, teremos que $\\frac{dx}{dt} = 0$ e, portanto, a energia total para este tempo será dada por $E = V(a)$.\n",
    "\n",
    "Assim, ficaremos com a seguinte equação (lembre-se que $E$ é constante no tempo):"
   ]
  },
  {
   "cell_type": "markdown",
   "metadata": {},
   "source": [
    "$$\n",
    "V(a) = \\frac{1}{2} m \\bigg(\\frac{dx}{dt}\\bigg)^2 + V(x).\n",
    "$$"
   ]
  },
  {
   "cell_type": "markdown",
   "metadata": {},
   "source": [
    "Se rearranjarmos a expressão, ficaremos com:"
   ]
  },
  {
   "cell_type": "markdown",
   "metadata": {},
   "source": [
    "$$\n",
    "\\frac{dx}{dt} = \\sqrt{\\frac{2}{m}} \\sqrt{V(a) - V(x)}.\n",
    "$$"
   ]
  },
  {
   "cell_type": "markdown",
   "metadata": {},
   "source": [
    "Onde, rearrajando novamente, e escrevendo em termos dos diferenciais:"
   ]
  },
  {
   "cell_type": "markdown",
   "metadata": {},
   "source": [
    "$$\n",
    "\\sqrt{\\frac{m}{2}} \\frac{1}{\\sqrt{V(a) - V(x)}} dx = dt.\n",
    "$$"
   ]
  },
  {
   "cell_type": "markdown",
   "metadata": {},
   "source": [
    "Aqui, lembremos que quando a partícula chega a origem pela primeira vez, ela terá percorrido cerca de $1/4$ do período $T$ do oscilador. Portanto, devemos integrar a equação para $t$ de $0$ até $\\frac{1}{4}T$, e para $x$ de $0$ até $a$. Assim:"
   ]
  },
  {
   "cell_type": "markdown",
   "metadata": {},
   "source": [
    "$$\n",
    "\\int_{0}^{a} \\sqrt{\\frac{m}{2}} \\frac{1}{\\sqrt{V(a) - V(x)}} dx = \\int_{0}^{\\frac{1}{4}T} dt.\n",
    "$$"
   ]
  },
  {
   "cell_type": "markdown",
   "metadata": {},
   "source": [
    "E, portanto, resolvendo a integral para $t$ e escrevendo a equação em termos do período, teremos:"
   ]
  },
  {
   "cell_type": "markdown",
   "metadata": {},
   "source": [
    "$$\n",
    "T = \\sqrt{8m} \\int_{0}^{a} \\frac{1}{\\sqrt{V(a) - V(x)}} dx,\n",
    "$$"
   ]
  },
  {
   "cell_type": "markdown",
   "metadata": {},
   "source": [
    "que corresponde a nossa expressão desejada para o período de um oscilador.\n",
    "\n",
    "Agora, queremos ver como o período de um oscilador não harmônico se comporta em função de um certo conjunto de valores de $a$, dado um valor para o potencial $V(x)$."
   ]
  },
  {
   "cell_type": "markdown",
   "metadata": {},
   "source": [
    "## 2.1 Computando o período de um oscilador harmônico"
   ]
  },
  {
   "cell_type": "markdown",
   "metadata": {},
   "source": [
    "Primeiramente, antes de tratarmos um oscilador não harmônico, computemos o caso simples. Isto é, calcularemos o período de um oscilador harmônico utilizando o método proposto. \n",
    "\n",
    "Definiremos, assim, o potencial $V(x)$ como sendo $V(x) = x^2$, que corresponde ao potencial de um oscilador harmônico (isto é, $V(x) \\propto x^2$). Definiremos a função V(x) que representará o potencial e a função f(x) a ser integrada. Consideraremos, também, para fins práticos, que $m=1$ (as unidades serão omitidas a partir daqui, mas apenas considere que todos os valores estão em unidades do SI, se necessário)."
   ]
  },
  {
   "cell_type": "code",
   "execution_count": 2,
   "metadata": {},
   "outputs": [],
   "source": [
    "def V(x):\n",
    "    return x**2\n",
    "\n",
    "def f(x,a):\n",
    "    return 1/np.sqrt(V(a) - V(x))\n",
    "\n",
    "m = 1"
   ]
  },
  {
   "cell_type": "markdown",
   "metadata": {},
   "source": [
    "Agora, definiremos os valores de $a$ variando de $a = 0.1$ até $a = 2.0$ com $100$ pontos utilizando a função `linspace` do `numpy`. Definiremos, também, uma lista vazia que conterá os valores dos períodos."
   ]
  },
  {
   "cell_type": "code",
   "execution_count": 3,
   "metadata": {},
   "outputs": [],
   "source": [
    "a_list = np.linspace(0.1, 2.0, 100)\n",
    "T_list = []"
   ]
  },
  {
   "cell_type": "markdown",
   "metadata": {},
   "source": [
    "E, então, utilizando a função `quad` do `scipy.integrate` para resolvermos a integral dada, calcularemos o resultado do período para cada valor de $a$."
   ]
  },
  {
   "cell_type": "code",
   "execution_count": 4,
   "metadata": {},
   "outputs": [],
   "source": [
    "for a in a_list:\n",
    "    val_int, error = sp.quad(f, 0, a, args=(a,))\n",
    "    T = np.sqrt(8*m)*val_int\n",
    "    T_list.append(T)"
   ]
  },
  {
   "cell_type": "markdown",
   "metadata": {},
   "source": [
    "Por fim, faremos o plot do gráfico."
   ]
  },
  {
   "cell_type": "code",
   "execution_count": 5,
   "metadata": {},
   "outputs": [
    {
     "data": {
      "image/png": "[encoded data removed]",
      "text/plain": [
       "<Figure size 432x288 with 1 Axes>"
      ]
     },
     "metadata": {
      "needs_background": "light"
     },
     "output_type": "display_data"
    }
   ],
   "source": [
    "plt.plot(a_list, T_list)\n",
    "plt.title(\"Período (T) em função da amplitude (a) para um oscilador harmônico\")\n",
    "plt.xlabel(\"a\")\n",
    "plt.ylabel(\"T\")\n",
    "plt.ylim(4.43,4.46)\n",
    "plt.show()"
   ]
  },
  {
   "cell_type": "markdown",
   "metadata": {},
   "source": [
    "Podemos ver, então, que o período permanece constante mesmo que a amplitude seja alterada, conforme o esperado para um oscilador harmônico.\n",
    "\n",
    "O período vale exatamente o valor teórico previsto para um MHS: $T = 2\\pi \\sqrt{\\frac{m}{k}}$, com $k = 2$ para este caso ($T \\approx 4.44288$)."
   ]
  },
  {
   "cell_type": "markdown",
   "metadata": {},
   "source": [
    "## 2.2 Computando o período de um oscilador não harmônico"
   ]
  },
  {
   "cell_type": "markdown",
   "metadata": {},
   "source": [
    "Faremos um procedimento análogo a situação anterior, entretanto consideraremos agora que $V(x) = x^4$, o que fará com que o nosso oscilador seja agora não harmônico."
   ]
  },
  {
   "cell_type": "code",
   "execution_count": 6,
   "metadata": {},
   "outputs": [],
   "source": [
    "def V(x):\n",
    "    return x**4"
   ]
  },
  {
   "cell_type": "markdown",
   "metadata": {},
   "source": [
    "Definiremos novamente a lista vazia que conterá os valores dos períodos e calcularemos novamente o valor para os períodos em função dos valores de $a$."
   ]
  },
  {
   "cell_type": "code",
   "execution_count": 7,
   "metadata": {},
   "outputs": [],
   "source": [
    "T_list = []\n",
    "\n",
    "for a in a_list:\n",
    "    val_int, error = sp.quad(f, 0, a, args=(a,))\n",
    "    T = np.sqrt(8*m)*val_int\n",
    "    T_list.append(T)"
   ]
  },
  {
   "cell_type": "markdown",
   "metadata": {},
   "source": [
    "Por fim, faremos novamente o plot."
   ]
  },
  {
   "cell_type": "code",
   "execution_count": 8,
   "metadata": {},
   "outputs": [
    {
     "data": {
      "image/png": "[encoded data removed]",
      "text/plain": [
       "<Figure size 432x288 with 1 Axes>"
      ]
     },
     "metadata": {
      "needs_background": "light"
     },
     "output_type": "display_data"
    }
   ],
   "source": [
    "plt.plot(a_list, T_list)\n",
    "plt.title(\"Período (T) em função da amplitude (a) para um oscilador não harmônico\")\n",
    "plt.xlabel(\"a\")\n",
    "plt.ylabel(\"T\")\n",
    "plt.show()"
   ]
  },
  {
   "cell_type": "markdown",
   "metadata": {},
   "source": [
    "Note que o oscilador se torna cada vez mais rápido a medida que aumentamos a amplitude. Também, quando a amplitude tende a $0$, o período diverge. \n",
    "\n",
    "Como a amplitude de oscilação efetivamente altera o período do oscilador, concluímos que definitivamente este é um oscilador não harmônico."
   ]
  },
  {
   "cell_type": "markdown",
   "metadata": {},
   "source": [
    "## Referências"
   ]
  },
  {
   "cell_type": "markdown",
   "metadata": {},
   "source": [
    "<a id=\"ref1\"></a>\n",
    "[[1]]() Mark Newman - Computational Physics (2013, University of Michigan)."
   ]
  }
 ],
 "metadata": {
  "interpreter": {
   "hash": "0e1898d504e473bdd4635340539d41a5cecc72accb8598f6f0c7bcb5921af418"
  },
  "kernelspec": {
   "display_name": "Python 3.8.8 32-bit ('base': conda)",
   "language": "python",
   "name": "python3"
  },
  "language_info": {
   "codemirror_mode": {
    "name": "ipython",
    "version": 3
   },
   "file_extension": ".py",
   "mimetype": "text/x-python",
   "name": "python",
   "nbconvert_exporter": "python",
   "pygments_lexer": "ipython3",
   "version": "3.8.8"
  },
  "orig_nbformat": 4
 },
 "nbformat": 4,
 "nbformat_minor": 2
}
