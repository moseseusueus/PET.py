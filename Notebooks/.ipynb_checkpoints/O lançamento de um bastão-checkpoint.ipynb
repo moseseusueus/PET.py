{
 "cells": [
  {
   "cell_type": "markdown",
   "metadata": {},
   "source": [
    "# O lançamento de um bastão"
   ]
  },
  {
   "cell_type": "markdown",
   "metadata": {},
   "source": [
    "* PET - Física UFRN\n",
    "* Petiano: Moisés da Rocha Alves\n",
    "* Data: 01 de Setembro de 2021\n",
    "\n",
    "O objetivo deste `Notebook` é conseguir explicar o lançamento de um bastão utilizando de alguns princípios da mecânica clássica e, a partir disso, gerar alguns resultados graficamente interessantes.\n",
    "\n",
    "O `Notebook` estará dividido em três seções principais:\n",
    "1. Definindo as condições iniciais do movimento do bastão;\n",
    "2. Resolvendo e plotando o gráfico do movimento do bastão em função do tempo;\n",
    "3. Outros dados interessantes.\n",
    "\n",
    "A primeira seção é destinada a fundamentar o contexto físico do movimento do bastão, enquanto a segunda seção é destinada a encontrar uma solução para este movimento em função do tempo.\n",
    "\n",
    "Já na terceira seção, encontraremos alguns outros resultados interessantes como uma função do tempo, como: a energia cinética translacional, a energia cinética rotacional e a energia potencial do bastão."
   ]
  },
  {
   "cell_type": "markdown",
   "metadata": {},
   "source": [
    "## Importando as bibliotecas necessárias\n"
   ]
  },
  {
   "cell_type": "markdown",
   "metadata": {},
   "source": [
    "Neste `Notebook`, utilizaremos as bibliotecas Numpy, Matplotlib e Scipy."
   ]
  },
  {
   "cell_type": "code",
   "execution_count": 1,
   "metadata": {},
   "outputs": [],
   "source": [
    "from scipy.constants import g\n",
    "from numpy import sin, cos, linspace, pi\n",
    "import matplotlib.pyplot as plt\n",
    "import matplotlib.animation as animation"
   ]
  },
  {
   "cell_type": "markdown",
   "metadata": {},
   "source": [
    "## 1. Definindo as condições iniciais do movimento do bastão"
   ]
  },
  {
   "cell_type": "markdown",
   "metadata": {},
   "source": [
    "Primeiramente, devemos definir as condições iniciais de lançamento do bastão. Dito isto, podemos imaginar o lançamento de um bastão, ignorando a resistência do ar, como um movimento de translação e de rotação que agem conjuntamente de forma independente. \n",
    "\n",
    "Assim, o centro de massa do bastão será arremessado com uma velocidade $v_0$ e um certo ângulo $\\theta$ do plano horizontal e, além disso, aplicaremos certa velocidade angular $\\omega$ em torno do centro de massa do bastão.\n",
    "\n",
    "Ainda, iremos supor que hajam duas massas $m_a$ e $m_b$ acopladas a cada extremidadade do bastão e que o bastão tem um certo comprimento $L$.\n",
    "\n",
    "Desta forma, as condições iniciais do lançamento do bastão podem ser resumidas por meio da imagem a seguir, onde o centro de massa é marcado com um \"X\".\n",
    "\n",
    "![Condições iniciais do lançamento do bastão](condicoes_bastao.png)"
   ]
  },
  {
   "cell_type": "markdown",
   "metadata": {},
   "source": [
    "## 2. Resolvendo e plotando o gráfico do movimento do bastão em função do tempo"
   ]
  },
  {
   "cell_type": "markdown",
   "metadata": {},
   "source": [
    "Como o movimento do centro de massa do bastão pode ser descrito como, basicamente, um lançamento oblíquo, podemos escrever as coordenadas do centro de massa $x_{cm}$ e $y_{cm}$ como:"
   ]
  },
  {
   "cell_type": "markdown",
   "metadata": {},
   "source": [
    "$$\n",
    "x_{cm} = V_{0x}t\n",
    "$$\n",
    "\n",
    "$$\n",
    "y_{cm} = V_{0y}t - \\frac{1}{2}gt^2\n",
    "$$"
   ]
  }
 ],
 "metadata": {
  "interpreter": {
   "hash": "0e1898d504e473bdd4635340539d41a5cecc72accb8598f6f0c7bcb5921af418"
  },
  "kernelspec": {
   "display_name": "Python 3",
   "language": "python",
   "name": "python3"
  },
  "language_info": {
   "codemirror_mode": {
    "name": "ipython",
    "version": 3
   },
   "file_extension": ".py",
   "mimetype": "text/x-python",
   "name": "python",
   "nbconvert_exporter": "python",
   "pygments_lexer": "ipython3",
   "version": "3.8.8"
  }
 },
 "nbformat": 4,
 "nbformat_minor": 2
}
