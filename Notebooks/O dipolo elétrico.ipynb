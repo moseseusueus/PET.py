{
 "cells": [
  {
   "cell_type": "markdown",
   "metadata": {},
   "source": [
    "# O dipolo elétrico"
   ]
  },
  {
   "cell_type": "markdown",
   "metadata": {},
   "source": [
    "* PET - Física UFRN\n",
    "* Petiano: Moisés da Rocha Alves\n",
    "* Data: 01 de Setembro de 2021\n",
    "\n",
    "O objetivo deste `Notebook` é conseguir gerar graficamente os resultados que envolvem o dipolo elétrico. Para isso, partiremos apenas do conceito do potencial elétrico de uma carga pontual. \n",
    "\n",
    "Resolveremos o problema de duas formas distintas: analiticamente e computacionalmente. O `Notebook`, neste caso, estará dividido em três seções principais:\n",
    "1. A solução analítica;\n",
    "2. O método computacional;\n",
    "3. Os resultados gráficos.\n",
    "\n",
    "Na primeira seção, apresenta-se a forma analítica de se resolver este tipo de problema. Na segunda seção, será mostrado como a solução pode ser simplificada, utilizando de algumas ferramentas computacionais. Finalmente, na terceira seção, serão expostos os resultados gráficos provenientes das soluções."
   ]
  },
  {
   "cell_type": "markdown",
   "metadata": {},
   "source": [
    "### Importando as bibliotecas necessárias\n"
   ]
  },
  {
   "cell_type": "markdown",
   "metadata": {},
   "source": [
    "## 1. A solução analítica"
   ]
  },
  {
   "cell_type": "markdown",
   "metadata": {},
   "source": [
    "Suponha que dada uma distribuição de cargas discretizada, quisessemos calcular o campo elétrico resultante. Dado que sabemos que o potencial elétrico $\\phi$ de uma carga pontual vale $\\phi = q/4\\pi\\epsilon_0r$, poderíamos calcular o campo elétrico $E$ gerado por esta carga através da seguinte relação,"
   ]
  },
  {
   "cell_type": "markdown",
   "metadata": {},
   "source": [
    "$$\n",
    "E = -\\nabla\\phi.\n",
    "$$"
   ]
  },
  {
   "cell_type": "markdown",
   "metadata": {},
   "source": [
    "Isto é, basta que calculemos o gradiente do potencial elétrico. Neste caso, considerando que $r = \\sqrt{x^2 + y^2}$ para duas dimensões, obteríamos o seguinte desenvolvimento, considerando uma carga pontual:"
   ]
  },
  {
   "cell_type": "markdown",
   "metadata": {},
   "source": [
    "$$\n",
    "E = -\\bigl(\\frac{\\partial\\phi}{\\partial x}\\hat{\\imath} + \\frac{\\partial\\phi}{\\partial y}\\hat{\\jmath}\\bigr) = \n",
    "-\\bigl[\\frac{q}{4\\pi\\epsilon_0}(-\\frac{1}{r^2})\\frac{\\partial r}{\\partial x}\\hat{\\imath} + \n",
    "\\frac{q}{4\\pi\\epsilon_0}(-\\frac{1}{r^2})\\frac{\\partial r}{\\partial y}\\hat{\\jmath}\\bigr]\n",
    "= \\frac{q}{4\\pi\\epsilon_0}\\frac{1}{r^2}\\bigl(\\frac{\\partial r}{\\partial x}\\hat{\\imath} + \\frac{\\partial r}{\\partial y}\\hat{\\jmath}\\bigr).\n",
    "$$"
   ]
  },
  {
   "cell_type": "markdown",
   "metadata": {},
   "source": [
    "Como $\\frac{\\partial r}{\\partial x} = \\frac{x}{r}$ e $\\frac{\\partial r}{\\partial y} = \\frac{y}{r}$, usando o fato de que $\\vec{r} = x\\hat{\\imath} + y\\hat{\\jmath}$ e que $\\hat{r} = \\frac{\\vec{r}}{r}$, podemos escrever a usual expressão que temos para o campo elétrico de uma carga pontual,"
   ]
  },
  {
   "cell_type": "markdown",
   "metadata": {},
   "source": [
    "$$\n",
    "E = \\frac{q}{4\\pi\\epsilon_0}\\frac{1}{r^2} \\hat{r}.\n",
    "$$"
   ]
  },
  {
   "cell_type": "markdown",
   "metadata": {},
   "source": [
    "Agora, vamos ao dipolo elétrico. Consideremos existam duas cargas, $q_1$ e $q_2$, e que entre elas há uma distância $d$ que as separa. Por conveniência, as cargas estarão postas sobre o eixo $y$, de forma que a carga $q_1$ esteja situada em $+d/2$ e a carga $q_2$ esteja situada em $-d/2$ em $y$."
   ]
  }
 ],
 "metadata": {
  "language_info": {
   "name": "python"
  },
  "orig_nbformat": 4
 },
 "nbformat": 4,
 "nbformat_minor": 2
}
