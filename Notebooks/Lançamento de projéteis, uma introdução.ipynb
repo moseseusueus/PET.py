{
 "cells": [
  {
   "cell_type": "markdown",
   "metadata": {},
   "source": [
    "# Lançamento de projéteis: uma introdução"
   ]
  },
  {
   "cell_type": "markdown",
   "metadata": {},
   "source": [
    "* PET - Física UFRN\n",
    "* Petiano: Moisés da Rocha Alves\n",
    "* Data: 14 de Setembro de 2022\n",
    "\n",
    "O objetivo deste `Notebook` é introduzirmos o lançamento de projéteis, como o nome já indica. Descreveremos o problema e, a medida que formos prosseguindo, adicionaremos mais complexidade nele.\n",
    "\n",
    "Dito isto, este `Notebook` estará dividido em três seções principais:\n",
    "1. A descrição do lançamento de um projétil\n",
    "2. A resistência do ar\n",
    "3. Adicionando mais um grau de complexidade: a densidade do ar\n",
    "\n",
    "Agora vamos as bibliotecas e ao `Notebook` de fato."
   ]
  },
  {
   "cell_type": "markdown",
   "metadata": {},
   "source": [
    "### Importando as bibliotecas necessárias"
   ]
  },
  {
   "cell_type": "markdown",
   "metadata": {},
   "source": [
    "Neste `Notebook`, utilizaremos as bibliotecas `matplotlib`, `numpy` e `scipy`."
   ]
  },
  {
   "cell_type": "code",
   "execution_count": 1,
   "metadata": {},
   "outputs": [],
   "source": [
    "import matplotlib.pyplot as plt\n",
    "import scipy.constants as sconst\n",
    "import numpy as np"
   ]
  },
  {
   "cell_type": "markdown",
   "metadata": {},
   "source": [
    "### Detalhes das bibliotecas"
   ]
  },
  {
   "cell_type": "code",
   "execution_count": 2,
   "metadata": {},
   "outputs": [
    {
     "data": {
      "application/json": {
       "Software versions": [
        {
         "module": "Python",
         "version": "3.9.12 64bit [MSC v.1916 64 bit (AMD64)]"
        },
        {
         "module": "IPython",
         "version": "8.2.0"
        },
        {
         "module": "OS",
         "version": "Windows 10 10.0.19042 SP0"
        },
        {
         "module": "Matplotlib",
         "version": "3.5.1"
        },
        {
         "module": "Numpy",
         "version": "1.21.5"
        },
        {
         "module": "Scipy",
         "version": "1.7.3"
        }
       ]
      },
      "text/html": [
       "<table><tr><th>Software</th><th>Version</th></tr><tr><td>Python</td><td>3.9.12 64bit [MSC v.1916 64 bit (AMD64)]</td></tr><tr><td>IPython</td><td>8.2.0</td></tr><tr><td>OS</td><td>Windows 10 10.0.19042 SP0</td></tr><tr><td>Matplotlib</td><td>3.5.1</td></tr><tr><td>Numpy</td><td>1.21.5</td></tr><tr><td>Scipy</td><td>1.7.3</td></tr><tr><td colspan='2'>Mon Sep 12 19:38:49 2022 Hora Padrão de Buenos Aires</td></tr></table>"
      ],
      "text/latex": [
       "\\begin{tabular}{|l|l|}\\hline\n",
       "{\\bf Software} & {\\bf Version} \\\\ \\hline\\hline\n",
       "Python & 3.9.12 64bit [MSC v.1916 64 bit (AMD64)] \\\\ \\hline\n",
       "IPython & 8.2.0 \\\\ \\hline\n",
       "OS & Windows 10 10.0.19042 SP0 \\\\ \\hline\n",
       "Matplotlib & 3.5.1 \\\\ \\hline\n",
       "Numpy & 1.21.5 \\\\ \\hline\n",
       "Scipy & 1.7.3 \\\\ \\hline\n",
       "\\hline \\multicolumn{2}{|l|}{Mon Sep 12 19:38:49 2022 Hora Padrão de Buenos Aires} \\\\ \\hline\n",
       "\\end{tabular}\n"
      ],
      "text/plain": [
       "Software versions\n",
       "Python 3.9.12 64bit [MSC v.1916 64 bit (AMD64)]\n",
       "IPython 8.2.0\n",
       "OS Windows 10 10.0.19042 SP0\n",
       "Matplotlib 3.5.1\n",
       "Numpy 1.21.5\n",
       "Scipy 1.7.3\n",
       "Mon Sep 12 19:38:49 2022 Hora Padrão de Buenos Aires"
      ]
     },
     "execution_count": 2,
     "metadata": {},
     "output_type": "execute_result"
    }
   ],
   "source": [
    "%load_ext version_information\n",
    "%version_information Matplotlib, Numpy, Scipy"
   ]
  },
  {
   "cell_type": "markdown",
   "metadata": {},
   "source": [
    "## 1. A descrição do lançamento de um projétil"
   ]
  },
  {
   "cell_type": "markdown",
   "metadata": {},
   "source": [
    "Bom, primeiramente nos perguntemos: qual a maneira mais simples que temos de descrevermos um projétil? Queremos imaginar um projétil que seja disparado de algum lugar, com certa velocidade e ângulos específicos dados no início do lançamento.\n",
    "\n",
    "Para responder a pergunta, faremos o que sempre é feito na física como um todo: abstrair o problema e tentar examinar-lo sem muitos graus de complexidade. Isto será feito para que possamos obter uma descrição mais fundamental (e também mais simples) do problema. Sendo assim, partiremos pra descrição física que o leitor já deve estar habituado: a de um lançamento oblíquo (não entrarei em detalhes neste `Notebook` sobre esta descrição, já que ela pode ser encontrada em vários lugares da internet).\n",
    "\n",
    "Sendo assim, podemos descrever o projétil em sua forma mais fundamental com as seguintes equações diferenciais:\n",
    "\n",
    "$$\n",
    "\\frac{d^2x}{dt^2} = 0\n",
    "$$\n",
    "$$\n",
    "\\frac{d^2y}{dt^2} = -g\n",
    "$$\n",
    "\n",
    "E, bom, essas equações diferenciais são simples "
   ]
  }
 ],
 "metadata": {
  "kernelspec": {
   "display_name": "Python 3.9.12 ('base')",
   "language": "python",
   "name": "python3"
  },
  "language_info": {
   "codemirror_mode": {
    "name": "ipython",
    "version": 3
   },
   "file_extension": ".py",
   "mimetype": "text/x-python",
   "name": "python",
   "nbconvert_exporter": "python",
   "pygments_lexer": "ipython3",
   "version": "3.9.12"
  },
  "orig_nbformat": 4,
  "vscode": {
   "interpreter": {
    "hash": "2acae53b781dbbe58683eb5e6463927eee0329e59e460090e5918c51b2426604"
   }
  }
 },
 "nbformat": 4,
 "nbformat_minor": 2
}
