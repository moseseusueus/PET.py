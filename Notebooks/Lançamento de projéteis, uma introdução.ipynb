{
 "cells": [
  {
   "cell_type": "markdown",
   "metadata": {},
   "source": [
    "# Lançamento de projéteis: uma introdução"
   ]
  },
  {
   "cell_type": "markdown",
   "metadata": {},
   "source": [
    "* PET - Física UFRN\n",
    "* Petiano: Moisés da Rocha Alves\n",
    "* Data: 14 de Setembro de 2022\n",
    "\n",
    "O objetivo deste `Notebook` é introduzirmos o lançamento de projéteis, como o nome já indica. Descreveremos o problema e, a medida que formos prosseguindo, adicionaremos mais complexidade nele.\n",
    "\n",
    "Dito isto, este `Notebook` estará dividido em três seções principais:\n",
    "1. A descrição do lançamento de um projétil\n",
    "2. A resistência do ar\n",
    "3. Adicionando mais um grau de complexidade: a densidade do ar\n",
    "\n",
    "Agora vamos as bibliotecas e ao `Notebook` de fato."
   ]
  },
  {
   "cell_type": "markdown",
   "metadata": {},
   "source": [
    "### Importando as bibliotecas necessárias"
   ]
  },
  {
   "cell_type": "markdown",
   "metadata": {},
   "source": [
    "Neste `Notebook`, utilizaremos as bibliotecas `matplotlib`, `numpy` e `scipy`. Definirei também uma função chamada `opt_plot()` para melhorar o plot dos gráficos, a qual peguei emprestada dos `Notebooks` de meu colega de projeto (o link para seus `Notebooks` pode ser encontrado [aqui](https://github.com/GabrielWendell/PET.py/))."
   ]
  },
  {
   "cell_type": "code",
   "execution_count": 50,
   "metadata": {},
   "outputs": [],
   "source": [
    "import matplotlib.pyplot as plt\n",
    "import scipy.constants as sconst\n",
    "import numpy as np\n",
    "\n",
    "def opt_plot():\n",
    "    plt.grid(True, linestyle=':', color='0.50')\n",
    "    plt.minorticks_on()\n",
    "    plt.tick_params(axis = 'both', which = 'minor', direction = \"in\",\n",
    "                        top = True, right = True, length = 5, width = 1, labelsize = 15)\n",
    "    plt.tick_params(axis = 'both', which = 'major', direction = \"in\",\n",
    "                        top = True, right = True, length = 8, width = 1, labelsize = 15)"
   ]
  },
  {
   "cell_type": "markdown",
   "metadata": {},
   "source": [
    "### Detalhes das bibliotecas"
   ]
  },
  {
   "cell_type": "code",
   "execution_count": 51,
   "metadata": {},
   "outputs": [
    {
     "name": "stdout",
     "output_type": "stream",
     "text": [
      "The version_information extension is already loaded. To reload it, use:\n",
      "  %reload_ext version_information\n"
     ]
    },
    {
     "data": {
      "application/json": {
       "Software versions": [
        {
         "module": "Python",
         "version": "3.9.12 64bit [MSC v.1916 64 bit (AMD64)]"
        },
        {
         "module": "IPython",
         "version": "8.2.0"
        },
        {
         "module": "OS",
         "version": "Windows 10 10.0.19042 SP0"
        },
        {
         "module": "Matplotlib",
         "version": "3.5.1"
        },
        {
         "module": "Numpy",
         "version": "1.21.5"
        },
        {
         "module": "Scipy",
         "version": "1.7.3"
        }
       ]
      },
      "text/html": [
       "<table><tr><th>Software</th><th>Version</th></tr><tr><td>Python</td><td>3.9.12 64bit [MSC v.1916 64 bit (AMD64)]</td></tr><tr><td>IPython</td><td>8.2.0</td></tr><tr><td>OS</td><td>Windows 10 10.0.19042 SP0</td></tr><tr><td>Matplotlib</td><td>3.5.1</td></tr><tr><td>Numpy</td><td>1.21.5</td></tr><tr><td>Scipy</td><td>1.7.3</td></tr><tr><td colspan='2'>Mon Sep 12 22:16:57 2022 Hora Padrão de Buenos Aires</td></tr></table>"
      ],
      "text/latex": [
       "\\begin{tabular}{|l|l|}\\hline\n",
       "{\\bf Software} & {\\bf Version} \\\\ \\hline\\hline\n",
       "Python & 3.9.12 64bit [MSC v.1916 64 bit (AMD64)] \\\\ \\hline\n",
       "IPython & 8.2.0 \\\\ \\hline\n",
       "OS & Windows 10 10.0.19042 SP0 \\\\ \\hline\n",
       "Matplotlib & 3.5.1 \\\\ \\hline\n",
       "Numpy & 1.21.5 \\\\ \\hline\n",
       "Scipy & 1.7.3 \\\\ \\hline\n",
       "\\hline \\multicolumn{2}{|l|}{Mon Sep 12 22:16:57 2022 Hora Padrão de Buenos Aires} \\\\ \\hline\n",
       "\\end{tabular}\n"
      ],
      "text/plain": [
       "Software versions\n",
       "Python 3.9.12 64bit [MSC v.1916 64 bit (AMD64)]\n",
       "IPython 8.2.0\n",
       "OS Windows 10 10.0.19042 SP0\n",
       "Matplotlib 3.5.1\n",
       "Numpy 1.21.5\n",
       "Scipy 1.7.3\n",
       "Mon Sep 12 22:16:57 2022 Hora Padrão de Buenos Aires"
      ]
     },
     "execution_count": 51,
     "metadata": {},
     "output_type": "execute_result"
    }
   ],
   "source": [
    "%load_ext version_information\n",
    "%version_information Matplotlib, Numpy, Scipy"
   ]
  },
  {
   "cell_type": "markdown",
   "metadata": {},
   "source": [
    "## 1. A descrição do lançamento de um projétil"
   ]
  },
  {
   "cell_type": "markdown",
   "metadata": {},
   "source": [
    "Bom, primeiramente nos perguntemos: qual a maneira mais simples que temos de descrevermos um projétil? Queremos imaginar um projétil que seja disparado de algum lugar, com certa velocidade e ângulos específicos dados no início do lançamento.\n",
    "\n",
    "Para responder a pergunta, faremos o que sempre é feito na física como um todo: abstrair o problema e tentar examinar-lo sem muitos graus de complexidade. Isto será feito para que possamos obter uma descrição mais fundamental (e também mais simples) do problema. Sendo assim, partiremos pra descrição física que o leitor já deve estar habituado: a de um lançamento oblíquo (não entrarei em detalhes neste `Notebook` sobre esta descrição, já que ela pode ser encontrada em vários lugares da internet).\n",
    "\n",
    "Sendo assim, podemos descrever o projétil em sua forma mais fundamental com as seguintes equações diferenciais:\n",
    "\n",
    "$$\n",
    "\\frac{d^2x}{dt^2} = 0,\n",
    "$$\n",
    "$$\n",
    "\\frac{d^2y}{dt^2} = -g.\n",
    "$$\n",
    "\n",
    "Essas equações diferenciais são simples de se resolver analiticamente e nos levam a solução conhecida para lançamentos oblíquos. Mas não iremos resolver nada analiticamente por aqui! Para resolver estas equações, utilizaremos o método de Runge-Kutta. \n",
    "\n",
    "Em geral, utilizaremos este método para as diferentes equações diferenciais que aparecerão neste `Notebook`, então cabe uma seção para relembrarmos o método."
   ]
  },
  {
   "cell_type": "markdown",
   "metadata": {},
   "source": [
    "### 1.1 O método de Runge Kutta de 4ª ordem"
   ]
  },
  {
   "cell_type": "markdown",
   "metadata": {},
   "source": [
    "Recordemos como é enunciado o método de Runge-Kutta de 4ª ordem (RK4).\n",
    "\n",
    "Seja um problema de valor inicial especificado tal que:\n",
    "\n",
    "$$\n",
    "y' = f(t, y), \\ \\ y(t_0) = y_0.\n",
    "$$\n",
    "\n",
    "Então o método RK4 para este problema é dado pelas seguintes equações:\n",
    "\n",
    "$$\n",
    "y_{n+1} = y_{n} + \\frac{h}{6}(k_1 + 2k_2 + 2k_3 + k_4),\n",
    "$$\n",
    "\n",
    "$$\n",
    "t_{n+1} = t_{n} + h,\n",
    "$$\n",
    "\n",
    "onde $y_{n+1}$ é a aproximação por RK4 de $y(t_{n+1})$, e\n",
    "\n",
    "$$\n",
    "k_1 = f(t_n,y_n),\n",
    "$$\n",
    "$$\n",
    "k_2 = f(t_n + \\frac{h}{2}, y_n + \\frac{h}{2}k_1),\n",
    "$$\n",
    "$$\n",
    "k_3 = f(t_n + \\frac{h}{2}, y_n + \\frac{h}{2}k_2),\n",
    "$$\n",
    "$$\n",
    "k_4 = f(t_n + h, y_n + hk_3).\n",
    "$$"
   ]
  },
  {
   "cell_type": "markdown",
   "metadata": {},
   "source": [
    "### 1.2 Resolvendo o lançamento simples de um projétil"
   ]
  },
  {
   "cell_type": "markdown",
   "metadata": {},
   "source": [
    "Primeiramente, por fins práticos, escreveremos nossas equações desta forma:\n",
    "\n",
    "$$\n",
    "\\frac{dx}{dt} = v_x,\n",
    "$$\n",
    "$$\n",
    "\\frac{dv_x}{dt} = 0,\n",
    "$$\n",
    "$$\n",
    "\\frac{dy}{dt} = v_y,\n",
    "$$\n",
    "$$\n",
    "\\frac{dv_y}{dt} = -g,\n",
    "$$\n",
    "\n",
    "onde $v_x$ e $v_y$ são as velocidades em $x$ e em $y$, respectivamente.\n",
    "\n",
    "Conforme enunciamos o método RK4, teremos 4 funções $f$ associadas a cada expressão acima.\n",
    "\n",
    "Dado o nosso problema, teremos uma função $f$ para cada uma das 4 EDO's originadas. Portanto:\n",
    "\n",
    "$$\n",
    "f_x = v_x,\n",
    "$$\n",
    "\n",
    "$$\n",
    "f_{v_x} = 0,\n",
    "$$\n",
    "\n",
    "$$\n",
    "f_y = v_y,\n",
    "$$\n",
    "\n",
    "$$\n",
    "f_{v_y} = -g.\n",
    "$$\n",
    "\n",
    "Agora, é necessário que tenhamos um problema de valor inicial. Isto é, devemos ter os valores iniciais (em $t=0$) de $x$, $v_x$, $y$ e $v_y$. Para que não seja necessário utilizarmos velocidades em $x$ e em $y$, especificaremos o ângulo de lançamento inicial $\\theta_0$ em relação ao eixo $x$ e a velocidade inicial $v_0$ (módulo do vetor velocidade) para as condições iniciais do nosso problema. Assim, as velocidades iniciais em cada eixo poderão ser dadas através das relações $v_x(t=0) = v_0 \\cdot cos(\\theta_0)$ e $v_y(t=0) = v_0 \\cdot sin(\\theta_0)$.\n",
    "\n",
    "Partindo pro problema, considere que estamos tentando atirar uma bola de canhão esférica. Considerando que uma bola de canhão tem sua velocidade de saída dada em cerca de 512 m/s (ref. [3]), utilizaremos os seguintes valores para $t = 0$ no nosso problema:\n",
    "\n",
    "|      | Valores iniciais |\n",
    "|:-----:|:-------:|\n",
    "|   $v_0$   | 512 m/s |\n",
    "| $\\theta_0$ |   60°   |\n",
    "|   $x$   |    0    |\n",
    "|   $y$   |    0    |\n",
    "\n",
    "Em código, colocamos da seguinte maneira, já convertendo os valores de $v_0$ e $\\theta_0$ para as componentes de cada eixo da velocidade $v_x$ e $v_y$:"
   ]
  },
  {
   "cell_type": "code",
   "execution_count": 52,
   "metadata": {},
   "outputs": [],
   "source": [
    "v0 = 512\n",
    "theta0 = 60*np.pi/180\n",
    "x, y = 0, 0\n",
    "\n",
    "vx0 = v0*np.cos(theta0)\n",
    "vy0 = v0*np.sin(theta0)"
   ]
  },
  {
   "cell_type": "markdown",
   "metadata": {},
   "source": [
    "Para o valor da constante gravitacional, utilizaremos o valor contido no `scipy.constants`, equivalente a $g \\approx 9.81 \\ m/s^2$.\n",
    "\n",
    "Agora, resta implementarmos o método RK4. Para isso, definiremos primeiramente uma array `r` que conterá todos os valores iniciais, o range de tempo que escolheremos para avaliar nossas equações e o número de pontos que usaremos."
   ]
  },
  {
   "cell_type": "code",
   "execution_count": 53,
   "metadata": {},
   "outputs": [],
   "source": [
    "r = np.array([x, vx0, y, vy0],float)\n",
    "t1, t2 = 0, 100.0\n",
    "N = 5000\n",
    "h = (t2-t1)/N"
   ]
  },
  {
   "cell_type": "markdown",
   "metadata": {},
   "source": [
    "Conforme o código acima, iremos avaliar 5000 pontos dentro de um range de tempo de $t = 0$ até $t = 100s$.\n",
    "\n",
    "Definiremos, também, nossa função `f`, que receberá como parâmetro a array `r` (que leva consigo os valores de $x$, $v_x$, $y$ e $v_y$). Esta função terá como retorno uma outra array com os valores de $f_x$, $f_{v_x}$, $f_y$ e $f_{v_y}$. É importante definirmos esta função, já que ela é diretamente necessária para a execução do método RK4."
   ]
  },
  {
   "cell_type": "code",
   "execution_count": 54,
   "metadata": {},
   "outputs": [],
   "source": [
    "def f(r,t):\n",
    "    x, vx, y, vy = r[0],r[1],r[2],r[3]\n",
    "\n",
    "    fx = vx\n",
    "    fvx = 0\n",
    "    fy = vy\n",
    "    fvy = -sconst.g\n",
    "\n",
    "    return np.array([fx, fvx, fy, fvy], float)"
   ]
  },
  {
   "cell_type": "markdown",
   "metadata": {},
   "source": [
    "Agora, implementaremos a função que executará o método RK4."
   ]
  },
  {
   "cell_type": "code",
   "execution_count": 55,
   "metadata": {},
   "outputs": [],
   "source": [
    "def RK4(r,t):\n",
    "    k1 = h*f(r,t)\n",
    "    k2 = h*f(r+0.5*k1,t+0.5*h)\n",
    "    k3 = h*f(r+0.5*k2,t+0.5*h)\n",
    "    k4 = h*f(r+k3,t+h)\n",
    "    return r+(1/6)*(k1+2*k2+2*k3+k4)"
   ]
  },
  {
   "cell_type": "markdown",
   "metadata": {},
   "source": [
    "Agora, resta rodarmos o código, computarmos os valores e plotarmos o gráfico. Faremos assim:"
   ]
  },
  {
   "cell_type": "code",
   "execution_count": 56,
   "metadata": {},
   "outputs": [
    {
     "data": {
      "image/png": "[encoded data removed]",
      "text/plain": [
       "<Figure size 432x288 with 1 Axes>"
      ]
     },
     "metadata": {
      "needs_background": "light"
     },
     "output_type": "display_data"
    }
   ],
   "source": [
    "# Definindo as listas que conterão os valores\n",
    "tempos = np.linspace(t1, t2, N)\n",
    "y_list = []\n",
    "x_list = []\n",
    "\n",
    "# Computando os valores pelo método RK4\n",
    "for t in tempos:\n",
    "    r = RK4(r,t)\n",
    "    x_list.append(r[0])\n",
    "    y_list.append(r[2])\n",
    "\n",
    "# Plotando o gráfico da trajetória e a linha de referência\n",
    "opt_plot()\n",
    "plt.title(\"Trajetória da bala de canhão esférica para o caso mais simples\", fontsize = 10)\n",
    "plt.plot(x_list, y_list)\n",
    "plt.xlabel(\"x (m)\")\n",
    "plt.ylabel(\"y (m)\")\n",
    "plt.ylim(0, 1.1e4)\n",
    "plt.show()"
   ]
  },
  {
   "cell_type": "markdown",
   "metadata": {},
   "source": [
    "Bom, é natural pensar: como, supostamente, uma bola de canhão alcançaria uma altura de cerca de 10 km? Parece irreal, certo? E é.\n",
    "\n",
    "A explicação mais direta é que não adicionamos camadas de complexidade o suficiente no nosso problema. O que adicionaremos agora? O ar. Ou melhor, a resistência do ar."
   ]
  },
  {
   "cell_type": "markdown",
   "metadata": {},
   "source": [
    "## 2. A resistência do ar"
   ]
  },
  {
   "cell_type": "markdown",
   "metadata": {},
   "source": [
    "A resistência do ar, ou simplesmente o arrasto (drag), é um tipo de força resistiva que atua contrária ao sentido do movimento. Isto é, atua sempre no sentido contrário a velocidade.\n",
    "\n",
    "Poderíamos passar um bom tempo discutindo sobre este tópico, já que ele pode se tornar complexo o suficiente para isso. Mas aqui não faremos isso. Fato é que precisamos de um modelo para a força resistiva do ar.\n",
    "\n",
    "De maneira bem grosseira, podemos dizer que a força resistiva do ar tem a seguinte forma:\n",
    "\n",
    "$$\n",
    "F_{drag} \\approx -B_1v - B_2v^2\n",
    "$$\n",
    "\n",
    "Isto é, é uma força que leva diretamente o módulo da velocidade em consideração, diferente das forças de atrito comuns. O leitor pode notar, ainda, que a relação acima nos lembra uma expansão de Taylor e isso está correto! Para baixas velocidades, o primeiro termo é predominante, enquanto para velocidades um pouco mais altas, o segundo termo começa a ser mais predominante. Em geral, o segundo termo costuma ser bem mais relevante na maioria dos casos e é ele que usaremos em nossas aproximações.\n",
    "\n",
    "Ainda, notemos que existem constantes de proporcionalidades envolvidas nestas aproximações. E, claro, devemos estimar estas constantes. Em particular, enquanto a constante $B_1$ pode ser determinada para objetos com forma simples, a constante $B_2$, a qual estamos interessados, é difícil de ser calculada mesmo nos casos mais simples, nos restando fazer uma aproximação grosseira de seu valor.\n",
    "\n",
    "Enquanto um objeto se move pelo ar, ele deve puxar o ar em sua frente para tal, movendo uma certa massa de ar. A quantidade infinitesimal de massa de ar movida pode ser dada por $dm_{ar} = \\rho\\ dV$, onde $\\rho$ é a densidade do ar e $dV$ é o volume da massa de ar movida (e também o volume do objeto). Com isso, podemos estimar a taxa de massa de ar movida em um tempo $dt$: \n",
    "\n",
    "$$\n",
    "\\frac{dm_{ar}}{dt} \\backsim \\rho \\frac{dV}{dt} \\backsim \\rho A v\n",
    "$$\n",
    "\n",
    "Estimando uma velocidade de ordem $v$ para o ar, podemos estimar que sua energia cinética será dada na ordem de:\n",
    "\n",
    "$$\n",
    "K = \n",
    "$$"
   ]
  },
  {
   "cell_type": "markdown",
   "metadata": {},
   "source": [
    "## Referências"
   ]
  },
  {
   "cell_type": "markdown",
   "metadata": {},
   "source": [
    "**[1]** *Giordano, N. J., & Nakanishi, H. (2006). Computational physics.*\n",
    "\n",
    "**[2]** <https://en.wikipedia.org/wiki/Runge%E2%80%93Kutta_methods>\n",
    "\n",
    "**[3]** <https://www.arc.id.au/CannonBallistics.html>\n",
    "\n",
    "**[4]** Hoerner, Sighard F. (1965). [Fluid-Dynamic Drag : Practical Information on Aerodynamic Drag and Hydrodynamic Resistance](https://archive.org/details/FluidDynamicDragHoerner1965) (2 ed.)."
   ]
  }
 ],
 "metadata": {
  "kernelspec": {
   "display_name": "Python 3.9.12 ('base')",
   "language": "python",
   "name": "python3"
  },
  "language_info": {
   "codemirror_mode": {
    "name": "ipython",
    "version": 3
   },
   "file_extension": ".py",
   "mimetype": "text/x-python",
   "name": "python",
   "nbconvert_exporter": "python",
   "pygments_lexer": "ipython3",
   "version": "3.9.12"
  },
  "orig_nbformat": 4,
  "vscode": {
   "interpreter": {
    "hash": "2acae53b781dbbe58683eb5e6463927eee0329e59e460090e5918c51b2426604"
   }
  }
 },
 "nbformat": 4,
 "nbformat_minor": 2
}
