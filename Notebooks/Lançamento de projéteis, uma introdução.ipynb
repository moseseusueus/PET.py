{
 "cells": [
  {
   "cell_type": "markdown",
   "metadata": {},
   "source": [
    "# Lançamento de projéteis: uma introdução"
   ]
  },
  {
   "cell_type": "markdown",
   "metadata": {},
   "source": [
    "* PET - Física UFRN\n",
    "* Petiano: Moisés da Rocha Alves\n",
    "* Data: 14 de Setembro de 2022\n",
    "\n",
    "O objetivo deste `Notebook` é introduzirmos o lançamento de projéteis, como o nome já indica. Descreveremos o problema e, a medida que formos prosseguindo, adicionaremos mais complexidade nele.\n",
    "\n",
    "Dito isto, este `Notebook` estará dividido em três seções principais:\n",
    "1. A descrição do lançamento de um projétil\n",
    "2. A resistência do ar\n",
    "3. Adicionando mais um grau de complexidade: a densidade do ar\n",
    "\n",
    "Agora vamos as bibliotecas e ao `Notebook` de fato."
   ]
  },
  {
   "cell_type": "markdown",
   "metadata": {},
   "source": [
    "### Importando as bibliotecas necessárias"
   ]
  },
  {
   "cell_type": "markdown",
   "metadata": {},
   "source": [
    "Neste `Notebook`, utilizaremos as bibliotecas `matplotlib`, `numpy` e `scipy`. Definirei também uma função chamada `opt_plot()` para melhorar o plot dos gráficos, a qual peguei emprestada dos `Notebooks` de meu colega de projeto (o link para seus `Notebooks` pode ser encontrado [aqui](https://github.com/GabrielWendell/PET.py/))."
   ]
  },
  {
   "cell_type": "code",
   "execution_count": 249,
   "metadata": {},
   "outputs": [],
   "source": [
    "import matplotlib.pyplot as plt\n",
    "import scipy.constants as sconst\n",
    "import numpy as np\n",
    "\n",
    "def opt_plot():\n",
    "    plt.grid(True, linestyle=':', color='0.50')\n",
    "    plt.minorticks_on()\n",
    "    plt.tick_params(axis = 'both', which = 'minor', direction = \"in\",\n",
    "                        top = True, right = True, length = 5, width = 1, labelsize = 15)\n",
    "    plt.tick_params(axis = 'both', which = 'major', direction = \"in\",\n",
    "                        top = True, right = True, length = 8, width = 1, labelsize = 15)"
   ]
  },
  {
   "cell_type": "markdown",
   "metadata": {},
   "source": [
    "### Detalhes das bibliotecas"
   ]
  },
  {
   "cell_type": "code",
   "execution_count": 250,
   "metadata": {},
   "outputs": [
    {
     "name": "stdout",
     "output_type": "stream",
     "text": [
      "The version_information extension is already loaded. To reload it, use:\n",
      "  %reload_ext version_information\n"
     ]
    },
    {
     "data": {
      "application/json": {
       "Software versions": [
        {
         "module": "Python",
         "version": "3.9.12 64bit [MSC v.1916 64 bit (AMD64)]"
        },
        {
         "module": "IPython",
         "version": "8.2.0"
        },
        {
         "module": "OS",
         "version": "Windows 10 10.0.19042 SP0"
        },
        {
         "module": "Matplotlib",
         "version": "3.5.1"
        },
        {
         "module": "Numpy",
         "version": "1.21.5"
        },
        {
         "module": "Scipy",
         "version": "1.7.3"
        }
       ]
      },
      "text/html": [
       "<table><tr><th>Software</th><th>Version</th></tr><tr><td>Python</td><td>3.9.12 64bit [MSC v.1916 64 bit (AMD64)]</td></tr><tr><td>IPython</td><td>8.2.0</td></tr><tr><td>OS</td><td>Windows 10 10.0.19042 SP0</td></tr><tr><td>Matplotlib</td><td>3.5.1</td></tr><tr><td>Numpy</td><td>1.21.5</td></tr><tr><td>Scipy</td><td>1.7.3</td></tr><tr><td colspan='2'>Tue Sep 13 03:47:33 2022 Hora Padrão de Buenos Aires</td></tr></table>"
      ],
      "text/latex": [
       "\\begin{tabular}{|l|l|}\\hline\n",
       "{\\bf Software} & {\\bf Version} \\\\ \\hline\\hline\n",
       "Python & 3.9.12 64bit [MSC v.1916 64 bit (AMD64)] \\\\ \\hline\n",
       "IPython & 8.2.0 \\\\ \\hline\n",
       "OS & Windows 10 10.0.19042 SP0 \\\\ \\hline\n",
       "Matplotlib & 3.5.1 \\\\ \\hline\n",
       "Numpy & 1.21.5 \\\\ \\hline\n",
       "Scipy & 1.7.3 \\\\ \\hline\n",
       "\\hline \\multicolumn{2}{|l|}{Tue Sep 13 03:47:33 2022 Hora Padrão de Buenos Aires} \\\\ \\hline\n",
       "\\end{tabular}\n"
      ],
      "text/plain": [
       "Software versions\n",
       "Python 3.9.12 64bit [MSC v.1916 64 bit (AMD64)]\n",
       "IPython 8.2.0\n",
       "OS Windows 10 10.0.19042 SP0\n",
       "Matplotlib 3.5.1\n",
       "Numpy 1.21.5\n",
       "Scipy 1.7.3\n",
       "Tue Sep 13 03:47:33 2022 Hora Padrão de Buenos Aires"
      ]
     },
     "execution_count": 250,
     "metadata": {},
     "output_type": "execute_result"
    }
   ],
   "source": [
    "%load_ext version_information\n",
    "%version_information Matplotlib, Numpy, Scipy"
   ]
  },
  {
   "cell_type": "markdown",
   "metadata": {},
   "source": [
    "## 1. A descrição do lançamento de um projétil"
   ]
  },
  {
   "cell_type": "markdown",
   "metadata": {},
   "source": [
    "Bom, primeiramente nos perguntemos: qual a maneira mais simples que temos de descrevermos um projétil? Queremos imaginar um projétil que seja disparado de algum lugar, com certa velocidade e ângulos específicos dados no início do lançamento.\n",
    "\n",
    "Para responder a pergunta, faremos o que sempre é feito na física como um todo: abstrair o problema e tentar examinar-lo sem muitos graus de complexidade. Isto será feito para que possamos obter uma descrição mais fundamental (e também mais simples) do problema. Sendo assim, partiremos pra descrição física que o leitor já deve estar habituado: a de um lançamento oblíquo (não entrarei em detalhes neste `Notebook` sobre esta descrição, já que ela pode ser encontrada em vários lugares da internet).\n",
    "\n",
    "Sendo assim, podemos descrever o projétil em sua forma mais fundamental com as seguintes equações diferenciais:\n",
    "\n",
    "$$\n",
    "\\frac{d^2x}{dt^2} = 0,\n",
    "$$\n",
    "$$\n",
    "\\frac{d^2y}{dt^2} = -g.\n",
    "$$\n",
    "\n",
    "Essas equações diferenciais são simples de se resolver analiticamente e nos levam a solução conhecida para lançamentos oblíquos. Mas não iremos resolver nada analiticamente por aqui! Para resolver estas equações, utilizaremos o método de Runge-Kutta. \n",
    "\n",
    "Em geral, utilizaremos este método para as diferentes equações diferenciais que aparecerão neste `Notebook`, então cabe uma seção para relembrarmos o método."
   ]
  },
  {
   "cell_type": "markdown",
   "metadata": {},
   "source": [
    "### 1.1. O método de Runge Kutta de 4ª ordem"
   ]
  },
  {
   "cell_type": "markdown",
   "metadata": {},
   "source": [
    "Recordemos como é enunciado o método de Runge-Kutta de 4ª ordem (RK4).\n",
    "\n",
    "Seja um problema de valor inicial especificado tal que:\n",
    "\n",
    "$$\n",
    "y' = f(t, y), \\ \\ y(t_0) = y_0.\n",
    "$$\n",
    "\n",
    "Então o método RK4 para este problema é dado pelas seguintes equações:\n",
    "\n",
    "$$\n",
    "y_{n+1} = y_{n} + \\frac{h}{6}(k_1 + 2k_2 + 2k_3 + k_4),\n",
    "$$\n",
    "\n",
    "$$\n",
    "t_{n+1} = t_{n} + h,\n",
    "$$\n",
    "\n",
    "onde $y_{n+1}$ é a aproximação por RK4 de $y(t_{n+1})$, e\n",
    "\n",
    "$$\n",
    "k_1 = f(t_n,y_n),\n",
    "$$\n",
    "$$\n",
    "k_2 = f(t_n + \\frac{h}{2}, y_n + \\frac{h}{2}k_1),\n",
    "$$\n",
    "$$\n",
    "k_3 = f(t_n + \\frac{h}{2}, y_n + \\frac{h}{2}k_2),\n",
    "$$\n",
    "$$\n",
    "k_4 = f(t_n + h, y_n + hk_3).\n",
    "$$"
   ]
  },
  {
   "cell_type": "markdown",
   "metadata": {},
   "source": [
    "### 1.2. Resolvendo o lançamento simples de um projétil"
   ]
  },
  {
   "cell_type": "markdown",
   "metadata": {},
   "source": [
    "Primeiramente, por fins práticos, escreveremos nossas equações desta forma:\n",
    "\n",
    "$$\n",
    "\\frac{dx}{dt} = v_x,\n",
    "$$\n",
    "$$\n",
    "\\frac{dv_x}{dt} = 0,\n",
    "$$\n",
    "$$\n",
    "\\frac{dy}{dt} = v_y,\n",
    "$$\n",
    "$$\n",
    "\\frac{dv_y}{dt} = -g,\n",
    "$$\n",
    "\n",
    "onde $v_x$ e $v_y$ são as velocidades em $x$ e em $y$, respectivamente.\n",
    "\n",
    "Conforme enunciamos o método RK4, teremos 4 funções $f$ associadas a cada expressão acima.\n",
    "\n",
    "Dado o nosso problema, teremos uma função $f$ para cada uma das 4 EDO's originadas. Portanto:\n",
    "\n",
    "$$\n",
    "f_x = v_x,\n",
    "$$\n",
    "\n",
    "$$\n",
    "f_{v_x} = 0,\n",
    "$$\n",
    "\n",
    "$$\n",
    "f_y = v_y,\n",
    "$$\n",
    "\n",
    "$$\n",
    "f_{v_y} = -g.\n",
    "$$\n",
    "\n",
    "Agora, é necessário que tenhamos um problema de valor inicial. Isto é, devemos ter os valores iniciais (em $t=0$) de $x$, $v_x$, $y$ e $v_y$. Para que não seja necessário utilizarmos velocidades em $x$ e em $y$, especificaremos o ângulo de lançamento inicial $\\theta_0$ em relação ao eixo $x$ e a velocidade inicial $v_0$ (módulo do vetor velocidade) para as condições iniciais do nosso problema. Assim, as velocidades iniciais em cada eixo poderão ser dadas através das relações $v_x(t=0) = v_0 \\cdot cos(\\theta_0)$ e $v_y(t=0) = v_0 \\cdot sin(\\theta_0)$.\n",
    "\n",
    "Partindo pro problema, considere que estamos tentando atirar uma bola de canhão esférica. Considerando que uma bola de canhão tem sua velocidade de saída dada em cerca de 512 m/s (ref. [3]), utilizaremos os seguintes valores para $t = 0$ no nosso problema:\n",
    "\n",
    "|      | Valores iniciais |\n",
    "|:-----:|:-------:|\n",
    "|   $v_0$   | 512 m/s |\n",
    "| $\\theta_0$ |   30°, 40°, 50°, 60°   |\n",
    "|   $x$   |    0    |\n",
    "|   $y$   |    0    |\n",
    "\n",
    "Como computaremos 4 conjuntos de dados diferentes, devido aos diferentes ângulos iniciais que estamos tomando, em código, colocamos da seguinte maneira:"
   ]
  },
  {
   "cell_type": "code",
   "execution_count": 251,
   "metadata": {},
   "outputs": [],
   "source": [
    "v0 = 512\n",
    "theta0 = np.array([30*np.pi/180, 40*np.pi/180, 50*np.pi/180, 60*np.pi/180])\n",
    "x, y = 0, 0\n",
    "\n",
    "vx0 = v0*np.cos(theta0)\n",
    "vy0 = v0*np.sin(theta0)"
   ]
  },
  {
   "cell_type": "markdown",
   "metadata": {},
   "source": [
    "Para o valor da constante gravitacional, utilizaremos o valor contido no `scipy.constants`, equivalente a $g \\approx 9.81 \\ m/s^2$.\n",
    "\n",
    "Agora, resta implementarmos o método RK4. Para isso, definiremos múltiplas arrays `r`, que conterão todos os valores iniciais, definiremos o range de tempo para avaliar nossas equações e o número de pontos que usaremos."
   ]
  },
  {
   "cell_type": "code",
   "execution_count": 252,
   "metadata": {},
   "outputs": [],
   "source": [
    "r30 = np.array([x, vx0[0], y, vy0[0]],float)\n",
    "r40 = np.array([x, vx0[1], y, vy0[1]],float)\n",
    "r50 = np.array([x, vx0[2], y, vy0[2]],float)\n",
    "r60 = np.array([x, vx0[3], y, vy0[3]],float)\n",
    "t1, t2 = 0, 100.0\n",
    "N = 5000\n",
    "h = (t2-t1)/N"
   ]
  },
  {
   "cell_type": "markdown",
   "metadata": {},
   "source": [
    "Conforme o código acima, iremos avaliar 5000 pontos dentro de um range de tempo de $t = 0$ até $t = 100s$.\n",
    "\n",
    "Definiremos, também, nossa função `f`, que receberá como parâmetro a array `r` (que leva consigo os valores de $x$, $v_x$, $y$ e $v_y$). Esta função terá como retorno uma outra array com os valores de $f_x$, $f_{v_x}$, $f_y$ e $f_{v_y}$. É importante definirmos esta função, já que ela é diretamente necessária para a execução do método RK4."
   ]
  },
  {
   "cell_type": "code",
   "execution_count": 253,
   "metadata": {},
   "outputs": [],
   "source": [
    "def f(r,t):\n",
    "    x, vx, y, vy = r[0],r[1],r[2],r[3]\n",
    "\n",
    "    fx = vx\n",
    "    fvx = 0\n",
    "    fy = vy\n",
    "    fvy = -sconst.g\n",
    "\n",
    "    return np.array([fx, fvx, fy, fvy], float)"
   ]
  },
  {
   "cell_type": "markdown",
   "metadata": {},
   "source": [
    "Agora, implementaremos a função que executará o método RK4."
   ]
  },
  {
   "cell_type": "code",
   "execution_count": 254,
   "metadata": {},
   "outputs": [],
   "source": [
    "def RK4(r,t):\n",
    "    k1 = h*f(r,t)\n",
    "    k2 = h*f(r+0.5*k1,t+0.5*h)\n",
    "    k3 = h*f(r+0.5*k2,t+0.5*h)\n",
    "    k4 = h*f(r+k3,t+h)\n",
    "    return r+(1/6)*(k1+2*k2+2*k3+k4)"
   ]
  },
  {
   "cell_type": "markdown",
   "metadata": {},
   "source": [
    "Agora, resta rodarmos o código, computarmos os valores e plotarmos os gráficos. Faremos assim:"
   ]
  },
  {
   "cell_type": "code",
   "execution_count": 255,
   "metadata": {},
   "outputs": [
    {
     "data": {
      "image/png": "[encoded data removed]",
      "text/plain": [
       "<Figure size 432x288 with 1 Axes>"
      ]
     },
     "metadata": {
      "needs_background": "light"
     },
     "output_type": "display_data"
    }
   ],
   "source": [
    "# Definindo as listas que conterão os pontos x e y\n",
    "tempos = np.linspace(t1, t2, N)\n",
    "xpoints_30 = []\n",
    "ypoints_30 = []\n",
    "xpoints_40 = []\n",
    "ypoints_40 = []\n",
    "xpoints_50 = []\n",
    "ypoints_50 = []\n",
    "xpoints_60 = []\n",
    "ypoints_60 = []\n",
    "\n",
    "# Computando os valores pelo método RK4\n",
    "for t in tempos:\n",
    "    r30 = RK4(r30,t)\n",
    "    r40 = RK4(r40,t)\n",
    "    r50 = RK4(r50,t)\n",
    "    r60 = RK4(r60,t)\n",
    "\n",
    "    xpoints_30.append(r30[0])\n",
    "    ypoints_30.append(r30[2])\n",
    "    xpoints_40.append(r40[0])\n",
    "    ypoints_40.append(r40[2])\n",
    "    xpoints_50.append(r50[0])\n",
    "    ypoints_50.append(r50[2])\n",
    "    xpoints_60.append(r60[0])\n",
    "    ypoints_60.append(r60[2])\n",
    "\n",
    "# Plotando os gráficos das trajetórias\n",
    "opt_plot()\n",
    "plt.title(\"Trajetória da bola de canhão esférica para o caso mais simples\", fontsize = 10)\n",
    "plt.plot(xpoints_30, ypoints_30, label = \"$\\\\theta_0$ = 30°\")\n",
    "plt.plot(xpoints_40, ypoints_40, label = \"$\\\\theta_0$ = 40°\")\n",
    "plt.plot(xpoints_50, ypoints_50, label = \"$\\\\theta_0$ = 50°\")\n",
    "plt.plot(xpoints_60, ypoints_60, label = \"$\\\\theta_0$ = 60°\")\n",
    "plt.xlabel(\"x (m)\")\n",
    "plt.ylabel(\"y (m)\")\n",
    "plt.legend()\n",
    "plt.ylim(0, 1.1e4)\n",
    "plt.show()"
   ]
  },
  {
   "cell_type": "markdown",
   "metadata": {},
   "source": [
    "Bom, é natural pensar: esta é mesmo uma boa aproximação da realidade? Resposta: definitivamente não. Nos falta mais complexidade, como a que temos no mundo real.\n",
    "\n",
    "E o que adicionaremos agora, afim de melhorar nossas aproximações? O ar. Ou melhor, a resistência do ar."
   ]
  },
  {
   "cell_type": "markdown",
   "metadata": {},
   "source": [
    "## 2. A resistência do ar"
   ]
  },
  {
   "cell_type": "markdown",
   "metadata": {},
   "source": [
    "A resistência do ar, ou simplesmente o arrasto (drag), é um tipo de força resistiva que atua contrária ao sentido do movimento. Isto é, atua sempre no sentido contrário a velocidade.\n",
    "\n",
    "Poderíamos passar um bom tempo discutindo sobre este tópico, já que ele pode se tornar complexo o suficiente para isso. Mas aqui não faremos isso. Indo direto ao ponto, fato é que precisamos de um modelo para a força de arrasto do ar.\n",
    "\n",
    "De maneira bem grosseira, podemos dizer que a força resistiva do ar tem a seguinte forma:\n",
    "\n",
    "$$\n",
    "F_{drag} \\approx -B_1v - B_2v^2\n",
    "$$\n",
    "\n",
    "Isto é, é uma força que leva diretamente o módulo da velocidade em consideração, diferente das forças de atrito comuns. O leitor pode notar, ainda, que a relação acima nos lembra uma expansão de Taylor e isso está correto! Para baixas velocidades, o primeiro termo é predominante, enquanto para velocidades um pouco mais altas, o segundo termo começa a ser mais predominante. Em geral, o segundo termo costuma ser bem mais relevante na maioria dos casos e é ele que usaremos em nossas aproximações.\n",
    "\n",
    "Ainda, notemos que existem constantes de proporcionalidades envolvidas nestas aproximações. E, claro, devemos estimar estas constantes. Em particular, enquanto a constante $B_1$ pode ser determinada para objetos com forma simples em velocidades muito baixas (Lei de Stokes), a constante $B_2$, a qual estamos interessados, é difícil de ser calculada mesmo nos casos mais simples. É possível, entretanto, fazermos uma aproximação de seu valor. Faremos exatamente isso.\n",
    "\n",
    "Enquanto um objeto se move pelo ar, ele deve puxar o ar em sua frente para tal, movendo uma certa massa de ar. A quantidade infinitesimal de massa de ar movida pode ser dada por $dm_{ar} = \\rho\\ dV$, onde $\\rho$ é a densidade do ar e $dV$ é o volume da massa de ar movida (e também o volume do objeto). Com isso, podemos estimar a taxa de massa de ar movida em um tempo $dt$: \n",
    "\n",
    "$$\n",
    "\\frac{dm_{ar}}{dt} \\sim \\rho \\frac{dV}{dt} \\backsim \\rho A v,\n",
    "$$\n",
    "onde A é a área frontal do objeto.\n",
    "\n",
    "Estimando uma velocidade de ordem $v$ para o ar, podemos estimar que a energia cinética de uma massa $dm_{ar}$ será dada na ordem de:\n",
    "\n",
    "$$\n",
    "K_{ar} \\sim \\frac{1}{2}dm_{ar}v^2,\n",
    "$$\n",
    "\n",
    "que também corresponde a expressão para o trabalho realizado pela força de arrasto do ar:\n",
    "\n",
    "$$\n",
    "K_{ar} = F_{drag}vdt.\n",
    "$$\n",
    "\n",
    "Juntando todas as equações e aproximações que fizemos, encontramos que:\n",
    "\n",
    "$$\n",
    "F_{drag} \\sim \\frac{1}{2} \\rho A v^2,\n",
    "$$\n",
    "\n",
    "e podemos fazer nossa estimativa de que:\n",
    "\n",
    "$$\n",
    "F_{drag} \\approx -\\frac{1}{2} C \\rho A v^2,\n",
    "$$\n",
    "\n",
    "onde $C$ é chamadO de coeficiente de arrasto ou coeficiente de resistência aerodinâmica. Em nossa aproximação acima, tínhamos simplesmente que $C = 1$. Entretanto, nosso cálculo foi apenas uma estimativa. De fato, nossa expressão tem uma dependência clara de $v$, $A$ e de $\\rho$, entretanto não é tão simples saber o valor de $C$. E, bom, como em nossos cálculos não determinamos a geometria do objeto, é plausível supor que $C$ dependerá da forma do objeto.\n",
    "\n",
    "Agora que estimamos uma expressão para $B_2$ e temos uma expressão funcional para o arrasto do ar, voltemos a nossos cálculos."
   ]
  },
  {
   "cell_type": "markdown",
   "metadata": {},
   "source": [
    "### 2.1. Voltando ao trabalho"
   ]
  },
  {
   "cell_type": "markdown",
   "metadata": {},
   "source": [
    "Vamos escrever nossas equações novamente, agora considerando que temos uma força de arrasto do ar contrária ao movimento. Para isso, olhemos a seguinte figura:\n",
    "\n",
    "![](../Imagens/airdrag_diagram.png)\n",
    "\n",
    "Fica fácil de notar que se $F_{drag} = -B_2v^2$, então:\n",
    "\n",
    "$$\n",
    "F_{drag_x} = F_{drag_x}cos(\\theta) = F_{drag_x}(v_x/v) = -B_2vv_x,\n",
    "$$\n",
    "$$\n",
    "F_{drag_y} = F_{drag_y}sin(\\theta) = F_{drag_y}(v_y/v) = -B_2vv_y.\n",
    "$$\n",
    "\n",
    "Agora, escrevemos novamente nossas equações do movimento:\n",
    "\n",
    "$$\n",
    "m\\frac{d^2x}{dt^2} = -B_2vv_x,\n",
    "$$\n",
    "$$\n",
    "m\\frac{d^2y}{dt^2} = -mg-B_2vv_y,\n",
    "$$\n",
    "\n",
    "que nos dão as seguintes equações diferenciais:\n",
    "\n",
    "$$\n",
    "\\frac{dx}{dt} = v_x,\n",
    "$$\n",
    "$$\n",
    "\\frac{dv_x}{dt} = -\\frac{B_2}{m}vv_x,\n",
    "$$\n",
    "$$\n",
    "\\frac{dy}{dt} = v_y,\n",
    "$$\n",
    "$$\n",
    "\\frac{dv_y}{dt} = -g-\\frac{B_2}{m}vv_y.\n",
    "$$\n",
    "\n",
    "Agora, novamente, nos resta apenas determinarmos as condições iniciais do problema e o resolvermos. As condições iniciais de lançamento serão as mesmas da seção anterior, nos restando então calcular apenas a razão $B_2/m$. \n",
    "\n",
    "Como obtivemos a expressão para $B_2$ acima, a utilizaremos aqui considerando os seguintes valores para nossa bola de canhão esférica:\n",
    "\n",
    "|      | Valores |\n",
    "|:-----:|:-------:|\n",
    "|   $R$   | 10 cm |\n",
    "| $C$ |   0.47   |\n",
    "|   $\\rho$   |    1.2041 kg/m³    |\n",
    "|   $m$   |    10 kg    |\n",
    "\n",
    "Os valores de $R$ e de $m$ foram estimados grosseiramente com base no tamanho e no peso que uma bola de canhão deveria ter, enquanto os valores de $C$ e $\\rho$ foram retirados, respectivamente, das referências [4] e [5]. O valor de $C$ é dado para um corpo esférico em meio a um fluido de número de Reynolds da ordem de $10^4$, enquanto o valor de $\\rho$ é dado para a densidade do ar a temperatura de 20°C a uma pressão de 1 atm.\n",
    "\n",
    "Em código, faremos:"
   ]
  },
  {
   "cell_type": "code",
   "execution_count": 256,
   "metadata": {},
   "outputs": [
    {
     "name": "stdout",
     "output_type": "stream",
     "text": [
      "O valor de B₂/m é: 0.0008889560528340555\n"
     ]
    }
   ],
   "source": [
    "R = 0.10\n",
    "C = 0.47\n",
    "rho_0 = 1.2041\n",
    "m = 10\n",
    "b2_m = 1/2*C*rho_0*np.pi*R*R/m\n",
    "\n",
    "print(\"O valor de B₂/m é:\", b2_m)"
   ]
  },
  {
   "cell_type": "markdown",
   "metadata": {},
   "source": [
    "Agora, resta rodarmos o código e plotarmos os gráficos. Faremos analogamente ao caso anterior, definindo as variáveis iniciais em diferentes arrays `r`, gerando uma nova função `f` e por aí. Não mexeremos em nada nas condições iniciais de lançamento, já que elas permanecem as mesmas."
   ]
  },
  {
   "cell_type": "code",
   "execution_count": 257,
   "metadata": {},
   "outputs": [],
   "source": [
    "r30_air = np.array([x, vx0[0], y, vy0[0]],float)\n",
    "r40_air = np.array([x, vx0[1], y, vy0[1]],float)\n",
    "r50_air = np.array([x, vx0[2], y, vy0[2]],float)\n",
    "r60_air = np.array([x, vx0[3], y, vy0[3]],float)\n",
    "t1, t2 = 0, 100.0\n",
    "N = 5000\n",
    "h = (t2-t1)/N\n",
    "\n",
    "def f(r,t):\n",
    "    x, vx, y, vy = r[0],r[1],r[2],r[3]\n",
    "\n",
    "    v = np.sqrt(vx*vx + vy*vy)\n",
    "\n",
    "    fx = vx\n",
    "    fvx = -b2_m*v*vx\n",
    "    fy = vy\n",
    "    fvy = -sconst.g-b2_m*v*vy\n",
    "\n",
    "    return np.array([fx, fvx, fy, fvy], float)"
   ]
  },
  {
   "cell_type": "markdown",
   "metadata": {},
   "source": [
    "Por fim, vamos ao plot:"
   ]
  },
  {
   "cell_type": "code",
   "execution_count": 258,
   "metadata": {},
   "outputs": [
    {
     "data": {
      "image/png": "[encoded data removed]",
      "text/plain": [
       "<Figure size 432x288 with 1 Axes>"
      ]
     },
     "metadata": {
      "needs_background": "light"
     },
     "output_type": "display_data"
    }
   ],
   "source": [
    "# Definindo as listas que conterão os pontos x e y\n",
    "tempos = np.linspace(t1, t2, N)\n",
    "xpoints_30_air = []\n",
    "ypoints_30_air = []\n",
    "xpoints_40_air = []\n",
    "ypoints_40_air = []\n",
    "xpoints_50_air = []\n",
    "ypoints_50_air = []\n",
    "xpoints_60_air = []\n",
    "ypoints_60_air = []\n",
    "\n",
    "# Computando os valores pelo método RK4\n",
    "for t in tempos:\n",
    "    r30_air = RK4(r30_air,t)\n",
    "    r40_air = RK4(r40_air,t)\n",
    "    r50_air = RK4(r50_air,t)\n",
    "    r60_air = RK4(r60_air,t)\n",
    "\n",
    "    xpoints_30_air.append(r30_air[0])\n",
    "    ypoints_30_air.append(r30_air[2])\n",
    "    xpoints_40_air.append(r40_air[0])\n",
    "    ypoints_40_air.append(r40_air[2])\n",
    "    xpoints_50_air.append(r50_air[0])\n",
    "    ypoints_50_air.append(r50_air[2])\n",
    "    xpoints_60_air.append(r60_air[0])\n",
    "    ypoints_60_air.append(r60_air[2])\n",
    "\n",
    "# Plotando os gráficos das trajetórias\n",
    "opt_plot()\n",
    "plt.title(\"Trajetória da bola de canhão esférica considerando a resistência do ar\", fontsize = 10)\n",
    "plt.plot(xpoints_30_air, ypoints_30_air, label = \"$\\\\theta_0$ = 30°\")\n",
    "plt.plot(xpoints_40_air, ypoints_40_air, label = \"$\\\\theta_0$ = 40°\")\n",
    "plt.plot(xpoints_50_air, ypoints_50_air, label = \"$\\\\theta_0$ = 50°\")\n",
    "plt.plot(xpoints_60_air, ypoints_60_air, label = \"$\\\\theta_0$ = 60°\")\n",
    "plt.xlabel(\"x (m)\")\n",
    "plt.ylabel(\"y (m)\")\n",
    "plt.legend()\n",
    "plt.ylim(0, 1.1e4)\n",
    "plt.show()"
   ]
  },
  {
   "cell_type": "markdown",
   "metadata": {},
   "source": [
    "Primeiramente, vamos as duas coisas mais óbvias que aconteceram em relação ao gráfico anterior: os alcances verticais e horizontais se encurtaram bastante. De fato, se compararmos os dois gráficos, há uma diferença brusca em relação a isso.\n",
    "\n",
    "Agora, no mínimo, obtivemos estimativas pelo menos um pouco mais realistas. Entretanto, este `Notebook` ainda adicionará outra camada de complexidade."
   ]
  },
  {
   "cell_type": "markdown",
   "metadata": {},
   "source": [
    "## 3. Adicionando mais um grau de complexidade: a densidade do ar"
   ]
  },
  {
   "cell_type": "markdown",
   "metadata": {},
   "source": [
    "De fato, quando paramos pra pensar, a força de arrasto do ar depende da densidade do ar. Sabemos que a densidade do ar varia com a altitude, de forma que quanto menos \"ar\", mais fácil deve ser para um objeto fazer sua trajetória. Sendo assim, a pergunta que devemos fazer para nossos fins aproximativos é: como a densidade do ar varia com a altitude?\n",
    "\n",
    "Existem diversas formas de responder esta pergunta. Uma delas, talvez a mais simples, consiste em considerar a atmosfera como um gás ideal isotérmico. Fazendo estas considerações, e assumindo que toda a pressão é hidrostática, obteremos que a pressão deverá estar na seguinte forma (na referência [6] o leitor encontrará a derivação desta equação, caso tenha interesse):\n",
    "\n",
    "$$\n",
    "P = P_0\\ e^{-mgy/k_bT},\n",
    "$$\n",
    "\n",
    "onde $m$ é a massa média de uma molécula de ar, $y$ é a altura de um determinado ponto de referência (como o nível do mar, por exemplo), $k_b$ é a constante de Boltzmann, e $T$ é a temperatura absoluta (lembre-se que consideramos a atmosfera *isotérmica*).\n",
    "\n",
    "Para um gás ideal, a pressão é proporcional a densidade, o que nos leva a seguinte expressão:\n",
    "\n",
    "$$\n",
    "\\rho = \\rho_0\\ e^{-mgy/k_bT},\n",
    "$$\n",
    "\n",
    "onde $mg/k_bT \\approx 1.0 \\times 10^{-4}$ m.\n",
    "\n",
    "Entretanto, este modelo isotérmico nos trás alguns problemas justamente pelo fato de ser um modelo isotérmico. Sabemos que a temperatura pode variar bastante de acordo com a altitude, como por exemplo no topo do Monte Everest, o que nos trás alguns problemas para altitudes da ordem de 10 km ou mais (troposfera).\n",
    "\n",
    "Um modelo um pouco mais realista nesse sentido se dá considerando que o ar é um mal condutor de calor e que a convecção é muito lenta, nos levando para a chamada aproximação adiabática, que traz resultados melhores neste caso (na ref. [7] é possível encontrar a derivação desta relação).\n",
    "\n",
    "A expressão para a densidade do ar é dada, para este tipo de modelo, da seguinte forma:\n",
    "\n",
    "$$\n",
    "\\rho = \\rho_0 \\bigg(1-\\frac{ay}{T_0}\\bigg)^\\alpha,\n",
    "$$\n",
    "\n",
    "onde a constante $a \\approx 6.5 \\times 10^{-3}$ K/m ajusta os dados bem, $T_0$ é a temperatura no nível do mar em Kelvin, e $\\alpha = 2.5$ para o ar.\n",
    "\n",
    "No mais, seja lá como você responda a pergunta de como a densidade varia com a altitude, fato é que escreveremos numericamente a força de arrasto do ar como:\n",
    "\n",
    "$$\n",
    "F^*_{drag} = \\frac{\\rho}{\\rho_0}F_{drag}(y = 0),\n",
    "$$\n",
    "\n",
    "onde $F_{drag}(y=0)$ é a força de arrasto no nível do mar, dado pela expressão que já estávamos habituados na seção anterior.\n",
    "\n",
    "Olhando para a relação acima, é fácil ver como escreveríamos as equações do movimentos para este caso. Basta incluirmos o termo $\\rho/\\rho_0$ nelas. Assim, ficamos com as seguintes equações do movimento:\n",
    "\n",
    "$$\n",
    "\\frac{dx}{dt} = v_x,\n",
    "$$\n",
    "$$\n",
    "\\frac{dv_x}{dt} = -\\frac{\\rho}{\\rho_0}\\frac{B_2}{m}vv_x,\n",
    "$$\n",
    "$$\n",
    "\\frac{dy}{dt} = v_y,\n",
    "$$\n",
    "$$\n",
    "\\frac{dv_y}{dt} = -g-\\frac{\\rho}{\\rho_0}\\frac{B_2}{m}vv_y.\n",
    "$$\n",
    "\n",
    "Utilizaremos o modelo adiabático nesta seção para plotarmos nossos gráficos, já que ele é evidentemente mais preciso. Consideraremos a temperatura a nível do mar como 20°C e a densidade do ar também a nível do mar como 1.2041 kg/m³. \n",
    "\n",
    "Coloquemos em código:"
   ]
  },
  {
   "cell_type": "code",
   "execution_count": 259,
   "metadata": {},
   "outputs": [],
   "source": [
    "def rho(y):\n",
    "    a = 6.5 * 10**(-3)\n",
    "    T0 = 293.15\n",
    "    rho_0 = 1.2041\n",
    "    alpha = 2.5\n",
    "    return rho_0*(1-a*y/T0)**alpha"
   ]
  },
  {
   "cell_type": "markdown",
   "metadata": {},
   "source": [
    "De resto, faremos as mesmas coisas que já fizemos antes. Apenas, desta vez, utilizaremos apenas os ângulos de 30° e de 60° a fim de não deixar o gráfico muito carregado. Vamos ao código."
   ]
  },
  {
   "cell_type": "code",
   "execution_count": 260,
   "metadata": {},
   "outputs": [],
   "source": [
    "r30_airdcorrected = np.array([x, vx0[0], y, vy0[0]],float)\n",
    "r60_airdcorrected = np.array([x, vx0[3], y, vy0[3]],float)\n",
    "t1, t2 = 0, 100.0\n",
    "N = 5000\n",
    "h = (t2-t1)/N\n",
    "\n",
    "def f(r,t):\n",
    "    x, vx, y, vy = r[0],r[1],r[2],r[3]\n",
    "\n",
    "    v = np.sqrt(vx*vx + vy*vy)\n",
    "\n",
    "    fx = vx\n",
    "    fvx = -rho(y)/rho_0*b2_m*v*vx\n",
    "    fy = vy\n",
    "    fvy = -sconst.g-rho(y)/rho_0*b2_m*v*vy\n",
    "\n",
    "    return np.array([fx, fvx, fy, fvy], float)"
   ]
  },
  {
   "cell_type": "markdown",
   "metadata": {},
   "source": [
    "Por fim, rodaremos o código e vamos ao plot."
   ]
  },
  {
   "cell_type": "code",
   "execution_count": null,
   "metadata": {},
   "outputs": [],
   "source": [
    "# Definindo as listas que conterão os pontos x e y\n",
    "tempos = np.linspace(t1, t2, N)\n",
    "xpoints_30_airdcorrected = []\n",
    "ypoints_30_airdcorrected = []\n",
    "xpoints_60_airdcorrected = []\n",
    "ypoints_60_airdcorrected = []\n",
    "\n",
    "# Computando os valores pelo método RK4\n",
    "for t in tempos:\n",
    "    r30_airdcorrected = RK4(r30_airdcorrected,t)\n",
    "    r60_airdcorrected = RK4(r60_airdcorrected,t)\n",
    "\n",
    "    xpoints_30_airdcorrected.append(r30_airdcorrected[0])\n",
    "    ypoints_30_airdcorrected.append(r30_airdcorrected[2])\n",
    "    xpoints_60_airdcorrected.append(r60_airdcorrected[0])\n",
    "    ypoints_60_airdcorrected.append(r60_airdcorrected[2])\n",
    "\n",
    "# Plotando os gráficos das trajetórias\n",
    "opt_plot()\n",
    "plt.title(\"Trajetória da bola de canhão esférica, considerando as correções com a densidade do ar\", fontsize = 10)\n",
    "plt.plot(xpoints_30_air, ypoints_30_air, color = \"blue\", linestyle='dashed', label = \"$\\\\theta_0$ = 30°, sem a correção\")\n",
    "plt.plot(xpoints_60_air, ypoints_60_air, color = \"purple\", linestyle='dashed', label = \"$\\\\theta_0$ = 60°, sem a correção\")\n",
    "plt.plot(xpoints_30_airdcorrected, ypoints_30_airdcorrected, color = \"blue\", label = \"$\\\\theta_0$ = 30°, com a correção\")\n",
    "plt.plot(xpoints_60_airdcorrected, ypoints_60_airdcorrected, color = \"purple\", label = \"$\\\\theta_0$ = 60°, com a correção\")\n",
    "plt.xlabel(\"x (m)\")\n",
    "plt.ylabel(\"y (m)\")\n",
    "plt.legend()\n",
    "plt.ylim(0, 1.6e3)\n",
    "plt.show()"
   ]
  },
  {
   "cell_type": "markdown",
   "metadata": {},
   "source": [
    "Percebe como a trajetória teve um leve aumento do alcance máximo vertical e horizontal desde que adicionamos a correção da densidade do ar?\n",
    "\n",
    "E as camadas de complexidade nem de longe acabam por aí. De fato, podemos aproximar tanto quanto quisermos este tipo de problema adicionando mais e mais variáveis dentro do \"jogo\"."
   ]
  },
  {
   "cell_type": "markdown",
   "metadata": {},
   "source": [
    "### Conclusão"
   ]
  },
  {
   "cell_type": "markdown",
   "metadata": {},
   "source": [
    "Entretanto, este `Notebook` fica por aqui. Deixo, nesta conclusão, uma menção a referência [1], que é a referência em que me baseei para a confecção deste `Notebook`.\n",
    "\n",
    "E fica o questionamento para o leitor: como poderíamos adicionar ainda mais complexidade em nossa descrição? E se, por exemplo, colocassemos um objeto pra girar enquanto o lançamos? Que efeito a resistência do ar traria neste caso?\n",
    "\n",
    "Bom, é com essas indagações que, finalmente, este `Notebook` termina."
   ]
  },
  {
   "cell_type": "markdown",
   "metadata": {},
   "source": [
    "## Referências"
   ]
  },
  {
   "cell_type": "markdown",
   "metadata": {},
   "source": [
    "**[1]** *Giordano, N. J., & Nakanishi, H. (2006). Computational physics.*\n",
    "\n",
    "**[2]** <https://en.wikipedia.org/wiki/Runge%E2%80%93Kutta_methods>\n",
    "\n",
    "**[3]** <https://www.arc.id.au/CannonBallistics.html>\n",
    "\n",
    "**[4]** *Hoerner, Sighard F. (1965). [Fluid-Dynamic Drag : Practical Information on Aerodynamic Drag and Hydrodynamic Resistance](https://archive.org/details/FluidDynamicDragHoerner1965) (2 ed.).*\n",
    "\n",
    "**[5]** <https://en.wikipedia.org/wiki/Density_of_air>\n",
    "\n",
    "**[6]** <https://en.wikipedia.org/wiki/Barometric_formula>\n",
    "\n",
    "**[7]** <https://farside.ph.utexas.edu/teaching/sm1/lectures/node56.html>"
   ]
  }
 ],
 "metadata": {
  "kernelspec": {
   "display_name": "Python 3.9.12 ('base')",
   "language": "python",
   "name": "python3"
  },
  "language_info": {
   "codemirror_mode": {
    "name": "ipython",
    "version": 3
   },
   "file_extension": ".py",
   "mimetype": "text/x-python",
   "name": "python",
   "nbconvert_exporter": "python",
   "pygments_lexer": "ipython3",
   "version": "3.9.12"
  },
  "orig_nbformat": 4,
  "vscode": {
   "interpreter": {
    "hash": "2acae53b781dbbe58683eb5e6463927eee0329e59e460090e5918c51b2426604"
   }
  }
 },
 "nbformat": 4,
 "nbformat_minor": 2
}
