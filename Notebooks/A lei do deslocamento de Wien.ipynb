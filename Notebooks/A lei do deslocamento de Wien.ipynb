{
 "cells": [
  {
   "attachments": {},
   "cell_type": "markdown",
   "metadata": {},
   "source": [
    "# A lei do deslocamento de Wien"
   ]
  },
  {
   "attachments": {},
   "cell_type": "markdown",
   "metadata": {},
   "source": [
    "* PET - Física UFRN\n",
    "* Petiano: Moisés da Rocha Alves\n",
    "* Data: 11 de Maio de 2022\n",
    "\n",
    "O objetivo deste `Notebook` é determinarmos computacionalmente a lei do deslocamento de Wien e o valor da constante de dispersão de Wien.\n",
    "\n",
    "Primeiramente, descreverei como é enunciada a Lei de Planck, da qual partiremos, e depois construíremos o raciocínio envolvido na determinação na lei do deslocamento de Wien."
   ]
  },
  {
   "attachments": {},
   "cell_type": "markdown",
   "metadata": {},
   "source": [
    "### Importando as bibliotecas necessárias"
   ]
  },
  {
   "attachments": {},
   "cell_type": "markdown",
   "metadata": {},
   "source": [
    "Neste `Notebook`, utilizaremos as bibliotecas `scipy` e `numpy`."
   ]
  },
  {
   "cell_type": "code",
   "execution_count": 1,
   "metadata": {},
   "outputs": [],
   "source": [
    "import scipy.constants as sconst\n",
    "import numpy as np\n",
    "import matplotlib.pyplot as plt"
   ]
  },
  {
   "attachments": {},
   "cell_type": "markdown",
   "metadata": {},
   "source": [
    "## 1. A Lei de Planck e a radiação de corpo negro"
   ]
  },
  {
   "attachments": {},
   "cell_type": "markdown",
   "metadata": {},
   "source": [
    "Para entendermos o que é a radiação de corpo negro, precisamos primeiramente construir o conceito de radiação térmica e o conceito de corpo negro. \n",
    "\n",
    "Para isso, imagine que você está em um quarto bastante iluminado e tente observar um objeto qualquer em temperatura ambiente. Naturalmente, com o quarto suficientemente iluminado, conseguiremos enxergar o nosso objeto. Se desligarmos a luz do quarto, entretanto, não conseguiremos mais enxergar o objeto, devido a ausência da fonte de luz. Portanto, necessitamos de uma fonte de luz própria para que seja possível enxergar o objeto neste exemplo. Isto é, necessitamos que haja reflexão da luz em nosso objeto advinda de uma fonte de luz própria para tornar-lo visível.\n",
    "\n",
    "Se esquentarmos o nosso objeto e o colocarmos em uma temperatura suficientemente alta, perceberemos uma diferença em relação a situação descrita acima. Mesmo no escuro, enxergaremos o nosso objeto. Se esquentarmos um pedaço de metal, por exemplo, o fazendo obter temperaturas cada vez mais altas, o veremos brilhar em um tom avermelhado e o enxergaremos mesmo no escuro! Este fenômeno se deve ao que chamamos de radiação térmica. A radiação emitida por corpos devido a sua temperatura é chamada de radiação térmica.\n",
    "\n",
    "Se formos além e continuarmos a aumentar a temperatura de nosso metal, perceberemos que ele assumirá diferentes cores: primeiramente um tom levemente avermelhado, depois cada vez mais avermelhado, até que fique cada vez mais branco e, a temperaturas muito altas, chegará a ter um tom branco-azulado.\n",
    "\n",
    "Ao aumentarmos a temperatura, aumentamos a quantidade de radiação térmica emitida. Percebemos que a medida que aumentamos a temperatura do corpo, a frequência das radiações mais intensas também aumenta (devido a mudança de cor dos objetos).\n",
    "\n",
    "De maneira geral, ainda, a forma do espectro de radiação térmica emitida por um objeto muda de acordo com a composição de um corpo. Entretanto, os experimentos mostram que existe um tipo de corpo que mostra um espectro de radiação térmica bem definido de caráter bastante universal. Este tipo de corpo é chamado de corpo negro, um corpo que absorve toda a luz que nele incide. Todo corpo negro apresentará, a uma mesma temperatura, o mesmo espectro de radiação térmica, e, por isso, a chamamos de radiação de corpo negro.\n",
    "\n",
    "![Radiação de corpo negro](../Imagens/A%20lei%20do%20deslocamento%20de%20Wien//blackbody.png)"
   ]
  },
  {
   "attachments": {},
   "cell_type": "markdown",
   "metadata": {},
   "source": [
    "Podemos descrever o espectro da radiação de corpo negro através da lei de Planck. Definiremos uma grandeza chamada radiância, que é medida (em unidades do SI) em watts por esferorradiano (adimensional) por metro quadrado. Com isso, saberemos a quantidade de energia por tempo por área que um corpo negro irá emitir em radiação térmica para uma determinada temperatura.\n",
    "\n",
    "Portanto, para cada intervalo de comprimento de onda (ou frequência), podemos associar uma certa quantidade de radiância emitida numa certa temperatura. Se extendermos este raciocínio, para uma dada temperatura, podemos associar a cada comprimento de onda específico, uma quantidade que chamaremos de radiância espectral, que é a radiância emitida por comprimento de onda.\n",
    "\n",
    "Segundo a lei de Planck, a radiância espectral pode ser dada em função da temperatura e do comprimento de onda pela seguinte relação:\n",
    "\n",
    "$$\n",
    "R_\\lambda (\\lambda, T) = \\frac{2hc^2}{\\lambda^5}\\frac{1}{e^{hc/\\lambda kT} - 1},\n",
    "$$\n",
    "\n",
    "onde $h$ é a constante de Planck, $c$ é a velocidade da luz e $k$ é a constante de Boltzmann."
   ]
  },
  {
   "attachments": {},
   "cell_type": "markdown",
   "metadata": {},
   "source": [
    "## 2. A lei do deslocamento de Wien"
   ]
  },
  {
   "attachments": {},
   "cell_type": "markdown",
   "metadata": {},
   "source": [
    "É possível olhar para o gráfico da radiância espectral em função do comprimento de onda mostrado acima e vermos que o comprimento de onda onde se situa a máxima emissão de radiação de um corpo negro parece diminuir com a temperatura. De fato, se verificarmos empiricamente os gráficos para cada valor de temperatura, veremos que este valor do comprimento de onda parece diminuir proporcionalmente com a temperatura. Isto é:\n",
    "\n",
    "$$\n",
    "\\lambda_{max} \\propto \\frac{1}{T}\n",
    "$$\n",
    "\n",
    "Mas como podemos enunciar esta relação a partir da lei de Planck? Uma escolha natural é derivar a lei de Planck com relação ao comprimento de onda e verificarmos o ponto onde a radiância espectral é máxima. Isto é, procuraremos o comprimento de onda onde esta derivada é zero. Assim, derivando a lei de Planck e a igualando a zero, teremos:\n",
    "\n",
    "$$\n",
    "\\frac{\\partial R_\\lambda}{\\partial \\lambda} \n",
    "= 2hc^3 \\bigg(-\\frac{5}{\\lambda^6}\\frac{1}{e^{hc/\\lambda kT} - 1} + \\frac{hc}{kT\\lambda^7}\\frac{e^{hc/\\lambda kT}}{(e^{hc/\\lambda kT} - 1)^2} \\bigg) = 0,\n",
    "$$\n",
    "\n",
    "que podemos simplificar para a seguinte expressão:\n",
    "\n",
    "$$\n",
    "\\frac{hc}{kT\\lambda}\\frac{e^{hc/\\lambda kT}}{(e^{hc/\\lambda kT} - 1)} - 5 = 0.\n",
    "$$\n",
    "\n",
    "Se propormos um certo $x$ tal que\n",
    "\n",
    "$$\n",
    "x = \\frac{hc}{kT\\lambda},\n",
    "$$\n",
    "\n",
    "teremos a seguinte equação\n",
    "\n",
    "$$\n",
    "x\\frac{e^x}{(e^x - 1)} - 5 = 0,\n",
    "$$\n",
    "\n",
    "que pode ser simplificada para:\n",
    "\n",
    "$$\n",
    "x + 5e^{-x} - 5 = 0.\n",
    "$$\n",
    "\n",
    "Onde esta equação não-linear pode ser resolvida utilizando de algum método computacional. Utilizaremos aqui o método de Newton."
   ]
  },
  {
   "attachments": {},
   "cell_type": "markdown",
   "metadata": {},
   "source": [
    "## 3. O método de Newton"
   ]
  },
  {
   "attachments": {},
   "cell_type": "markdown",
   "metadata": {},
   "source": [
    "Relembremos o método de Newton: para estimarmos a raíz de uma função, podemos pegar um ponto inicial contido nesta função e calcularmos uma reta tangente a função neste ponto por meio de sua derivada. O ponto onde a reta tangente interceptar o eixo das abscissas será nossa nova aproximação. Assim, repetimos o processo até que encontremos uma boa aproximação para a raiz. O método pode ser definido, então, da seguinte maneira:\n",
    "\n",
    "$$\n",
    "x_1 = x_0 - \\frac{f(x_0)}{f'(x_0)}\n",
    "$$\n",
    "\n",
    "$$\n",
    "...\n",
    "$$\n",
    "\n",
    "$$\n",
    "x_{n+1} = x_{n} - \\frac{f(x_n)}{f'(x_n)},\n",
    "$$\n",
    "\n",
    "onde podemos calcular um valor tão aproximado quanto se queira para a raíz."
   ]
  },
  {
   "attachments": {},
   "cell_type": "markdown",
   "metadata": {},
   "source": [
    "## 4. Concluindo"
   ]
  },
  {
   "attachments": {},
   "cell_type": "markdown",
   "metadata": {},
   "source": [
    "Se considerarmos que $f(x)$ é igual a equação não-linear obtida acima, teremos que:\n",
    "\n",
    "$$\n",
    "f(x) = x + 5e^{-x} - 5,\n",
    "$$\n",
    "\n",
    "$$\n",
    "f'(x) = 1 - 5e^{-x}.\n",
    "$$\n",
    "\n",
    "Note que f(x) é função também de $\\lambda$ e de $T$, dado a forma como definimos o nosso $x$.\n",
    "\n",
    "Assim, em código, podemos escrever da seguinte maneira:"
   ]
  },
  {
   "cell_type": "code",
   "execution_count": 2,
   "metadata": {},
   "outputs": [],
   "source": [
    "# Definindo f(x)\n",
    "def f(x):\n",
    "    return x + 5*np.exp(-x) - 5\n",
    "\n",
    "# Definindo f'(x)\n",
    "def df(x):\n",
    "    return 1 - 5*np.exp(-x)"
   ]
  },
  {
   "attachments": {},
   "cell_type": "markdown",
   "metadata": {},
   "source": [
    "Podemos plotar a função f(x) para ver como ela se parece e uma linha em $y=0$ para referência."
   ]
  },
  {
   "cell_type": "code",
   "execution_count": 3,
   "metadata": {},
   "outputs": [
    {
     "data": {
      "image/png": "[encoded data removed]",
      "text/plain": [
       "<Figure size 432x288 with 1 Axes>"
      ]
     },
     "metadata": {
      "needs_background": "light"
     },
     "output_type": "display_data"
    }
   ],
   "source": [
    "# Obtendo os pontos da função e da linha de referência\n",
    "x_list = np.linspace(-2, 8, 100)\n",
    "y_list = []\n",
    "yref_list = []\n",
    "for i in x_list:\n",
    "    y_list.append(f(i))\n",
    "    yref_list.append(0)\n",
    "\n",
    "# Plotando o gráfico de f(x) e a linha de referência\n",
    "plt.plot(x_list, y_list, label=\"f(x)\")\n",
    "plt.plot(x_list, yref_list, label=\"Linha de referência\")\n",
    "plt.title(\"Gráfico de f(x)\")\n",
    "plt.xlabel(\"x\")\n",
    "plt.ylabel(\"f(x)\")\n",
    "plt.xlim(-2, 8)\n",
    "plt.legend()\n",
    "plt.show()"
   ]
  },
  {
   "attachments": {},
   "cell_type": "markdown",
   "metadata": {},
   "source": [
    "No gráfico, é possível ver que f(x) tem raíz em $x=0$ (se colocarmos este resultado de volta na equação de f(x), veremos que zero é de fato uma raiz). Entretanto, este é um resultado que não nos traz qualquer informação a respeito do sistema físico, pois isso significaria que $\\lambda$ ou $T$ deveriam tender ao infinito para que isso fosse possível (em $x = \\frac{hc}{kT\\lambda}$). Portanto, não é este o resultado que buscamos.\n",
    "\n",
    "Assim, ficamos apenas com a outra raíz, que podemos ver no gráfico que está situada entre $x= 4$ e $x=6$."
   ]
  },
  {
   "attachments": {},
   "cell_type": "markdown",
   "metadata": {},
   "source": [
    "Agora, definiremos um $x_0 = 4$ a fim de buscar um valor mais preciso para a raíz e executaremos o método de Newton até que a diferença entre dois valores aproximados (a tolerância) seja menor que $10^{-10}$. Ao fim da execução, veremos o valor calculado para x."
   ]
  },
  {
   "cell_type": "code",
   "execution_count": 4,
   "metadata": {},
   "outputs": [
    {
     "name": "stdout",
     "output_type": "stream",
     "text": [
      "Valor aproximado de x: 4.965114231744276\n",
      "Erro: 8.326672684688674e-12\n"
     ]
    }
   ],
   "source": [
    "tolerance = 1e-10  # Definindo a tolerância\n",
    "x = 4              # Definindo um x inicial\n",
    "error = 1          # Definindo um valor inicial para o erro\n",
    "while(error > tolerance):\n",
    "    x_anterior = x\n",
    "    x = x_anterior - f(x_anterior)/df(x_anterior)\n",
    "    error = abs(x - x_anterior)\n",
    "\n",
    "print(\"Valor aproximado de x:\", x)\n",
    "print(\"Erro:\", error)"
   ]
  },
  {
   "attachments": {},
   "cell_type": "markdown",
   "metadata": {},
   "source": [
    "Assim, voltemos a como definimos o valor $x$. Se $x = \\frac{hc}{kT\\lambda}$, teremos a seguinte relação:\n",
    "\n",
    "$$\n",
    "\\lambda = \\frac{hc}{kxT},\n",
    "$$\n",
    "\n",
    "onde o valor de $\\frac{hc}{kx}$ é uma constante. Esta constante é representada por $b$ e é chamada a constante de dispersão de Wien, medida em metro-Kelvin (SI).\n",
    "\n",
    "Assim, a lei de deslocamento de Wien pode ser enunciada da seguinte forma:\n",
    "\n",
    "$$\n",
    "\\lambda_{max} = \\frac{b}{T},\n",
    "$$\n",
    "\n",
    "onde $\\lambda_{max}$ é o comprimento de onda onde se situa a máxima emissão de radiação de um corpo negro para determinada temperatura.\n",
    "\n",
    "Podemos calcular esta constante através do valor já previamente calculado de $x$ e das constantes $h$, $c$ e $k$."
   ]
  },
  {
   "cell_type": "code",
   "execution_count": 5,
   "metadata": {},
   "outputs": [
    {
     "name": "stdout",
     "output_type": "stream",
     "text": [
      "Constante de dispersão de Wien (em metro-Kelvin): 2.897771955e-03\n"
     ]
    }
   ],
   "source": [
    "b = sconst.h*sconst.c/(sconst.k*x)\n",
    "\n",
    "print(\"Constante de dispersão de Wien (em metro-Kelvin):\", f'{b:.9e}')"
   ]
  },
  {
   "attachments": {},
   "cell_type": "markdown",
   "metadata": {},
   "source": [
    "Com isso, pudemos enunciar devidamente a lei do deslocamento de Wien e calcularmos a constante de dispersão de Wien, tal como fora proposto. Pode-se ver, na referência [3], que obtivemos um valor bastante condizente com o valor conhecido da literatura."
   ]
  },
  {
   "attachments": {},
   "cell_type": "markdown",
   "metadata": {},
   "source": [
    "### Um pequeno exemplo para finalizar"
   ]
  },
  {
   "attachments": {},
   "cell_type": "markdown",
   "metadata": {},
   "source": [
    "Com o resultado que obtivemos aqui, podemos calcular a temperatura efetiva na superfície do Sol, por exemplo. Basta sabermos qual o comprimento de onda que o Sol mais emite. \n",
    "\n",
    "A maior intensidade de radiação visível produzida pelo Sol se situa entre o verde e o azul, se encontrando por volta da faixa dos $502\\ nm$ (vide referência [4]). Assim, podemos calcular da seguinte forma:\n",
    "\n",
    "$$\n",
    "T_{sun} = \\frac{b}{\\lambda_{max}}\n",
    "$$"
   ]
  },
  {
   "cell_type": "code",
   "execution_count": 6,
   "metadata": {},
   "outputs": [
    {
     "name": "stdout",
     "output_type": "stream",
     "text": [
      "Temperatura da superfície do solar aproximada (em Kelvin): 5772.5\n"
     ]
    }
   ],
   "source": [
    "T = b/(502e-9)\n",
    "print(\"Temperatura da superfície do solar aproximada (em Kelvin):\", round(T,1))"
   ]
  },
  {
   "attachments": {},
   "cell_type": "markdown",
   "metadata": {},
   "source": [
    "Que é um valor bastante próximo do valor da literatura ($T = 5772\\ K$), tal como na referência [5]."
   ]
  },
  {
   "attachments": {},
   "cell_type": "markdown",
   "metadata": {},
   "source": [
    "## Referências\n",
    "\n",
    "**[1]** *Método de Newton:* <https://www.sciencedirect.com/science/article/pii/S0377042700004350>\n",
    "\n",
    "**[2]** *Quantum Physics of Atoms, Molecules, Solids, Nuclei, and Particles, 2nd Edition, by Robert Eisberg, Robert Resnick*\n",
    "\n",
    "**[3]** *Constante de dispersão de Wien:* <https://physics.nist.gov/cgi-bin/cuu/Value?bwien>\n",
    "\n",
    "**[4]** *Espectro de radiação solar:* <https://www.aanda.org/articles/aa/full_html/2018/03/aa31316-17/aa31316-17.html>  \n",
    "(mais especificamente [aqui](https://www.aanda.org/articles/aa/full_html/2018/03/aa31316-17/F12.html))\n",
    "\n",
    "**[5]** *Dados relacionados ao Sol:* <https://nssdc.gsfc.nasa.gov/planetary/factsheet/sunfact.html>"
   ]
  }
 ],
 "metadata": {
  "interpreter": {
   "hash": "1cff25e70c1e57fad421e91c4365585c5e52e605a4ac474950021b51ee0f23f7"
  },
  "kernelspec": {
   "display_name": "Python 3.8.8 ('base')",
   "language": "python",
   "name": "python3"
  },
  "language_info": {
   "codemirror_mode": {
    "name": "ipython",
    "version": 3
   },
   "file_extension": ".py",
   "mimetype": "text/x-python",
   "name": "python",
   "nbconvert_exporter": "python",
   "pygments_lexer": "ipython3",
   "version": "3.9.12"
  },
  "orig_nbformat": 4
 },
 "nbformat": 4,
 "nbformat_minor": 2
}
