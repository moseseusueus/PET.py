{
 "cells": [
  {
   "cell_type": "markdown",
   "metadata": {},
   "source": [
    "# O lançamento de um bastão"
   ]
  },
  {
   "cell_type": "markdown",
   "metadata": {},
   "source": [
    "* PET - Física UFRN\n",
    "* Petiano: Moisés da Rocha Alves\n",
    "* Data: 01 de Setembro de 2021\n",
    "\n",
    "O objetivo deste `Notebook` é conseguir explicar o lançamento de um bastão utilizando de alguns princípios da mecânica clássica e, a partir disso, gerar alguns resultados graficamente interessantes.\n",
    "\n",
    "O `Notebook` estará dividido em duas seções principais:\n",
    "1. Definindo as condições iniciais do movimento do bastão;\n",
    "2. Resolvendo e plotando o gráfico do movimento do bastão em função do tempo;\n",
    "\n",
    "A primeira seção é destinada a fundamentar o contexto físico do movimento do bastão, enquanto a segunda seção é destinada a encontrar uma solução para este movimento em função do tempo.\n",
    "\n",
    "A motivação para fazer este `Notebook`, foi, principalmente, devido a referência [1], onde este problema é proposto em sua seção 4.10."
   ]
  },
  {
   "cell_type": "markdown",
   "metadata": {},
   "source": [
    "### Importando as bibliotecas necessárias\n"
   ]
  },
  {
   "cell_type": "markdown",
   "metadata": {},
   "source": [
    "Neste `Notebook`, utilizaremos as bibliotecas Numpy, Matplotlib e Scipy."
   ]
  },
  {
   "cell_type": "code",
   "execution_count": 1,
   "metadata": {},
   "outputs": [],
   "source": [
    "from scipy.constants import g\n",
    "from numpy import sin, cos, linspace, pi\n",
    "import matplotlib.pyplot as plt\n",
    "import matplotlib.animation as animation"
   ]
  },
  {
   "cell_type": "markdown",
   "metadata": {},
   "source": [
    "## 1. Definindo as condições iniciais do movimento do bastão"
   ]
  },
  {
   "cell_type": "markdown",
   "metadata": {},
   "source": [
    "Primeiramente, devemos definir as condições iniciais de lançamento do bastão. Dito isto, podemos imaginar o lançamento de um bastão, ignorando a resistência do ar, como um movimento de translação e de rotação que agem conjuntamente de forma independente.\n",
    "\n",
    "Assim, o centro de massa do bastão será arremessado com uma velocidade $v_0$ e um certo ângulo $\\theta$ do plano horizontal e, além disso, aplicaremos certa velocidade angular $\\omega$ constante em torno do centro de massa do bastão.\n",
    "\n",
    "Ainda, iremos supor que hajam duas massas $m$ acopladas a cada extremidadade do bastão e que o bastão tem um certo comprimento $L$.\n",
    "\n",
    "Desta forma, as condições iniciais do lançamento do bastão podem ser resumidas por meio da imagem a seguir, onde o centro de massa é marcado com um \"X\"."
   ]
  },
  {
   "cell_type": "markdown",
   "metadata": {},
   "source": [
    "![Condições iniciais do lançamento do bastão](../Imagens/condicoes_bastao.png)"
   ]
  },
  {
   "cell_type": "markdown",
   "metadata": {},
   "source": [
    "## 2. Resolvendo e plotando o gráfico do movimento do bastão em função do tempo"
   ]
  },
  {
   "cell_type": "markdown",
   "metadata": {},
   "source": [
    "### 2.1 Resolvendo as equações de movimento"
   ]
  },
  {
   "cell_type": "markdown",
   "metadata": {},
   "source": [
    "Como o movimento do centro de massa do bastão pode ser descrito como, basicamente, um lançamento oblíquo, podemos escrever as coordenadas do centro de massa $x_{cm}$ e $y_{cm}$ como:"
   ]
  },
  {
   "cell_type": "markdown",
   "metadata": {},
   "source": [
    "$$\n",
    "x_{cm} = v_{0x}t,\n",
    "$$"
   ]
  },
  {
   "cell_type": "markdown",
   "metadata": {},
   "source": [
    "$$\n",
    "y_{cm} = v_{0y}t - \\frac{1}{2}gt^2,\n",
    "$$"
   ]
  },
  {
   "cell_type": "markdown",
   "metadata": {},
   "source": [
    "onde $t$ é o tempo decorrido desde o início do lançamento, $v_{0x}$ e $v_{0y}$ são as velocidades iniciais do centro de massa em $x$ e em $y$, respectivamente, e $g$ é a aceleração gravitacional terrestre.\n",
    "\n",
    "Além da descrição do movimento do centro de massa em relação a um observador parado no chão, também queremos descrever o movimento de cada uma das massas em relação a este. Para isso, primeiramente descreveremos as coordenadas de cada uma das massas em relação ao centro de massa.\n",
    "\n",
    "Chamemos, antes de tudo, as duas extremidades de $a$ e $b$ (conforme a imagem anterior). Ainda, admitiremos um certo ângulo $\\phi$ que mede a angulação do bastão em relação ao eixo $x$.\n",
    "\n",
    "Utilizando as coordenadas polares, podemos descrever a posição de cada extremidade em relação ao centro de massa como:"
   ]
  },
  {
   "cell_type": "markdown",
   "metadata": {},
   "source": [
    "$$\n",
    "(r_a, \\phi_a) = (\\frac{L}{2},\\phi(t)),\n",
    "$$"
   ]
  },
  {
   "cell_type": "markdown",
   "metadata": {},
   "source": [
    "$$\n",
    "(r_b, \\phi_b) = (\\frac{L}{2},\\phi(t) + \\pi).\n",
    "$$"
   ]
  },
  {
   "cell_type": "markdown",
   "metadata": {},
   "source": [
    "Ainda, podemos escrever o ângulo $\\phi$ como uma função do tempo utlizando do fato de que a velocidade angular $\\omega$ é constante:"
   ]
  },
  {
   "cell_type": "markdown",
   "metadata": {},
   "source": [
    "$$\n",
    "\\phi(t) = \\omega t + \\phi_0.\n",
    "$$"
   ]
  },
  {
   "cell_type": "markdown",
   "metadata": {},
   "source": [
    "Admitindo o ângulo inicial $\\phi_0 = 0$, ficamos com as seguintes equações em coordenadas polares:"
   ]
  },
  {
   "cell_type": "markdown",
   "metadata": {},
   "source": [
    "$$\n",
    "(r_a, \\phi_a) = (\\frac{L}{2},\\omega t),\n",
    "$$"
   ]
  },
  {
   "cell_type": "markdown",
   "metadata": {},
   "source": [
    "$$\n",
    "(r_b, \\phi_b) = (\\frac{L}{2},\\omega t + \\pi).\n",
    "$$"
   ]
  },
  {
   "cell_type": "markdown",
   "metadata": {},
   "source": [
    "Transformando para coordenadas cartesianas, teremos:"
   ]
  },
  {
   "cell_type": "markdown",
   "metadata": {},
   "source": [
    "$$\n",
    "(x_a',y_a') = \\frac{L}{2}(cos(\\omega t), sin(\\omega t)),\n",
    "$$"
   ]
  },
  {
   "cell_type": "markdown",
   "metadata": {},
   "source": [
    "$$\n",
    "(x_b',y_b') = \\frac{L}{2}(cos(\\omega t + \\pi), sin(\\omega t + \\pi)).\n",
    "$$"
   ]
  },
  {
   "cell_type": "markdown",
   "metadata": {},
   "source": [
    "Por fim, as extremidades do bastão vistas por um observador parado no chão podem ser dadas pela soma vetorial da posição do centro de massa com a posição de cada extremidade relativamente ao centro de massa. Portanto, teremos as seguintes equações resultantes de todo o processo que fizemos acima:"
   ]
  },
  {
   "cell_type": "markdown",
   "metadata": {},
   "source": [
    "$$\n",
    "(x_a, y_a) = \\bigg[v_0 cos(\\theta) t + \\frac{L}{2} cos(\\omega t), v_0 sin(\\theta) t - \\frac{1}{2}gt^2 + \\frac{L}{2} sin(\\omega t)\\bigg],\n",
    "$$"
   ]
  },
  {
   "cell_type": "markdown",
   "metadata": {},
   "source": [
    "$$\n",
    "(x_b, y_b) = \\bigg[v_0 cos(\\theta) t + \\frac{L}{2} cos(\\omega t + \\pi), v_0 sin(\\theta) t - \\frac{1}{2}gt^2 + \\frac{L}{2} sin(\\omega t + \\pi)\\bigg].\n",
    "$$"
   ]
  },
  {
   "cell_type": "markdown",
   "metadata": {},
   "source": [
    "### 2.2 Plotando o gráfico do movimento do bastão"
   ]
  },
  {
   "cell_type": "markdown",
   "metadata": {},
   "source": [
    "Primeiramente, vamos definir os valores das condições iniciais para o lançamento de nosso bastão. Definiremos:\n",
    "\n",
    "$L$ = 1 m, $v_0$ = 30 m/s, $\\theta$ = $\\pi$/4 e $\\omega$ = 20 rad/s."
   ]
  },
  {
   "cell_type": "code",
   "execution_count": 2,
   "metadata": {},
   "outputs": [],
   "source": [
    "L = 1\n",
    "v0 = 30\n",
    "theta = pi/4\n",
    "omega = 20"
   ]
  },
  {
   "cell_type": "markdown",
   "metadata": {},
   "source": [
    "Depois, definiremos as funções que nos auxiliarão a descrever o movimento do bastão, utilizando os valores obtidos das equações acima."
   ]
  },
  {
   "cell_type": "code",
   "execution_count": 3,
   "metadata": {},
   "outputs": [],
   "source": [
    "def coord_cm(t):\n",
    "    x = v0*cos(theta)*t\n",
    "    y = v0*sin(theta)*t - 1/2*g*t*t\n",
    "    return x, y\n",
    "\n",
    "def coord_a(t):\n",
    "    x_cm, y_cm = coord_cm(t)\n",
    "    x = x_cm + L/2*cos(omega*t)\n",
    "    y = y_cm + L/2*sin(omega*t)\n",
    "    return x, y\n",
    "\n",
    "def coord_b(t):\n",
    "    x_cm, y_cm = coord_cm(t)\n",
    "    x = x_cm + L/2*cos(omega*t + pi)\n",
    "    y = y_cm + L/2*sin(omega*t + pi)\n",
    "    return x, y"
   ]
  },
  {
   "cell_type": "markdown",
   "metadata": {},
   "source": [
    "Por fim, podemos fazer uma função que plota o gráfico da posição do centro de massa e de suas extremidades em forma de animação da seguinte maneira:"
   ]
  },
  {
   "cell_type": "code",
   "execution_count": 4,
   "metadata": {},
   "outputs": [],
   "source": [
    "def plot_baton():\n",
    "    x_a_list = []\n",
    "    y_a_list = []\n",
    "    x_b_list = []\n",
    "    y_b_list = []\n",
    "    x_cm_list = []\n",
    "    y_cm_list = []\n",
    "\n",
    "    fig, ax = plt.subplots()\n",
    "\n",
    "    plt_a_dot, = ax.plot([], [],'bo', markersize = 6)\n",
    "    plt_b_dot, = ax.plot([], [],'go', markersize = 6)\n",
    "    plt_cm_dot, = ax.plot([], [],'ro', markersize = 5)\n",
    "    plt_a, = ax.plot([], [],'b--')\n",
    "    plt_b, = ax.plot([], [],'g--')\n",
    "    plt_cm, = ax.plot([], [],'r-')\n",
    "    plt_line, = ax.plot([], [],'r-')\n",
    "\n",
    "    ax.set_ylim(0, 25)\n",
    "    ax.set_xlim(0, 100)\n",
    "    ax.set_xlabel(\"x\")\n",
    "    ax.set_ylabel(\"y\")\n",
    "    ax.set_label(\"Trajetória do lançamento de um bastão\")\n",
    "    ax.legend((\"Extremidade a\", \"Extremidade b\", \"Centro de massa\"))\n",
    "\n",
    "    def baton_plots(t):\n",
    "        x_a, y_a = coord_a(t)\n",
    "        x_a_list.append(x_a)\n",
    "        y_a_list.append(y_a)\n",
    "\n",
    "        x_b, y_b = coord_b(t)\n",
    "        x_b_list.append(x_b)\n",
    "        y_b_list.append(y_b)\n",
    "\n",
    "        x_cm, y_cm = coord_cm(t)\n",
    "        x_cm_list.append(x_cm)\n",
    "        y_cm_list.append(y_cm)\n",
    "\n",
    "        linex = [x_a, x_b]\n",
    "        liney = [y_a, y_b]\n",
    "\n",
    "        plt_a.set_data(x_a_list, y_a_list)\n",
    "        plt_a_dot.set_data(x_a, y_a)\n",
    "        plt_b.set_data(x_b_list, y_b_list)\n",
    "        plt_b_dot.set_data(x_b, y_b)\n",
    "        plt_cm.set_data(x_cm_list, y_cm_list)\n",
    "        plt_cm_dot.set_data(x_cm, y_cm)\n",
    "        plt_line.set_data(linex, liney)\n",
    "\n",
    "        return plt_a, plt_a_dot, plt_b, plt_b_dot, plt_cm, plt_cm_dot, plt_line,\n",
    "\n",
    "    t_list = linspace(0, 5, 200)\n",
    "    ani = animation.FuncAnimation(fig, baton_plots, t_list, interval=10, blit=True, repeat=False)\n",
    "    ani.save('baton.gif')"
   ]
  },
  {
   "cell_type": "markdown",
   "metadata": {},
   "source": [
    "E, então, quando chamamos a função, obtemos o gráfico a seguir.\n",
    "\n",
    "![Gráfico do movimento do bastão](../Imagens/baton.gif)"
   ]
  },
  {
   "cell_type": "markdown",
   "metadata": {},
   "source": [
    "# Referências"
   ]
  },
  {
   "cell_type": "markdown",
   "metadata": {},
   "source": [
    "[1] Computational Physics: Problem Solving with Computers, Enlarged eTextBook Python 3rd Edition."
   ]
  }
 ],
 "metadata": {
  "interpreter": {
   "hash": "0e1898d504e473bdd4635340539d41a5cecc72accb8598f6f0c7bcb5921af418"
  },
  "kernelspec": {
   "display_name": "Python 3.8.8 32-bit ('base': conda)",
   "name": "python3"
  },
  "language_info": {
   "codemirror_mode": {
    "name": "ipython",
    "version": 3
   },
   "file_extension": ".py",
   "mimetype": "text/x-python",
   "name": "python",
   "nbconvert_exporter": "python",
   "pygments_lexer": "ipython3",
   "version": "3.8.8"
  }
 },
 "nbformat": 4,
 "nbformat_minor": 2
}
