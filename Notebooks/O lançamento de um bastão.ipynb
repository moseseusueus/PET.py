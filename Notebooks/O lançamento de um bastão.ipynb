{
 "cells": [
  {
   "cell_type": "markdown",
   "source": [
    "# O lançamento de um bastão"
   ],
   "metadata": {}
  },
  {
   "cell_type": "markdown",
   "source": [
    "* PET - Física UFRN\r\n",
    "* Petiano: Moisés da Rocha Alves\r\n",
    "* Data: 01 de Setembro de 2021\r\n",
    "\r\n",
    "O objetivo deste `Notebook` é conseguir explicar o lançamento de um bastão utilizando de alguns princípios da mecânica clássica e, a partir disso, gerar alguns resultados graficamente interessantes.\r\n",
    "\r\n",
    "O `Notebook` estará dividido em três seções principais:\r\n",
    "1. Definindo as condições iniciais do movimento do bastão;\r\n",
    "2. Resolvendo e plotando o gráfico do movimento do bastão em função do tempo;\r\n",
    "3. Outros dados interessantes.\r\n",
    "\r\n",
    "A primeira seção é destinada a fundamentar o contexto físico do movimento do bastão, enquanto a segunda seção é destinada a encontrar uma solução para este movimento em função do tempo.\r\n",
    "\r\n",
    "Já na terceira seção, encontraremos alguns outros resultados interessantes como uma função do tempo, como: a energia cinética translacional, a energia cinética rotacional e a energia potencial do bastão."
   ],
   "metadata": {}
  },
  {
   "cell_type": "markdown",
   "source": [
    "### Importando as bibliotecas necessárias\r\n"
   ],
   "metadata": {}
  },
  {
   "cell_type": "markdown",
   "source": [
    "Neste `Notebook`, utilizaremos as bibliotecas Numpy, Matplotlib e Scipy."
   ],
   "metadata": {}
  },
  {
   "cell_type": "code",
   "execution_count": 1,
   "source": [
    "from scipy.constants import g\r\n",
    "from numpy import sin, cos, linspace, pi\r\n",
    "import matplotlib.pyplot as plt\r\n",
    "import matplotlib.animation as animation"
   ],
   "outputs": [],
   "metadata": {}
  },
  {
   "cell_type": "markdown",
   "source": [
    "## 1. Definindo as condições iniciais do movimento do bastão"
   ],
   "metadata": {}
  },
  {
   "cell_type": "markdown",
   "source": [
    "Primeiramente, devemos definir as condições iniciais de lançamento do bastão. Dito isto, podemos imaginar o lançamento de um bastão, ignorando a resistência do ar, como um movimento de translação e de rotação que agem conjuntamente de forma independente.\r\n",
    "\r\n",
    "Assim, o centro de massa do bastão será arremessado com uma velocidade $v_0$ e um certo ângulo $\\theta$ do plano horizontal e, além disso, aplicaremos certa velocidade angular $\\omega$ em torno do centro de massa do bastão.\r\n",
    "\r\n",
    "Ainda, iremos supor que hajam duas massas $m_a$ e $m_b$ acopladas a cada extremidadade do bastão e que o bastão tem um certo comprimento $L$.\r\n",
    "\r\n",
    "Desta forma, as condições iniciais do lançamento do bastão podem ser resumidas por meio da imagem a seguir, onde o centro de massa é marcado com um \"X\"."
   ],
   "metadata": {}
  },
  {
   "cell_type": "markdown",
   "source": [
    "![Condições iniciais do lançamento do bastão](../Imagens/condicoes_bastao.png)"
   ],
   "metadata": {}
  },
  {
   "cell_type": "markdown",
   "source": [
    "## 2. Resolvendo e plotando o gráfico do movimento do bastão em função do tempo"
   ],
   "metadata": {}
  },
  {
   "cell_type": "markdown",
   "source": [
    "Como o movimento do centro de massa do bastão pode ser descrito como, basicamente, um lançamento oblíquo, podemos escrever as coordenadas do centro de massa $x_{cm}$ e $y_{cm}$ como:"
   ],
   "metadata": {}
  },
  {
   "cell_type": "markdown",
   "source": [
    "$$\r\n",
    "x_{cm} = v_{0x}t,\r\n",
    "$$\r\n",
    "\r\n",
    "$$\r\n",
    "y_{cm} = v_{0y}t - \\frac{1}{2}gt^2,\r\n",
    "$$"
   ],
   "metadata": {}
  },
  {
   "cell_type": "markdown",
   "source": [
    "onde $t$ é o tempo decorrido desde o início do lançamento, $v_{0x}$ e $v_{0y}$ são as velocidades iniciais do centro de massa em $x$ e em $y$, respectivamente, e $g$ é a aceleração gravitacional terrestre."
   ],
   "metadata": {}
  }
 ],
 "metadata": {
  "interpreter": {
   "hash": "0e1898d504e473bdd4635340539d41a5cecc72accb8598f6f0c7bcb5921af418"
  },
  "kernelspec": {
   "name": "python3",
   "display_name": "Python 3.8.8 32-bit ('base': conda)"
  },
  "language_info": {
   "codemirror_mode": {
    "name": "ipython",
    "version": 3
   },
   "file_extension": ".py",
   "mimetype": "text/x-python",
   "name": "python",
   "nbconvert_exporter": "python",
   "pygments_lexer": "ipython3",
   "version": "3.8.8"
  }
 },
 "nbformat": 4,
 "nbformat_minor": 2
}