{
 "cells": [
  {
   "cell_type": "markdown",
   "source": [
    "# O lançamento de um bastão"
   ],
   "metadata": {}
  },
  {
   "cell_type": "markdown",
   "source": [
    "* PET - Física UFRN\r\n",
    "* Petiano: Moisés da Rocha Alves\r\n",
    "* Data: 01 de Setembro de 2021\r\n",
    "\r\n",
    "O objetivo deste `Notebook` é conseguir explicar o lançamento de um bastão utilizando de alguns princípios da mecânica clássica e, a partir disso, gerar alguns resultados graficamente interessantes.\r\n",
    "\r\n",
    "O `Notebook` estará dividido em três seções principais:\r\n",
    "1. Definindo as condições iniciais do movimento do bastão;\r\n",
    "2. Resolvendo e plotando o gráfico do movimento do bastão em função do tempo;\r\n",
    "3. Outros dados interessantes.\r\n",
    "\r\n",
    "A primeira seção é destinada a fundamentar o contexto físico do movimento do bastão, enquanto a segunda seção é destinada a encontrar uma solução para este movimento em função do tempo.\r\n",
    "\r\n",
    "Já na terceira seção, encontraremos alguns outros resultados interessantes como uma função do tempo, como: a energia cinética translacional, a energia cinética rotacional e a energia potencial do bastão."
   ],
   "metadata": {}
  },
  {
   "cell_type": "markdown",
   "source": [
    "### Importando as bibliotecas necessárias\r\n"
   ],
   "metadata": {}
  },
  {
   "cell_type": "markdown",
   "source": [
    "Neste `Notebook`, utilizaremos as bibliotecas Numpy, Matplotlib e Scipy."
   ],
   "metadata": {}
  },
  {
   "cell_type": "code",
   "execution_count": 3,
   "source": [
    "from scipy.constants import g\r\n",
    "from numpy import sin, cos, linspace, pi\r\n",
    "import matplotlib.pyplot as plt\r\n",
    "import matplotlib.animation as animation"
   ],
   "outputs": [],
   "metadata": {}
  },
  {
   "cell_type": "markdown",
   "source": [
    "## 1. Definindo as condições iniciais do movimento do bastão"
   ],
   "metadata": {}
  },
  {
   "cell_type": "markdown",
   "source": [
    "Primeiramente, devemos definir as condições iniciais de lançamento do bastão. Dito isto, podemos imaginar o lançamento de um bastão, ignorando a resistência do ar, como um movimento de translação e de rotação que agem conjuntamente de forma independente.\r\n",
    "\r\n",
    "Assim, o centro de massa do bastão será arremessado com uma velocidade $v_0$ e um certo ângulo $\\theta$ do plano horizontal e, além disso, aplicaremos certa velocidade angular $\\omega$ constante em torno do centro de massa do bastão.\r\n",
    "\r\n",
    "Ainda, iremos supor que hajam duas massas $m$ acopladas a cada extremidadade do bastão e que o bastão tem um certo comprimento $L$.\r\n",
    "\r\n",
    "Desta forma, as condições iniciais do lançamento do bastão podem ser resumidas por meio da imagem a seguir, onde o centro de massa é marcado com um \"X\"."
   ],
   "metadata": {}
  },
  {
   "cell_type": "markdown",
   "source": [
    "![Condições iniciais do lançamento do bastão](../Imagens/condicoes_bastao.png)"
   ],
   "metadata": {}
  },
  {
   "cell_type": "markdown",
   "source": [
    "## 2. Resolvendo e plotando o gráfico do movimento do bastão em função do tempo"
   ],
   "metadata": {}
  },
  {
   "cell_type": "markdown",
   "source": [
    "### 2.1 Resolvendo as equações de movimento"
   ],
   "metadata": {}
  },
  {
   "cell_type": "markdown",
   "source": [
    "Como o movimento do centro de massa do bastão pode ser descrito como, basicamente, um lançamento oblíquo, podemos escrever as coordenadas do centro de massa $x_{cm}$ e $y_{cm}$ como:"
   ],
   "metadata": {}
  },
  {
   "cell_type": "markdown",
   "source": [
    "$$\r\n",
    "x_{cm} = v_{0x}t,\r\n",
    "$$"
   ],
   "metadata": {}
  },
  {
   "cell_type": "markdown",
   "source": [
    "$$\r\n",
    "y_{cm} = v_{0y}t - \\frac{1}{2}gt^2,\r\n",
    "$$"
   ],
   "metadata": {}
  },
  {
   "cell_type": "markdown",
   "source": [
    "onde $t$ é o tempo decorrido desde o início do lançamento, $v_{0x}$ e $v_{0y}$ são as velocidades iniciais do centro de massa em $x$ e em $y$, respectivamente, e $g$ é a aceleração gravitacional terrestre.\r\n",
    "\r\n",
    "Além da descrição do movimento do centro de massa em relação a um observador parado no chão, também queremos descrever o movimento de cada uma das massas em relação a este. Para isso, primeiramente descreveremos as coordenadas de cada uma das massas em relação ao centro de massa.\r\n",
    "\r\n",
    "Chamemos, antes de tudo, as duas extremidades de $a$ e $b$ (conforme a imagem anterior). Ainda, admitiremos um certo ângulo $\\phi$ que mede a angulação do bastão em relação ao eixo $x$.\r\n",
    "\r\n",
    "Utilizando as coordenadas polares, podemos descrever a posição de cada extremidade em relação ao centro de massa como:"
   ],
   "metadata": {}
  },
  {
   "cell_type": "markdown",
   "source": [
    "$$\r\n",
    "(r_a, \\phi_a) = (\\frac{L}{2},\\phi(t)),\r\n",
    "$$"
   ],
   "metadata": {}
  },
  {
   "cell_type": "markdown",
   "source": [
    "$$\r\n",
    "(r_b, \\phi_b) = (\\frac{L}{2},\\phi(t) + \\pi).\r\n",
    "$$"
   ],
   "metadata": {}
  },
  {
   "cell_type": "markdown",
   "source": [
    "Ainda, podemos escrever o ângulo $\\phi$ como uma função do tempo utlizando do fato de que a velocidade angular $\\omega$ é constante:"
   ],
   "metadata": {}
  },
  {
   "cell_type": "markdown",
   "source": [
    "$$\r\n",
    "\\phi(t) = \\omega t + \\phi_0.\r\n",
    "$$"
   ],
   "metadata": {}
  },
  {
   "cell_type": "markdown",
   "source": [
    "Admitindo o ângulo inicial $\\phi_0 = 0$, ficamos com as seguintes equações em coordenadas polares:"
   ],
   "metadata": {}
  },
  {
   "cell_type": "markdown",
   "source": [
    "$$\r\n",
    "(r_a, \\phi_a) = (\\frac{L}{2},\\omega t),\r\n",
    "$$"
   ],
   "metadata": {}
  },
  {
   "cell_type": "markdown",
   "source": [
    "$$\r\n",
    "(r_b, \\phi_b) = (\\frac{L}{2},\\omega t + \\pi).\r\n",
    "$$"
   ],
   "metadata": {}
  },
  {
   "cell_type": "markdown",
   "source": [
    "Transformando para coordenadas cartesianas, teremos:"
   ],
   "metadata": {}
  },
  {
   "cell_type": "markdown",
   "source": [
    "$$\r\n",
    "(x_a',y_a') = \\frac{L}{2}(cos(\\omega t), sin(\\omega t)),\r\n",
    "$$"
   ],
   "metadata": {}
  },
  {
   "cell_type": "markdown",
   "source": [
    "$$\r\n",
    "(x_b',y_b') = \\frac{L}{2}(cos(\\omega t + \\pi), sin(\\omega t + \\pi)).\r\n",
    "$$"
   ],
   "metadata": {}
  },
  {
   "cell_type": "markdown",
   "source": [
    "Por fim, as extremidades do bastão vistas por um observador parado no chão podem ser dadas pela soma vetorial da posição do centro de massa com a posição de cada extremidade relativamente ao centro de massa. Portanto, teremos as seguintes equações resultantes de todo o processo que fizemos acima:"
   ],
   "metadata": {}
  },
  {
   "cell_type": "markdown",
   "source": [
    "$$\r\n",
    "(x_a, y_a) = (v_0 cos(\\theta) t + \\frac{L}{2} cos(\\omega t), v_0 sin(\\theta) t - \\frac{1}{2}gt^2 + \\frac{L}{2} sin(\\omega t)),\r\n",
    "$$"
   ],
   "metadata": {}
  },
  {
   "cell_type": "markdown",
   "source": [
    "$$\r\n",
    "(x_b, y_b) = (v_0 cos(\\theta) t + \\frac{L}{2} cos(\\omega t + \\pi), v_0 sin(\\theta) t - \\frac{1}{2}gt^2 + \\frac{L}{2} sin(\\omega t + \\pi)).\r\n",
    "$$"
   ],
   "metadata": {}
  },
  {
   "cell_type": "markdown",
   "source": [
    "### 2.2 Plotando o gráfico do movimento do bastão"
   ],
   "metadata": {}
  },
  {
   "cell_type": "markdown",
   "source": [
    "Primeiramente, vamos definir os valores das condições iniciais para o lançamento de nosso bastão. Definiremos:\r\n",
    "\r\n",
    "$L$ = 1 m, $v_0$ = 30 m/s, $\\theta$ = pi/4 e $\\omega$ = 20 rad/s."
   ],
   "metadata": {}
  },
  {
   "cell_type": "code",
   "execution_count": 4,
   "source": [
    "L = 1\r\n",
    "v0 = 30\r\n",
    "theta = pi/4\r\n",
    "omega = 20"
   ],
   "outputs": [],
   "metadata": {}
  },
  {
   "cell_type": "markdown",
   "source": [
    "Depois, definiremos as funções que nos auxiliarão a descrever o movimento do bastão, utilizando os valores obtidos das equações acima."
   ],
   "metadata": {}
  },
  {
   "cell_type": "code",
   "execution_count": 6,
   "source": [
    "def coord_cm(t):\r\n",
    "    x = v0*cos(theta)*t\r\n",
    "    y = v0*sin(theta)*t - 1/2*g*t*t\r\n",
    "    return x, y\r\n",
    "\r\n",
    "def coord_a(t):\r\n",
    "    x_cm, y_cm = coord_cm(t)\r\n",
    "    x = x_cm + L/2*cos(omega*t)\r\n",
    "    y = y_cm - 1/2*g*t*t + L/2*sin(omega*t)\r\n",
    "    return x, y\r\n",
    "\r\n",
    "def coord_b(t):\r\n",
    "    x_cm, y_cm = coord_cm(t)\r\n",
    "    x = x_cm + L/2*cos(omega*t + pi)\r\n",
    "    y = y_cm - 1/2*g*t*t + L/2*sin(omega*t + pi)\r\n",
    "    return x, y"
   ],
   "outputs": [],
   "metadata": {}
  },
  {
   "cell_type": "markdown",
   "source": [
    "Por fim, podemos plotar o gráfico da posição do centro de massa e de suas extremidades da seguinte maneira:"
   ],
   "metadata": {}
  },
  {
   "cell_type": "code",
   "execution_count": 8,
   "source": [
    "x_a_list = []\r\n",
    "y_a_list = []\r\n",
    "x_b_list = []\r\n",
    "y_b_list = []\r\n",
    "x_cm_list = []\r\n",
    "y_cm_list = []\r\n",
    "\r\n",
    "fig, ax = plt.subplots()\r\n",
    "\r\n",
    "plt_a_dot, = ax.plot([], [],'bo', markersize = 6)\r\n",
    "plt_b_dot, = ax.plot([], [],'go', markersize = 6)\r\n",
    "plt_cm_dot, = ax.plot([], [],'ro', markersize = 5)\r\n",
    "plt_a, = ax.plot([], [],'b--')\r\n",
    "plt_b, = ax.plot([], [],'g--')\r\n",
    "plt_cm, = ax.plot([], [],'r-')\r\n",
    "plt_line, = ax.plot([], [],'r-')\r\n",
    "\r\n",
    "def init():\r\n",
    "    ax.set_ylim(0, 25)\r\n",
    "    ax.set_xlim(0, 100)\r\n",
    "    ax.set_xlabel(\"x\")\r\n",
    "    ax.set_ylabel(\"y\")\r\n",
    "    ax.set_label(\"Trajetória do lançamento de um bastão\")\r\n",
    "    ax.legend((\"Extremidade a\", \"Extremidade b\", \"Centro de massa\"))\r\n",
    "\r\n",
    "def baton_plots(t):\r\n",
    "    x_a, y_a = coord_a(t)\r\n",
    "    x_a_list.append(x_a)\r\n",
    "    y_a_list.append(y_a)\r\n",
    "\r\n",
    "    x_b, y_b = coord_b(t)\r\n",
    "    x_b_list.append(x_b)\r\n",
    "    y_b_list.append(y_b)\r\n",
    "\r\n",
    "    x_cm, y_cm = coord_cm(t)\r\n",
    "    x_cm_list.append(x_cm)\r\n",
    "    y_cm_list.append(y_cm)\r\n",
    "\r\n",
    "    linex = [x_a, x_b]\r\n",
    "    liney = [y_a, y_b]\r\n",
    "\r\n",
    "    plt_a.set_data(x_a_list, y_a_list)\r\n",
    "    plt_a_dot.set_data(x_a, y_a)\r\n",
    "    plt_b.set_data(x_b_list, y_b_list)\r\n",
    "    plt_b_dot.set_data(x_b, y_b)\r\n",
    "    plt_cm.set_data(x_cm_list, y_cm_list)\r\n",
    "    plt_cm_dot.set_data(x_cm, y_cm)\r\n",
    "    plt_line.set_data(linex, liney)\r\n",
    "\r\n",
    "    return plt_a, plt_a_dot, plt_b, plt_b_dot, plt_cm, plt_cm_dot, plt_line,\r\n",
    "\r\n",
    "t_list = linspace(0, 5, 400)\r\n",
    "\r\n",
    "ani = animation.FuncAnimation(fig, baton_plots, t_list, interval=5, init_func=init)"
   ],
   "outputs": [
    {
     "output_type": "display_data",
     "data": {
      "text/plain": [
       "<Figure size 432x288 with 1 Axes>"
      ],
      "image/svg+xml": "<?xml version=\"1.0\" encoding=\"utf-8\" standalone=\"no\"?>\r\n<!DOCTYPE svg PUBLIC \"-//W3C//DTD SVG 1.1//EN\"\r\n  \"http://www.w3.org/Graphics/SVG/1.1/DTD/svg11.dtd\">\r\n<!-- Created with matplotlib (https://matplotlib.org/) -->\r\n<svg height=\"248.518125pt\" version=\"1.1\" viewBox=\"0 0 386.845312 248.518125\" width=\"386.845312pt\" xmlns=\"http://www.w3.org/2000/svg\" xmlns:xlink=\"http://www.w3.org/1999/xlink\">\r\n <metadata>\r\n  <rdf:RDF xmlns:cc=\"http://creativecommons.org/ns#\" xmlns:dc=\"http://purl.org/dc/elements/1.1/\" xmlns:rdf=\"http://www.w3.org/1999/02/22-rdf-syntax-ns#\">\r\n   <cc:Work>\r\n    <dc:type rdf:resource=\"http://purl.org/dc/dcmitype/StillImage\"/>\r\n    <dc:date>2021-08-29T17:33:38.988266</dc:date>\r\n    <dc:format>image/svg+xml</dc:format>\r\n    <dc:creator>\r\n     <cc:Agent>\r\n      <dc:title>Matplotlib v3.3.4, https://matplotlib.org/</dc:title>\r\n     </cc:Agent>\r\n    </dc:creator>\r\n   </cc:Work>\r\n  </rdf:RDF>\r\n </metadata>\r\n <defs>\r\n  <style type=\"text/css\">*{stroke-linecap:butt;stroke-linejoin:round;}</style>\r\n </defs>\r\n <g id=\"figure_1\">\r\n  <g id=\"patch_1\">\r\n   <path d=\"M 0 248.518125 \r\nL 386.845312 248.518125 \r\nL 386.845312 0 \r\nL 0 0 \r\nz\r\n\" style=\"fill:none;\"/>\r\n  </g>\r\n  <g id=\"axes_1\">\r\n   <g id=\"patch_2\">\r\n    <path d=\"M 44.845313 224.64 \r\nL 379.645313 224.64 \r\nL 379.645313 7.2 \r\nL 44.845313 7.2 \r\nz\r\n\" style=\"fill:#ffffff;\"/>\r\n   </g>\r\n   <g id=\"matplotlib.axis_1\">\r\n    <g id=\"xtick_1\">\r\n     <g id=\"line2d_1\">\r\n      <defs>\r\n       <path d=\"M 0 0 \r\nL 0 3.5 \r\n\" id=\"m90c6cb90ed\" style=\"stroke:#000000;stroke-width:0.8;\"/>\r\n      </defs>\r\n      <g>\r\n       <use style=\"stroke:#000000;stroke-width:0.8;\" x=\"90.499858\" xlink:href=\"#m90c6cb90ed\" y=\"224.64\"/>\r\n      </g>\r\n     </g>\r\n     <g id=\"text_1\">\r\n      <!-- −0.04 -->\r\n      <g transform=\"translate(75.177202 239.238437)scale(0.1 -0.1)\">\r\n       <defs>\r\n        <path d=\"M 10.59375 35.5 \r\nL 73.1875 35.5 \r\nL 73.1875 27.203125 \r\nL 10.59375 27.203125 \r\nz\r\n\" id=\"DejaVuSans-8722\"/>\r\n        <path d=\"M 31.78125 66.40625 \r\nQ 24.171875 66.40625 20.328125 58.90625 \r\nQ 16.5 51.421875 16.5 36.375 \r\nQ 16.5 21.390625 20.328125 13.890625 \r\nQ 24.171875 6.390625 31.78125 6.390625 \r\nQ 39.453125 6.390625 43.28125 13.890625 \r\nQ 47.125 21.390625 47.125 36.375 \r\nQ 47.125 51.421875 43.28125 58.90625 \r\nQ 39.453125 66.40625 31.78125 66.40625 \r\nz\r\nM 31.78125 74.21875 \r\nQ 44.046875 74.21875 50.515625 64.515625 \r\nQ 56.984375 54.828125 56.984375 36.375 \r\nQ 56.984375 17.96875 50.515625 8.265625 \r\nQ 44.046875 -1.421875 31.78125 -1.421875 \r\nQ 19.53125 -1.421875 13.0625 8.265625 \r\nQ 6.59375 17.96875 6.59375 36.375 \r\nQ 6.59375 54.828125 13.0625 64.515625 \r\nQ 19.53125 74.21875 31.78125 74.21875 \r\nz\r\n\" id=\"DejaVuSans-48\"/>\r\n        <path d=\"M 10.6875 12.40625 \r\nL 21 12.40625 \r\nL 21 0 \r\nL 10.6875 0 \r\nz\r\n\" id=\"DejaVuSans-46\"/>\r\n        <path d=\"M 37.796875 64.3125 \r\nL 12.890625 25.390625 \r\nL 37.796875 25.390625 \r\nz\r\nM 35.203125 72.90625 \r\nL 47.609375 72.90625 \r\nL 47.609375 25.390625 \r\nL 58.015625 25.390625 \r\nL 58.015625 17.1875 \r\nL 47.609375 17.1875 \r\nL 47.609375 0 \r\nL 37.796875 0 \r\nL 37.796875 17.1875 \r\nL 4.890625 17.1875 \r\nL 4.890625 26.703125 \r\nz\r\n\" id=\"DejaVuSans-52\"/>\r\n       </defs>\r\n       <use xlink:href=\"#DejaVuSans-8722\"/>\r\n       <use x=\"83.789062\" xlink:href=\"#DejaVuSans-48\"/>\r\n       <use x=\"147.412109\" xlink:href=\"#DejaVuSans-46\"/>\r\n       <use x=\"179.199219\" xlink:href=\"#DejaVuSans-48\"/>\r\n       <use x=\"242.822266\" xlink:href=\"#DejaVuSans-52\"/>\r\n      </g>\r\n     </g>\r\n    </g>\r\n    <g id=\"xtick_2\">\r\n     <g id=\"line2d_2\">\r\n      <g>\r\n       <use style=\"stroke:#000000;stroke-width:0.8;\" x=\"151.372585\" xlink:href=\"#m90c6cb90ed\" y=\"224.64\"/>\r\n      </g>\r\n     </g>\r\n     <g id=\"text_2\">\r\n      <!-- −0.02 -->\r\n      <g transform=\"translate(136.049929 239.238437)scale(0.1 -0.1)\">\r\n       <defs>\r\n        <path d=\"M 19.1875 8.296875 \r\nL 53.609375 8.296875 \r\nL 53.609375 0 \r\nL 7.328125 0 \r\nL 7.328125 8.296875 \r\nQ 12.9375 14.109375 22.625 23.890625 \r\nQ 32.328125 33.6875 34.8125 36.53125 \r\nQ 39.546875 41.84375 41.421875 45.53125 \r\nQ 43.3125 49.21875 43.3125 52.78125 \r\nQ 43.3125 58.59375 39.234375 62.25 \r\nQ 35.15625 65.921875 28.609375 65.921875 \r\nQ 23.96875 65.921875 18.8125 64.3125 \r\nQ 13.671875 62.703125 7.8125 59.421875 \r\nL 7.8125 69.390625 \r\nQ 13.765625 71.78125 18.9375 73 \r\nQ 24.125 74.21875 28.421875 74.21875 \r\nQ 39.75 74.21875 46.484375 68.546875 \r\nQ 53.21875 62.890625 53.21875 53.421875 \r\nQ 53.21875 48.921875 51.53125 44.890625 \r\nQ 49.859375 40.875 45.40625 35.40625 \r\nQ 44.1875 33.984375 37.640625 27.21875 \r\nQ 31.109375 20.453125 19.1875 8.296875 \r\nz\r\n\" id=\"DejaVuSans-50\"/>\r\n       </defs>\r\n       <use xlink:href=\"#DejaVuSans-8722\"/>\r\n       <use x=\"83.789062\" xlink:href=\"#DejaVuSans-48\"/>\r\n       <use x=\"147.412109\" xlink:href=\"#DejaVuSans-46\"/>\r\n       <use x=\"179.199219\" xlink:href=\"#DejaVuSans-48\"/>\r\n       <use x=\"242.822266\" xlink:href=\"#DejaVuSans-50\"/>\r\n      </g>\r\n     </g>\r\n    </g>\r\n    <g id=\"xtick_3\">\r\n     <g id=\"line2d_3\">\r\n      <g>\r\n       <use style=\"stroke:#000000;stroke-width:0.8;\" x=\"212.245313\" xlink:href=\"#m90c6cb90ed\" y=\"224.64\"/>\r\n      </g>\r\n     </g>\r\n     <g id=\"text_3\">\r\n      <!-- 0.00 -->\r\n      <g transform=\"translate(201.1125 239.238437)scale(0.1 -0.1)\">\r\n       <use xlink:href=\"#DejaVuSans-48\"/>\r\n       <use x=\"63.623047\" xlink:href=\"#DejaVuSans-46\"/>\r\n       <use x=\"95.410156\" xlink:href=\"#DejaVuSans-48\"/>\r\n       <use x=\"159.033203\" xlink:href=\"#DejaVuSans-48\"/>\r\n      </g>\r\n     </g>\r\n    </g>\r\n    <g id=\"xtick_4\">\r\n     <g id=\"line2d_4\">\r\n      <g>\r\n       <use style=\"stroke:#000000;stroke-width:0.8;\" x=\"273.11804\" xlink:href=\"#m90c6cb90ed\" y=\"224.64\"/>\r\n      </g>\r\n     </g>\r\n     <g id=\"text_4\">\r\n      <!-- 0.02 -->\r\n      <g transform=\"translate(261.985227 239.238437)scale(0.1 -0.1)\">\r\n       <use xlink:href=\"#DejaVuSans-48\"/>\r\n       <use x=\"63.623047\" xlink:href=\"#DejaVuSans-46\"/>\r\n       <use x=\"95.410156\" xlink:href=\"#DejaVuSans-48\"/>\r\n       <use x=\"159.033203\" xlink:href=\"#DejaVuSans-50\"/>\r\n      </g>\r\n     </g>\r\n    </g>\r\n    <g id=\"xtick_5\">\r\n     <g id=\"line2d_5\">\r\n      <g>\r\n       <use style=\"stroke:#000000;stroke-width:0.8;\" x=\"333.990767\" xlink:href=\"#m90c6cb90ed\" y=\"224.64\"/>\r\n      </g>\r\n     </g>\r\n     <g id=\"text_5\">\r\n      <!-- 0.04 -->\r\n      <g transform=\"translate(322.857955 239.238437)scale(0.1 -0.1)\">\r\n       <use xlink:href=\"#DejaVuSans-48\"/>\r\n       <use x=\"63.623047\" xlink:href=\"#DejaVuSans-46\"/>\r\n       <use x=\"95.410156\" xlink:href=\"#DejaVuSans-48\"/>\r\n       <use x=\"159.033203\" xlink:href=\"#DejaVuSans-52\"/>\r\n      </g>\r\n     </g>\r\n    </g>\r\n   </g>\r\n   <g id=\"matplotlib.axis_2\">\r\n    <g id=\"ytick_1\">\r\n     <g id=\"line2d_6\">\r\n      <defs>\r\n       <path d=\"M 0 0 \r\nL -3.5 0 \r\n\" id=\"m857f546054\" style=\"stroke:#000000;stroke-width:0.8;\"/>\r\n      </defs>\r\n      <g>\r\n       <use style=\"stroke:#000000;stroke-width:0.8;\" x=\"44.845313\" xlink:href=\"#m857f546054\" y=\"194.989091\"/>\r\n      </g>\r\n     </g>\r\n     <g id=\"text_6\">\r\n      <!-- −0.04 -->\r\n      <g transform=\"translate(7.2 198.78831)scale(0.1 -0.1)\">\r\n       <use xlink:href=\"#DejaVuSans-8722\"/>\r\n       <use x=\"83.789062\" xlink:href=\"#DejaVuSans-48\"/>\r\n       <use x=\"147.412109\" xlink:href=\"#DejaVuSans-46\"/>\r\n       <use x=\"179.199219\" xlink:href=\"#DejaVuSans-48\"/>\r\n       <use x=\"242.822266\" xlink:href=\"#DejaVuSans-52\"/>\r\n      </g>\r\n     </g>\r\n    </g>\r\n    <g id=\"ytick_2\">\r\n     <g id=\"line2d_7\">\r\n      <g>\r\n       <use style=\"stroke:#000000;stroke-width:0.8;\" x=\"44.845313\" xlink:href=\"#m857f546054\" y=\"155.454545\"/>\r\n      </g>\r\n     </g>\r\n     <g id=\"text_7\">\r\n      <!-- −0.02 -->\r\n      <g transform=\"translate(7.2 159.253764)scale(0.1 -0.1)\">\r\n       <use xlink:href=\"#DejaVuSans-8722\"/>\r\n       <use x=\"83.789062\" xlink:href=\"#DejaVuSans-48\"/>\r\n       <use x=\"147.412109\" xlink:href=\"#DejaVuSans-46\"/>\r\n       <use x=\"179.199219\" xlink:href=\"#DejaVuSans-48\"/>\r\n       <use x=\"242.822266\" xlink:href=\"#DejaVuSans-50\"/>\r\n      </g>\r\n     </g>\r\n    </g>\r\n    <g id=\"ytick_3\">\r\n     <g id=\"line2d_8\">\r\n      <g>\r\n       <use style=\"stroke:#000000;stroke-width:0.8;\" x=\"44.845313\" xlink:href=\"#m857f546054\" y=\"115.92\"/>\r\n      </g>\r\n     </g>\r\n     <g id=\"text_8\">\r\n      <!-- 0.00 -->\r\n      <g transform=\"translate(15.579688 119.719219)scale(0.1 -0.1)\">\r\n       <use xlink:href=\"#DejaVuSans-48\"/>\r\n       <use x=\"63.623047\" xlink:href=\"#DejaVuSans-46\"/>\r\n       <use x=\"95.410156\" xlink:href=\"#DejaVuSans-48\"/>\r\n       <use x=\"159.033203\" xlink:href=\"#DejaVuSans-48\"/>\r\n      </g>\r\n     </g>\r\n    </g>\r\n    <g id=\"ytick_4\">\r\n     <g id=\"line2d_9\">\r\n      <g>\r\n       <use style=\"stroke:#000000;stroke-width:0.8;\" x=\"44.845313\" xlink:href=\"#m857f546054\" y=\"76.385455\"/>\r\n      </g>\r\n     </g>\r\n     <g id=\"text_9\">\r\n      <!-- 0.02 -->\r\n      <g transform=\"translate(15.579688 80.184673)scale(0.1 -0.1)\">\r\n       <use xlink:href=\"#DejaVuSans-48\"/>\r\n       <use x=\"63.623047\" xlink:href=\"#DejaVuSans-46\"/>\r\n       <use x=\"95.410156\" xlink:href=\"#DejaVuSans-48\"/>\r\n       <use x=\"159.033203\" xlink:href=\"#DejaVuSans-50\"/>\r\n      </g>\r\n     </g>\r\n    </g>\r\n    <g id=\"ytick_5\">\r\n     <g id=\"line2d_10\">\r\n      <g>\r\n       <use style=\"stroke:#000000;stroke-width:0.8;\" x=\"44.845313\" xlink:href=\"#m857f546054\" y=\"36.850909\"/>\r\n      </g>\r\n     </g>\r\n     <g id=\"text_10\">\r\n      <!-- 0.04 -->\r\n      <g transform=\"translate(15.579688 40.650128)scale(0.1 -0.1)\">\r\n       <use xlink:href=\"#DejaVuSans-48\"/>\r\n       <use x=\"63.623047\" xlink:href=\"#DejaVuSans-46\"/>\r\n       <use x=\"95.410156\" xlink:href=\"#DejaVuSans-48\"/>\r\n       <use x=\"159.033203\" xlink:href=\"#DejaVuSans-52\"/>\r\n      </g>\r\n     </g>\r\n    </g>\r\n   </g>\r\n   <g id=\"line2d_11\"/>\r\n   <g id=\"line2d_12\"/>\r\n   <g id=\"line2d_13\"/>\r\n   <g id=\"line2d_14\"/>\r\n   <g id=\"line2d_15\"/>\r\n   <g id=\"line2d_16\"/>\r\n   <g id=\"line2d_17\"/>\r\n   <g id=\"patch_3\">\r\n    <path d=\"M 44.845313 224.64 \r\nL 44.845313 7.2 \r\n\" style=\"fill:none;stroke:#000000;stroke-linecap:square;stroke-linejoin:miter;stroke-width:0.8;\"/>\r\n   </g>\r\n   <g id=\"patch_4\">\r\n    <path d=\"M 379.645313 224.64 \r\nL 379.645313 7.2 \r\n\" style=\"fill:none;stroke:#000000;stroke-linecap:square;stroke-linejoin:miter;stroke-width:0.8;\"/>\r\n   </g>\r\n   <g id=\"patch_5\">\r\n    <path d=\"M 44.845313 224.64 \r\nL 379.645313 224.64 \r\n\" style=\"fill:none;stroke:#000000;stroke-linecap:square;stroke-linejoin:miter;stroke-width:0.8;\"/>\r\n   </g>\r\n   <g id=\"patch_6\">\r\n    <path d=\"M 44.845313 7.2 \r\nL 379.645313 7.2 \r\n\" style=\"fill:none;stroke:#000000;stroke-linecap:square;stroke-linejoin:miter;stroke-width:0.8;\"/>\r\n   </g>\r\n  </g>\r\n </g>\r\n</svg>\r\n",
      "image/png": "[encoded data removed]"
     },
     "metadata": {
      "needs_background": "light"
     }
    }
   ],
   "metadata": {}
  }
 ],
 "metadata": {
  "interpreter": {
   "hash": "0e1898d504e473bdd4635340539d41a5cecc72accb8598f6f0c7bcb5921af418"
  },
  "kernelspec": {
   "name": "python3",
   "display_name": "Python 3.8.8 32-bit ('base': conda)"
  },
  "language_info": {
   "codemirror_mode": {
    "name": "ipython",
    "version": 3
   },
   "file_extension": ".py",
   "mimetype": "text/x-python",
   "name": "python",
   "nbconvert_exporter": "python",
   "pygments_lexer": "ipython3",
   "version": "3.8.8"
  }
 },
 "nbformat": 4,
 "nbformat_minor": 2
}