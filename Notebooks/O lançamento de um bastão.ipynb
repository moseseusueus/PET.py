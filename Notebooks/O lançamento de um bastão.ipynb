{
 "cells": [
  {
   "cell_type": "markdown",
   "source": [
    "# O lançamento de um bastão"
   ],
   "metadata": {}
  },
  {
   "cell_type": "markdown",
   "source": [
    "* PET - Física UFRN\r\n",
    "* Petiano: Moisés da Rocha Alves\r\n",
    "* Data: 01 de Setembro de 2021\r\n",
    "\r\n",
    "O objetivo deste `Notebook` é conseguir explicar o lançamento de um bastão utilizando de alguns princípios da mecânica clássica e, a partir disso, gerar alguns resultados graficamente interessantes.\r\n",
    "\r\n",
    "O `Notebook` estará dividido em duas seções principais:\r\n",
    "1. Definindo as condições iniciais do movimento do bastão;\r\n",
    "2. Resolvendo e plotando o gráfico do movimento do bastão em função do tempo;\r\n",
    "\r\n",
    "A primeira seção é destinada a fundamentar o contexto físico do movimento do bastão, enquanto a segunda seção é destinada a encontrar uma solução para este movimento em função do tempo.\r\n",
    "\r\n",
    "A motivação para fazer este `Notebook`, foi, principalmente, devido a referência [1], onde este problema é proposto em sua seção 4.10."
   ],
   "metadata": {}
  },
  {
   "cell_type": "markdown",
   "source": [
    "### Importando as bibliotecas necessárias\r\n"
   ],
   "metadata": {}
  },
  {
   "cell_type": "markdown",
   "source": [
    "Neste `Notebook`, utilizaremos as bibliotecas Numpy, Matplotlib e Scipy."
   ],
   "metadata": {}
  },
  {
   "cell_type": "code",
   "execution_count": 1,
   "source": [
    "from scipy.constants import g\r\n",
    "from numpy import sin, cos, linspace, pi, sqrt\r\n",
    "import matplotlib.pyplot as plt\r\n",
    "import matplotlib.animation as animation"
   ],
   "outputs": [],
   "metadata": {}
  },
  {
   "cell_type": "markdown",
   "source": [
    "## 1. Definindo as condições iniciais do movimento do bastão"
   ],
   "metadata": {}
  },
  {
   "cell_type": "markdown",
   "source": [
    "Primeiramente, devemos definir as condições iniciais de lançamento do bastão. Dito isto, podemos imaginar o lançamento de um bastão, ignorando a resistência do ar, como um movimento de translação e de rotação que agem conjuntamente de forma independente.\r\n",
    "\r\n",
    "Assim, o centro de massa do bastão será arremessado com uma velocidade $v_0$ e um certo ângulo $\\theta$ do plano horizontal e, além disso, aplicaremos certa velocidade angular $\\omega$ constante em torno do centro de massa do bastão.\r\n",
    "\r\n",
    "Ainda, iremos supor que hajam duas massas $m$ acopladas a cada extremidadade do bastão e que o bastão tem um certo comprimento $L$.\r\n",
    "\r\n",
    "Desta forma, as condições iniciais do lançamento do bastão podem ser resumidas por meio da imagem a seguir, onde o centro de massa é marcado com um \"X\"."
   ],
   "metadata": {}
  },
  {
   "cell_type": "markdown",
   "source": [
    "![Condições iniciais do lançamento do bastão](../Imagens/condicoes_bastao.png)"
   ],
   "metadata": {}
  },
  {
   "cell_type": "markdown",
   "source": [
    "## 2. Resolvendo e plotando o gráfico do movimento do bastão em função do tempo"
   ],
   "metadata": {}
  },
  {
   "cell_type": "markdown",
   "source": [
    "### 2.1 Resolvendo as equações de movimento"
   ],
   "metadata": {}
  },
  {
   "cell_type": "markdown",
   "source": [
    "Como o movimento do centro de massa do bastão pode ser descrito como, basicamente, um lançamento oblíquo, podemos escrever as coordenadas do centro de massa $x_{cm}$ e $y_{cm}$ como:"
   ],
   "metadata": {}
  },
  {
   "cell_type": "markdown",
   "source": [
    "$$\r\n",
    "x_{cm} = v_{0x}t,\r\n",
    "$$"
   ],
   "metadata": {}
  },
  {
   "cell_type": "markdown",
   "source": [
    "$$\r\n",
    "y_{cm} = v_{0y}t - \\frac{1}{2}gt^2,\r\n",
    "$$"
   ],
   "metadata": {}
  },
  {
   "cell_type": "markdown",
   "source": [
    "onde $t$ é o tempo decorrido desde o início do lançamento, $v_{0x}$ e $v_{0y}$ são as velocidades iniciais do centro de massa em $x$ e em $y$, respectivamente, e $g$ é a aceleração gravitacional terrestre.\r\n",
    "\r\n",
    "Além da descrição do movimento do centro de massa em relação a um observador parado no chão, também queremos descrever o movimento de cada uma das massas em relação a este. Para isso, primeiramente descreveremos as coordenadas de cada uma das massas em relação ao centro de massa.\r\n",
    "\r\n",
    "Chamemos, antes de tudo, as duas extremidades de $a$ e $b$ (conforme a imagem anterior). Ainda, admitiremos um certo ângulo $\\phi$ que mede a angulação do bastão em relação ao eixo $x$.\r\n",
    "\r\n",
    "Utilizando as coordenadas polares, podemos descrever a posição de cada extremidade em relação ao centro de massa como:"
   ],
   "metadata": {}
  },
  {
   "cell_type": "markdown",
   "source": [
    "$$\r\n",
    "(r_a, \\phi_a) = (\\frac{L}{2},\\phi(t)),\r\n",
    "$$"
   ],
   "metadata": {}
  },
  {
   "cell_type": "markdown",
   "source": [
    "$$\r\n",
    "(r_b, \\phi_b) = (\\frac{L}{2},\\phi(t) + \\pi).\r\n",
    "$$"
   ],
   "metadata": {}
  },
  {
   "cell_type": "markdown",
   "source": [
    "Ainda, podemos escrever o ângulo $\\phi$ como uma função do tempo utlizando do fato de que a velocidade angular $\\omega$ é constante:"
   ],
   "metadata": {}
  },
  {
   "cell_type": "markdown",
   "source": [
    "$$\r\n",
    "\\phi(t) = \\omega t + \\phi_0.\r\n",
    "$$"
   ],
   "metadata": {}
  },
  {
   "cell_type": "markdown",
   "source": [
    "Admitindo o ângulo inicial $\\phi_0 = 0$, ficamos com as seguintes equações em coordenadas polares:"
   ],
   "metadata": {}
  },
  {
   "cell_type": "markdown",
   "source": [
    "$$\r\n",
    "(r_a, \\phi_a) = (\\frac{L}{2},\\omega t),\r\n",
    "$$"
   ],
   "metadata": {}
  },
  {
   "cell_type": "markdown",
   "source": [
    "$$\r\n",
    "(r_b, \\phi_b) = (\\frac{L}{2},\\omega t + \\pi).\r\n",
    "$$"
   ],
   "metadata": {}
  },
  {
   "cell_type": "markdown",
   "source": [
    "Transformando para coordenadas cartesianas, teremos:"
   ],
   "metadata": {}
  },
  {
   "cell_type": "markdown",
   "source": [
    "$$\r\n",
    "(x_a',y_a') = \\frac{L}{2}(cos(\\omega t), sin(\\omega t)),\r\n",
    "$$"
   ],
   "metadata": {}
  },
  {
   "cell_type": "markdown",
   "source": [
    "$$\r\n",
    "(x_b',y_b') = \\frac{L}{2}(cos(\\omega t + \\pi), sin(\\omega t + \\pi)).\r\n",
    "$$"
   ],
   "metadata": {}
  },
  {
   "cell_type": "markdown",
   "source": [
    "Por fim, as extremidades do bastão vistas por um observador parado no chão podem ser dadas pela soma vetorial da posição do centro de massa com a posição de cada extremidade relativamente ao centro de massa. Portanto, teremos as seguintes equações resultantes de todo o processo que fizemos acima:"
   ],
   "metadata": {}
  },
  {
   "cell_type": "markdown",
   "source": [
    "$$\r\n",
    "(x_a, y_a) = (v_0 cos(\\theta) t + \\frac{L}{2} cos(\\omega t), v_0 sin(\\theta) t - \\frac{1}{2}gt^2 + \\frac{L}{2} sin(\\omega t)),\r\n",
    "$$"
   ],
   "metadata": {}
  },
  {
   "cell_type": "markdown",
   "source": [
    "$$\r\n",
    "(x_b, y_b) = (v_0 cos(\\theta) t + \\frac{L}{2} cos(\\omega t + \\pi), v_0 sin(\\theta) t - \\frac{1}{2}gt^2 + \\frac{L}{2} sin(\\omega t + \\pi)).\r\n",
    "$$"
   ],
   "metadata": {}
  },
  {
   "cell_type": "markdown",
   "source": [
    "### 2.2 Plotando o gráfico do movimento do bastão"
   ],
   "metadata": {}
  },
  {
   "cell_type": "markdown",
   "source": [
    "Primeiramente, vamos definir os valores das condições iniciais para o lançamento de nosso bastão. Definiremos:\r\n",
    "\r\n",
    "$L$ = 1 m, $v_0$ = 30 m/s, $\\theta$ = pi/4 e $\\omega$ = 20 rad/s."
   ],
   "metadata": {}
  },
  {
   "cell_type": "code",
   "execution_count": 2,
   "source": [
    "L = 1\r\n",
    "v0 = 30\r\n",
    "theta = pi/4\r\n",
    "omega = 20"
   ],
   "outputs": [],
   "metadata": {}
  },
  {
   "cell_type": "markdown",
   "source": [
    "Depois, definiremos as funções que nos auxiliarão a descrever o movimento do bastão, utilizando os valores obtidos das equações acima."
   ],
   "metadata": {}
  },
  {
   "cell_type": "code",
   "execution_count": 3,
   "source": [
    "def coord_cm(t):\r\n",
    "    x = v0*cos(theta)*t\r\n",
    "    y = v0*sin(theta)*t - 1/2*g*t*t\r\n",
    "    return x, y\r\n",
    "\r\n",
    "def coord_a(t):\r\n",
    "    x_cm, y_cm = coord_cm(t)\r\n",
    "    x = x_cm + L/2*cos(omega*t)\r\n",
    "    y = y_cm + L/2*sin(omega*t)\r\n",
    "    return x, y\r\n",
    "\r\n",
    "def coord_b(t):\r\n",
    "    x_cm, y_cm = coord_cm(t)\r\n",
    "    x = x_cm + L/2*cos(omega*t + pi)\r\n",
    "    y = y_cm + L/2*sin(omega*t + pi)\r\n",
    "    return x, y"
   ],
   "outputs": [],
   "metadata": {}
  },
  {
   "cell_type": "markdown",
   "source": [
    "Por fim, podemos fazer uma função que plota o gráfico da posição do centro de massa e de suas extremidades em forma de animação da seguinte maneira:"
   ],
   "metadata": {}
  },
  {
   "cell_type": "code",
   "execution_count": 4,
   "source": [
    "def plot_baton():\r\n",
    "    x_a_list = []\r\n",
    "    y_a_list = []\r\n",
    "    x_b_list = []\r\n",
    "    y_b_list = []\r\n",
    "    x_cm_list = []\r\n",
    "    y_cm_list = []\r\n",
    "\r\n",
    "    fig, ax = plt.subplots()\r\n",
    "\r\n",
    "    plt_a_dot, = ax.plot([], [],'bo', markersize = 6)\r\n",
    "    plt_b_dot, = ax.plot([], [],'go', markersize = 6)\r\n",
    "    plt_cm_dot, = ax.plot([], [],'ro', markersize = 5)\r\n",
    "    plt_a, = ax.plot([], [],'b--')\r\n",
    "    plt_b, = ax.plot([], [],'g--')\r\n",
    "    plt_cm, = ax.plot([], [],'r-')\r\n",
    "    plt_line, = ax.plot([], [],'r-')\r\n",
    "\r\n",
    "    ax.set_ylim(0, 25)\r\n",
    "    ax.set_xlim(0, 100)\r\n",
    "    ax.set_xlabel(\"x\")\r\n",
    "    ax.set_ylabel(\"y\")\r\n",
    "    ax.set_label(\"Trajetória do lançamento de um bastão\")\r\n",
    "    ax.legend((\"Extremidade a\", \"Extremidade b\", \"Centro de massa\"))\r\n",
    "\r\n",
    "    def baton_plots(t):\r\n",
    "        x_a, y_a = coord_a(t)\r\n",
    "        x_a_list.append(x_a)\r\n",
    "        y_a_list.append(y_a)\r\n",
    "\r\n",
    "        x_b, y_b = coord_b(t)\r\n",
    "        x_b_list.append(x_b)\r\n",
    "        y_b_list.append(y_b)\r\n",
    "\r\n",
    "        x_cm, y_cm = coord_cm(t)\r\n",
    "        x_cm_list.append(x_cm)\r\n",
    "        y_cm_list.append(y_cm)\r\n",
    "\r\n",
    "        linex = [x_a, x_b]\r\n",
    "        liney = [y_a, y_b]\r\n",
    "\r\n",
    "        plt_a.set_data(x_a_list, y_a_list)\r\n",
    "        plt_a_dot.set_data(x_a, y_a)\r\n",
    "        plt_b.set_data(x_b_list, y_b_list)\r\n",
    "        plt_b_dot.set_data(x_b, y_b)\r\n",
    "        plt_cm.set_data(x_cm_list, y_cm_list)\r\n",
    "        plt_cm_dot.set_data(x_cm, y_cm)\r\n",
    "        plt_line.set_data(linex, liney)\r\n",
    "\r\n",
    "        return plt_a, plt_a_dot, plt_b, plt_b_dot, plt_cm, plt_cm_dot, plt_line,\r\n",
    "\r\n",
    "    t_list = linspace(0, 5, 200)\r\n",
    "    ani = animation.FuncAnimation(fig, baton_plots, t_list, interval=10, blit=True, repeat=False)\r\n",
    "    ani.save('baton.gif')"
   ],
   "outputs": [],
   "metadata": {}
  },
  {
   "cell_type": "markdown",
   "source": [
    "E, então, quando chamamos a função, obtemos o gráfico a seguir.\r\n",
    "\r\n",
    "![Gráfico do movimento do bastão](../Imagens/baton.gif)"
   ],
   "metadata": {}
  },
  {
   "cell_type": "markdown",
   "source": [
    "# Referências"
   ],
   "metadata": {}
  },
  {
   "cell_type": "markdown",
   "source": [
    "[1] Computational Physics: Problem Solving with Computers, Enlarged eTextBook Python 3rd Edition."
   ],
   "metadata": {}
  }
 ],
 "metadata": {
  "interpreter": {
   "hash": "0e1898d504e473bdd4635340539d41a5cecc72accb8598f6f0c7bcb5921af418"
  },
  "kernelspec": {
   "name": "python3",
   "display_name": "Python 3.8.8 32-bit ('base': conda)"
  },
  "language_info": {
   "codemirror_mode": {
    "name": "ipython",
    "version": 3
   },
   "file_extension": ".py",
   "mimetype": "text/x-python",
   "name": "python",
   "nbconvert_exporter": "python",
   "pygments_lexer": "ipython3",
   "version": "3.8.8"
  }
 },
 "nbformat": 4,
 "nbformat_minor": 2
}