{
 "cells": [
  {
   "cell_type": "markdown",
   "metadata": {},
   "source": [
    "# O canhão de Newton"
   ]
  },
  {
   "cell_type": "markdown",
   "metadata": {},
   "source": [
    "* PET - Física UFRN\n",
    "* Petiano: Moisés da Rocha Alves\n",
    "* Data: 13 de Abril de 2022\n",
    "\n",
    "Neste `Notebook` construiremos o tão conhecido canhão de Newton.\n",
    "\n",
    "O objetivo é modelar o problema de tal forma que possamos obter as equações diferenciais necessárias para resolver o problema. Em seguida, construiremos a solução computacional para as diferentes condições iniciais que definiremos para o problema."
   ]
  },
  {
   "cell_type": "markdown",
   "metadata": {},
   "source": [
    "### Importando as bibliotecas necessárias"
   ]
  },
  {
   "cell_type": "markdown",
   "metadata": {},
   "source": [
    "Neste `Notebook`, utilizaremos as bibliotecas `matplotlib`, `scipy` e `numpy`."
   ]
  },
  {
   "cell_type": "code",
   "execution_count": 1,
   "metadata": {},
   "outputs": [],
   "source": [
    "import matplotlib.pyplot as plt\n",
    "import scipy.constants as sconst\n",
    "import numpy as np"
   ]
  },
  {
   "cell_type": "markdown",
   "metadata": {},
   "source": [
    "## 1. O que é o canhão de Newton?"
   ]
  },
  {
   "cell_type": "markdown",
   "metadata": {},
   "source": [
    "Imagine que você está em cima de uma montanha e atira uma bola de canhão horizontalmente. Até tocar o chão, qual será a trajetória da bola de canhão? A resposta natural seria algo no formato de um arco. Este arco seria cada vez maior conforme aumentássemos a velocidade inicial da bola de canhão.\n",
    "\n",
    "Com a velocidade \"certa\", podemos imaginar uma situação onde o projétil daria uma volta completa em torno da Terra, sempre “caindo” sob ação da gravidade, mas nunca alcançando a Terra. O experimento mental feito por Isaac Newton trata justamente desta questão.\n",
    "\n",
    "![O canhão de Newton](../Imagens/canhao.jpg)"
   ]
  },
  {
   "cell_type": "markdown",
   "metadata": {},
   "source": [
    "## 2. Modelando o canhão"
   ]
  },
  {
   "cell_type": "markdown",
   "metadata": {},
   "source": [
    "Suponha que tenhamos uma bola de canhão de massa $m$ que está sujeita a uma atração gravitacional causada por um corpo de massa $M$ e raio $R$. Estrategicamente, colocaremos a origem de nosso sistema no centro de massa do corpo de massa $M$. A posição de nossa bola de canhão poderá ser dada pelo vetor $\\vec{r}$.\n",
    "\n",
    "Assim, podemos dizer que a força gravitacional $\\vec{F}$ que age em $m$ devido a $M$ poderá ser dada por (para simplificar o uso da notação, usemos $||\\vec{r}|| = r$)\n",
    "\n",
    "$$\n",
    "\\vec{F} = -G\\frac{mM}{r^2}\\hat{r}.\n",
    "$$\n",
    "\n",
    "Assim, podemos dizer que\n",
    "\n",
    "$$\n",
    "\\vec{g} = -G\\frac{M}{r^2}\\hat{r}.\n",
    "$$\n",
    "\n",
    "Como $\\hat{r} = \\vec{r}/r$, sabendo que $\\vec{r} = x\\hat{i} + y\\hat{j}$, teremos\n",
    "\n",
    "$$\n",
    "\\vec{g} = -G\\frac{M}{r^3}(x\\hat{i} + y\\hat{j}).\n",
    "$$\n",
    "\n",
    "O que nos dará as seguintes equações diferenciais de segunda ordem\n",
    "\n",
    "$$\n",
    "\\frac{d^2x}{dt^2} = - \\frac{GM}{r^3}x,\n",
    "$$\n",
    "$$\n",
    "\\frac{d^2y}{dt^2} = - \\frac{GM}{r^3}y,\n",
    "$$\n",
    "\n",
    "onde $r$ pode ser dado por $r = \\sqrt{x^2 + y^2}$.\n",
    "\n",
    "Por fins práticos, podemos escrever que\n",
    "\n",
    "$$\n",
    "\\frac{dx}{dt} = v_x,\n",
    "$$\n",
    "$$\n",
    "\\frac{dy}{dt} = v_y,\n",
    "$$\n",
    "\n",
    "para que\n",
    "\n",
    "$$\n",
    "\\frac{dv_x}{dt} = - \\frac{GM}{r^3}x,\n",
    "$$\n",
    "$$\n",
    "\\frac{dv_y}{dt} = - \\frac{GM}{r^3}y,\n",
    "$$\n",
    "\n",
    "originando 4 EDO's de 1ª ordem."
   ]
  },
  {
   "cell_type": "markdown",
   "metadata": {},
   "source": [
    " Para o nosso problema em específico, definiremos algumas condições iniciais interessantes que nos permitirão resolver o problema."
   ]
  },
  {
   "cell_type": "markdown",
   "metadata": {},
   "source": [
    "![](../Imagens/diagramacondicoesiniciais.png)"
   ]
  },
  {
   "cell_type": "markdown",
   "metadata": {},
   "source": [
    "O diagrama acima mostra esquematicamente como definiremos algumas das condições iniciais do problema."
   ]
  },
  {
   "cell_type": "markdown",
   "metadata": {},
   "source": [
    "Em $t = 0$, portanto:\n",
    "\n",
    "$$\n",
    "x = 0,\\ \\ y = R + H,\n",
    "$$\n",
    "\n",
    "$$\n",
    "v_x = v_{0x},\\ \\ v_y = 0.\n",
    "$$\n"
   ]
  },
  {
   "cell_type": "markdown",
   "metadata": {},
   "source": [
    "Agora, basta que utilizemos algum método pra lidar com estas equações diferenciais, desde que temos as condições iniciais. Para isso, utilizaremos o método de Runge-Kutta de 4ª ordem."
   ]
  },
  {
   "cell_type": "markdown",
   "metadata": {},
   "source": [
    "## 3. Resolvendo o problema"
   ]
  },
  {
   "cell_type": "markdown",
   "metadata": {},
   "source": [
    "Recordemos como é enunciado o método de Runge-Kutta de 4ª ordem (RK4).\n",
    "\n",
    "Seja um problema de valor inicial especificado tal que:\n",
    "\n",
    "$$\n",
    "y' = f(t, y), \\ \\ y(t_0) = y_0.\n",
    "$$\n",
    "\n",
    "Então o método RK4 para este problema é dado pelas seguintes equações:\n",
    "\n",
    "$$\n",
    "y_{n+1} = y_{n} + \\frac{h}{6}(k_1 + 2k_2 + 2k_3 + k_4),\n",
    "$$\n",
    "\n",
    "$$\n",
    "t_{n+1} = t_{n} + h,\n",
    "$$\n",
    "\n",
    "onde $y_{n+1}$ é a aproximação por RK4 de $y(t_{n+1})$, e\n",
    "\n",
    "$$\n",
    "k_1 = f(t_n,y_n),\n",
    "$$\n",
    "$$\n",
    "k_2 = f(t_n + \\frac{h}{2}, y_n + \\frac{h}{2}k_1),\n",
    "$$\n",
    "$$\n",
    "k_3 = f(t_n + \\frac{h}{2}, y_n + \\frac{h}{2}k_2),\n",
    "$$\n",
    "$$\n",
    "k_4 = f(t_n + h, y_n + hk_3).\n",
    "$$"
   ]
  },
  {
   "cell_type": "markdown",
   "metadata": {},
   "source": [
    "Dado o nosso problema, teremos uma função $f$ para cada uma das 4 EDO's originadas. Portanto\n",
    "\n",
    "$$\n",
    "f_x = v_x,\n",
    "$$\n",
    "\n",
    "$$\n",
    "f_{v_x} = - \\frac{GM}{r^3}x,\n",
    "$$\n",
    "\n",
    "$$\n",
    "f_y = v_y,\n",
    "$$\n",
    "\n",
    "$$\n",
    "f_{v_y} = - \\frac{GM}{r^3}y.\n",
    "$$"
   ]
  },
  {
   "cell_type": "markdown",
   "metadata": {},
   "source": [
    "Para fins práticos, faremos uma array `r` que conterá os valores de $x$, $v_x$, $y$ e $v_y$. Também definiremos alguns parâmetros iniciais."
   ]
  },
  {
   "cell_type": "markdown",
   "metadata": {},
   "source": [
    "Desprezando os diversos efeitos que possam surgir e considerando a Terra como sendo aproximadamente esférica, faremos dela (aproximadamente) o objeto de massa M. Assim, consideraremos as seguintes condições iniciais.\n",
    "\n",
    "$$\n",
    "G \\approx 6.674184 \\cdot 10^{-11}\\  m^3 kg^{-1} s^{-1},\n",
    "$$\n",
    "$$\n",
    "M \\approx 5.9722 \\cdot 10^{24}\\ kg,\n",
    "$$\n",
    "$$\n",
    "R \\approx 6371\\ km,\n",
    "$$\n",
    "$$\n",
    "H = 2000\\ km,\n",
    "$$\n",
    "$$\n",
    "x = 0, \\ \\ y = H + R.\n",
    "$$\n",
    "$$\n",
    "v_x = 1\\ km/s, \\ \\ v_y = 0.\n",
    "$$\n",
    "\n",
    "Iremos avaliar 5000 pontos de $t = 0$ até $t = 20000s$. "
   ]
  },
  {
   "cell_type": "markdown",
   "metadata": {},
   "source": [
    "Em código:"
   ]
  },
  {
   "cell_type": "code",
   "execution_count": 2,
   "metadata": {},
   "outputs": [],
   "source": [
    "# Definindo parâmetros iniciais\n",
    "\n",
    "G = sconst.G # (m^3.kg^-1.s^-2)\n",
    "M = 5.9722e+24 # (kg)\n",
    "R = 6371000 # (metros)\n",
    "H = 2000000 # (metros)\n",
    "x, y = 0, H + R\n",
    "vx, vy = 1000.0, 0.0\n",
    "r = np.array([x, vx, y, vy],float)\n",
    "t1, t2 = 0, 20000.0\n",
    "N = 5000\n",
    "h = (t2-t1)/N"
   ]
  },
  {
   "cell_type": "markdown",
   "metadata": {},
   "source": [
    "Definiremos, também, nossa função `f`, que receberá como parâmetro a array `r` (que leva consigo os valores de $x$, $v_x$, $f_y$ e $v_y$). Esta função terá como retorno uma outra array com os valores de $f_x$, $f_{v_x}$, $f_y$ e $f_{v_y}$."
   ]
  },
  {
   "cell_type": "markdown",
   "metadata": {},
   "source": [
    "Pelo fim de diferenciar a array `r` do programa e a distância $r$ utilizada na seção onde modelamos o canhão, representaremos a distância $r$ como sendo a variável `rr` no programa."
   ]
  },
  {
   "cell_type": "code",
   "execution_count": 3,
   "metadata": {},
   "outputs": [],
   "source": [
    "# Definindo f(r)\n",
    "def f(r,t):\n",
    "    x, vx, y, vy = r[0],r[1],r[2],r[3]\n",
    "    rr = np.sqrt(x*x + y*y)\n",
    "\n",
    "    fx = vx\n",
    "    fvx = -G*M*x/(rr**3)\n",
    "    fy = vy\n",
    "    fvy = -G*M*y/(rr**3)\n",
    "\n",
    "    return np.array([fx, fvx, fy, fvy], float)"
   ]
  },
  {
   "cell_type": "markdown",
   "metadata": {},
   "source": [
    "É necessário agora implementarmos uma função que execute o método RK4. Usaremos a função `RK4` para isso."
   ]
  },
  {
   "cell_type": "code",
   "execution_count": 4,
   "metadata": {},
   "outputs": [],
   "source": [
    "# Definindo a função do método de Runge-Kutta de 4a ordem\n",
    "def RK4(r,t):\n",
    "    k1 = h*f(r,t)\n",
    "    k2 = h*f(r+0.5*k1,t+0.5*h)\n",
    "    k3 = h*f(r+0.5*k2,t+0.5*h)\n",
    "    k4 = h*f(r+k3,t+h)\n",
    "    return r+(1/6)*(k1+2*k2+2*k3+k4)"
   ]
  },
  {
   "cell_type": "markdown",
   "metadata": {},
   "source": [
    "Agora, executaremos o código impondo a seguinte condição: caso a distância $r$ (representada por `rr` no código) for menor que o raio $R$, o valor não deverá mais ser computado.\n",
    "\n",
    "A condição se faz necessária, pois ela indicará que a bola de canhão terá encostado na superfície terrestre.\n",
    "\n",
    "Em código, computaremos o valor apenas quando $r$ for maior ou igual a $R$.  "
   ]
  },
  {
   "cell_type": "code",
   "execution_count": 5,
   "metadata": {},
   "outputs": [],
   "source": [
    "# Definindo listas\n",
    "tempos = np.linspace(t1, t2, N)\n",
    "y_list = []\n",
    "x_list = []\n",
    "\n",
    "# Computando o valor\n",
    "for t in tempos:\n",
    "    rr = np.sqrt(r[0]*r[0] + r[2]*r[2])\n",
    "    if(rr >= R):\n",
    "        r = RK4(r,t)\n",
    "    x_list.append(r[0])\n",
    "    y_list.append(r[2])\n",
    "    "
   ]
  },
  {
   "cell_type": "markdown",
   "metadata": {},
   "source": [
    "Por fim, plotamos o nosso gráfico. Plotaremos, também, o círculo de raio $R$ para referência visual."
   ]
  },
  {
   "cell_type": "code",
   "execution_count": 6,
   "metadata": {},
   "outputs": [
    {
     "data": {
      "image/png": "[encoded data removed]",
      "text/plain": [
       "<Figure size 432x288 with 1 Axes>"
      ]
     },
     "metadata": {
      "needs_background": "light"
     },
     "output_type": "display_data"
    }
   ],
   "source": [
    "# Definindo os pontos do círculo de raio R\n",
    "theta_list = np.linspace(0, 2*np.pi, N)\n",
    "xR_list = []\n",
    "yR_list = []\n",
    "for theta in theta_list:\n",
    "    xR = R*np.cos(theta)\n",
    "    yR = R*np.sin(theta)\n",
    "    xR_list.append(xR)\n",
    "    yR_list.append(yR)\n",
    "\n",
    "# Plotando o gráfico e o círculo de raio R\n",
    "plt.title(\"Trajetória da bala de canhão\\n para uma altura H = 2000km\", fontsize = 10)\n",
    "plt.plot(xR_list, yR_list)\n",
    "plt.plot(x_list, y_list, label=\"$v_0 = 1\\ km/s$\")\n",
    "plt.xlabel(\"x (m)\")\n",
    "plt.ylabel(\"y (m)\")\n",
    "plt.legend(prop={'size': 8})\n",
    "plt.axis('square')\n",
    "plt.xlim(-1e7, 1e7)\n",
    "plt.ylim(-1e7, 1e7)\n",
    "plt.show()"
   ]
  },
  {
   "cell_type": "markdown",
   "metadata": {},
   "source": [
    "Note que a trajetória será mais ou menos como o esperado. Como a velocidade que usamos é bem menor que a velocidade orbital necessária para esta faixa de altura $H$, teremos a trajetória de um simples arco que cai em direção a superfície terrestre.\n",
    "\n",
    "Façamos agora múltiplas simulações para diferentes velocidades iniciais. Assim, para $t = 0$, nos múltiplos casos:"
   ]
  },
  {
   "cell_type": "markdown",
   "metadata": {},
   "source": [
    "\n",
    "$$\n",
    "v_{1x} = 1000\\ m/s\n",
    "$$\n",
    "\n",
    "$$\n",
    "v_{2x} = 2000\\ m/s\n",
    "$$\n",
    "\n",
    "$$\n",
    "v_{3x} = 4000\\ m/s\n",
    "$$\n",
    "\n",
    "$$\n",
    "v_{4x} = 6000\\ m/s\n",
    "$$\n",
    "\n",
    "$$\n",
    "v_{5x} = 7000\\ m/s\n",
    "$$\n",
    "\n",
    "$$\n",
    "v_{6x} = 8000\\ m/s\n",
    "$$"
   ]
  },
  {
   "cell_type": "markdown",
   "metadata": {},
   "source": [
    "Neste caso, para cada velocidade inicial, teremos um conjunto de EDO's pra solucionar. Assim, é mais cômodo que façamos o processo da seguinte forma:"
   ]
  },
  {
   "cell_type": "code",
   "execution_count": 7,
   "metadata": {},
   "outputs": [],
   "source": [
    "def trajectory(v):\n",
    "    x, y = 0, H + R\n",
    "    vx, vy = v, 0.0\n",
    "    r = np.array([x, vx, y, vy],float)\n",
    "\n",
    "    # Definindo listas\n",
    "    tempos = np.linspace(t1, t2, N)\n",
    "    y_list = []\n",
    "    x_list = []\n",
    "\n",
    "    # Computando o valor\n",
    "    for t in tempos:\n",
    "        rr = np.sqrt(r[0]*r[0] + r[2]*r[2])\n",
    "        if(rr >= R):\n",
    "            r = RK4(r,t)\n",
    "        x_list.append(r[0])\n",
    "        y_list.append(r[2])\n",
    "    return x_list, y_list\n",
    "    "
   ]
  },
  {
   "cell_type": "markdown",
   "metadata": {},
   "source": [
    "Primeiramente, definimos uma função chamada `trajectory` que recebe como parâmetro uma condição inicial de $v_x$ e retorna as listas que contém as coordenadas de $x$ e $y$ para cada condição inicial dada.\n",
    "\n",
    "Agora, o que faremos é definir uma lista com diferentes velocidades iniciais de $v_x$ e, para cada elemento desta lista, faremos o mesmo processo de gerar as listas contendo as trajetórias.\n",
    "\n",
    "Em seguida, plotamos os gráficos das diferentes trajetórias."
   ]
  },
  {
   "cell_type": "code",
   "execution_count": 8,
   "metadata": {},
   "outputs": [
    {
     "data": {
      "image/png": "[encoded data removed]",
      "text/plain": [
       "<Figure size 432x288 with 1 Axes>"
      ]
     },
     "metadata": {
      "needs_background": "light"
     },
     "output_type": "display_data"
    }
   ],
   "source": [
    "\n",
    "# Plotando o círculo de raio R\n",
    "plt.plot(xR_list, yR_list, label=\"Superfície terrestre\")\n",
    "\n",
    "vx_list = [1000.0, 2000.0, 4000.0, 6000.0, 7000.0, 8000.0]\n",
    "\n",
    "for v in vx_list:\n",
    "    x_list, y_list = trajectory(v)\n",
    "    plt.plot(x_list, y_list, label=\"$v_0 = $\" + str(v/1000) + \"$\\ km/s$\")\n",
    "\n",
    "# Plotando os gráficos\n",
    "plt.title(\"Trajetória da bala de canhão\\n para uma altura H = 2000km\", fontsize = 10)\n",
    "plt.xlabel(\"x (m)\")\n",
    "plt.ylabel(\"y (m)\")\n",
    "plt.legend(prop={'size': 8})\n",
    "plt.axis('square')\n",
    "plt.xlim(-2e7, 2e7)\n",
    "plt.ylim(-2e7, 2e7)\n",
    "plt.show()\n"
   ]
  },
  {
   "cell_type": "markdown",
   "metadata": {},
   "source": [
    "Podemos ver, por meio do gráfico acima, que uma velocidade orbital para uma órbita circular estará em torno de $7\\ km/s$, enquanto velocidades superiores, como $8\\ km/s$, geram uma órbita elíptica. \n",
    "\n",
    "Para velocidades inferiores ($6\\ km/s$ ou menor), podemos ver que não há órbita gerada, pois a bola de canhão acaba se chocando com a superfície terrestre."
   ]
  },
  {
   "cell_type": "markdown",
   "metadata": {},
   "source": [
    "## Conclusão"
   ]
  },
  {
   "cell_type": "markdown",
   "metadata": {},
   "source": [
    "Um dos intuitos deste `Notebook` foi mostrar como a construção deste tipo de problema pode ser feita. Quando tratamos de problemas deste tipo, é comum que procuremos por equações diferenciais que possamos resolver computacionalmente (como foi o caso aqui, onde usamos o método RK4).\n",
    "\n",
    "Com tudo que foi dito, concluímos por aqui este `Notebook`, onde foi possível construirmos o canhão de Newton para diferentes condições iniciais de velocidade."
   ]
  },
  {
   "cell_type": "markdown",
   "metadata": {},
   "source": [
    "## Referências"
   ]
  },
  {
   "cell_type": "markdown",
   "metadata": {},
   "source": [
    "**[1]** <https://en.wikipedia.org/wiki/Newton%27s_cannonball>\n",
    "\n",
    "**[2]** <https://en.wikipedia.org/wiki/Orbital_speed>\n",
    "\n",
    "**[3]** <https://en.wikipedia.org/wiki/Runge%E2%80%93Kutta_methods>"
   ]
  }
 ],
 "metadata": {
  "interpreter": {
   "hash": "0e1898d504e473bdd4635340539d41a5cecc72accb8598f6f0c7bcb5921af418"
  },
  "kernelspec": {
   "display_name": "Python 3.8.8 ('base')",
   "language": "python",
   "name": "python3"
  },
  "language_info": {
   "codemirror_mode": {
    "name": "ipython",
    "version": 3
   },
   "file_extension": ".py",
   "mimetype": "text/x-python",
   "name": "python",
   "nbconvert_exporter": "python",
   "pygments_lexer": "ipython3",
   "version": "3.8.8"
  },
  "orig_nbformat": 4
 },
 "nbformat": 4,
 "nbformat_minor": 2
}
