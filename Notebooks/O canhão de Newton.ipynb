{
 "cells": [
  {
   "cell_type": "markdown",
   "metadata": {},
   "source": [
    "# O canhão de Newton"
   ]
  },
  {
   "cell_type": "markdown",
   "metadata": {},
   "source": [
    "* PET - Física UFRN\n",
    "* Petiano: Moisés da Rocha Alves\n",
    "* Data: 13 de Abril de 2022\n",
    "\n",
    "Neste `Notebook` construiremos o tão conhecido canhão de Newton.\n",
    "\n",
    "O objetivo é modelar o problema de tal forma que possamos obter as equações diferenciais necessárias para resolver o problema. Em seguida, construiremos a solução computacional para as diferentes condições iniciais que definiremos para o problema."
   ]
  },
  {
   "cell_type": "markdown",
   "metadata": {},
   "source": [
    "### Importando as bibliotecas necessárias"
   ]
  },
  {
   "cell_type": "markdown",
   "metadata": {},
   "source": [
    "Neste `Notebook`, utilizaremos as bibliotecas `matplotlib`, `scipy` e `numpy`."
   ]
  },
  {
   "cell_type": "code",
   "execution_count": null,
   "metadata": {},
   "outputs": [],
   "source": [
    "import matplotlib.pyplot as plt\n",
    "import scipy.constants as sconst\n",
    "import numpy as np"
   ]
  },
  {
   "cell_type": "markdown",
   "metadata": {},
   "source": [
    "## 1. O que é o canhão de Newton?"
   ]
  },
  {
   "cell_type": "markdown",
   "metadata": {},
   "source": [
    "Imagine que você está em cima de uma montanha e atira uma bola de canhão horizontalmente. Até tocar o chão, qual será a trajetória da bola de canhão? A resposta natural seria algo no formato de um arco. Este arco seria cada vez maior conforme aumentássemos a velocidade inicial da bola de canhão.\n",
    "\n",
    "Com a velocidade \"certa\", podemos imaginar uma situação onde o projétil daria uma volta completa em torno da Terra, sempre “caindo” sob ação da gravidade, mas nunca alcançando a Terra. O experimento mental feito por Isaac Newton trata justamente desta questão.\n",
    "\n",
    "![O canhão de Newton](../Imagens/canhao.jpg)"
   ]
  },
  {
   "cell_type": "markdown",
   "metadata": {},
   "source": [
    "## 2. Modelando o canhão"
   ]
  },
  {
   "cell_type": "markdown",
   "metadata": {},
   "source": [
    "Suponha que tenhamos uma bola de canhão de massa $m$ que está sujeita a uma atração gravitacional causada por um corpo de massa $M$ e raio $R$. Estrategicamente, colocaremos a origem de nosso sistema no centro de massa do corpo de massa $M$. A posição de nossa bola de canhão poderá ser dada pelo vetor $\\vec{r}$.\n",
    "\n",
    "Assim, podemos dizer que a força gravitacional $\\vec{F}$ que age em $m$ devido a $M$ poderá ser dada por (para simplificar o uso da notação, usemos $||\\vec{r}|| = r$)\n",
    "\n",
    "$$\n",
    "\\vec{F} = -G\\frac{mM}{r^2}\\hat{r}.\n",
    "$$\n",
    "\n",
    "Assim, podemos dizer que\n",
    "\n",
    "$$\n",
    "\\vec{g} = -G\\frac{M}{r^2}\\hat{r}.\n",
    "$$\n",
    "\n",
    "Como $\\hat{r} = \\vec{r}/r$, sabendo que $\\vec{r} = x\\hat{i} + y\\hat{j}$, teremos\n",
    "\n",
    "$$\n",
    "\\vec{g} = -G\\frac{M}{r^3}(x\\hat{i} + y\\hat{j}).\n",
    "$$\n",
    "\n",
    "O que nos dará as seguintes equações diferenciais de segunda ordem\n",
    "\n",
    "$$\n",
    "\\frac{d^2x}{dt^2} = - \\frac{GM}{r^3}x,\n",
    "$$\n",
    "$$\n",
    "\\frac{d^2y}{dt^2} = - \\frac{GM}{r^3}y,\n",
    "$$\n",
    "\n",
    "onde $r$ pode ser dado por $r = \\sqrt{x^2 + y^2}$.\n",
    "\n",
    "Por fins práticos (que vamos ver mais tarde), podemos dizer que\n",
    "\n",
    "$$\n",
    "\\frac{dx}{dt} = v_x,\n",
    "$$\n",
    "$$\n",
    "\\frac{dy}{dt} = v_y,\n",
    "$$\n",
    "\n",
    "para que\n",
    "\n",
    "$$\n",
    "\\frac{dv_x}{dt} = - \\frac{GM}{r^3}x,\n",
    "$$\n",
    "$$\n",
    "\\frac{dv_y}{dt} = - \\frac{GM}{r^3}y,\n",
    "$$\n",
    "\n",
    "originando 4 EDOS de 1ª ordem."
   ]
  },
  {
   "cell_type": "markdown",
   "metadata": {},
   "source": [
    " Para o nosso problema em específico, definiremos algumas condições iniciais interessantes que nos permitirão resolver o problema."
   ]
  },
  {
   "cell_type": "markdown",
   "metadata": {},
   "source": [
    "![](../Imagens/diagramacondicoesiniciais.png)"
   ]
  },
  {
   "cell_type": "markdown",
   "metadata": {},
   "source": [
    "O diagrama acima mostra esquematicamente como definiremos algumas das condições iniciais do problema."
   ]
  },
  {
   "cell_type": "markdown",
   "metadata": {},
   "source": [
    "Em $t = 0$, portanto:\n",
    "\n",
    "$$\n",
    "x = 0, y = R + H,\n",
    "$$\n",
    "\n",
    "$$\n",
    "v_x = v_{0x}, v_y = 0.\n",
    "$$\n"
   ]
  },
  {
   "cell_type": "markdown",
   "metadata": {},
   "source": [
    "Agora, basta que utilizemos algum método pra lidar com estas equações diferenciais, desde que temos as condições iniciais. Para isso, neste `Notebook`, utilizaremos o método de Runge-Kutta."
   ]
  },
  {
   "cell_type": "markdown",
   "metadata": {},
   "source": [
    "## 3. Resolvendo o problema"
   ]
  }
 ],
 "metadata": {
  "language_info": {
   "name": "python"
  },
  "orig_nbformat": 4
 },
 "nbformat": 4,
 "nbformat_minor": 2
}
